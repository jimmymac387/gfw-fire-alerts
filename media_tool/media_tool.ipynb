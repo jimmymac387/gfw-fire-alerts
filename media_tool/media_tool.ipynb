{
 "metadata": {
  "language_info": {
   "codemirror_mode": {
    "name": "ipython",
    "version": 3
   },
   "file_extension": ".py",
   "mimetype": "text/x-python",
   "name": "python",
   "nbconvert_exporter": "python",
   "pygments_lexer": "ipython3",
   "version": 3
  },
  "orig_nbformat": 2
 },
 "nbformat": 4,
 "nbformat_minor": 2,
 "cells": [
  {
   "source": [
    "# Quickly generate insights about fires in arbitrary places\n",
    "- When and where did these firest begin?\n",
    "    - Use start of fire season as reference\n",
    "- How have these fires progressed since starting?\n",
    "- Who or what has been affected already?\n",
    "    - Amount of area burned (kha)\n",
    "    - Amount of tree cover lost (kha)\n",
    "    - Amount of carbon dioxide released (tons)\n",
    "    - Number of people displaced\n",
    "- Who or what is at risk if fires continue?\n",
    "    - Amount of tree cover within x km of fire perimeter (kha)\n",
    "    - Number of people within x km of fire perimeter\n",
    "- How severe is the fire?\n",
    "- What is driving the severity of these fires?\n",
    "- How common/uncommon is this fire season?\n",
    "- What are the public and societal consequences of these fires?\n",
    "- How did the fire start?"
   ],
   "cell_type": "markdown",
   "metadata": {}
  }
 ]
}