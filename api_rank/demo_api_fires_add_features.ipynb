{
 "metadata": {
  "language_info": {
   "codemirror_mode": {
    "name": "ipython",
    "version": 3
   },
   "file_extension": ".py",
   "mimetype": "text/x-python",
   "name": "python",
   "nbconvert_exporter": "python",
   "pygments_lexer": "ipython3",
   "version": "3.9.2"
  },
  "orig_nbformat": 2,
  "kernelspec": {
   "name": "python392jvsc74a57bd0a2179a16bd7c4824ddf3156e6c5b616743c37f42a49b1bb75af21bac13b6503e",
   "display_name": "Python 3.9.2 64-bit ('fires': conda)"
  }
 },
 "nbformat": 4,
 "nbformat_minor": 2,
 "cells": [
  {
   "cell_type": "code",
   "execution_count": 1,
   "metadata": {},
   "outputs": [],
   "source": [
    "# dates.py\n",
    "from datetime import datetime as dt\n",
    "from dateutil.relativedelta import relativedelta\n",
    "\n",
    "TODAY = dt.today().date()\n",
    "NYEARS = TODAY.year - 2012 + 1\n",
    "\n",
    "\n",
    "def end_date(year):\n",
    "    return TODAY - relativedelta(years=year)\n",
    "\n",
    "\n",
    "def start_date(year, days):\n",
    "    return TODAY - relativedelta(years=year, days=days)\n",
    "\n",
    "\n",
    "def date_list(days):\n",
    "    dates = []\n",
    "    for year in range(0, NYEARS):\n",
    "        end = end_date(year)\n",
    "        start = start_date(year, days)\n",
    "        yr = end.year\n",
    "        dates.append((start, end, yr))\n",
    "    return dates"
   ]
  },
  {
   "cell_type": "code",
   "execution_count": 2,
   "metadata": {},
   "outputs": [
    {
     "output_type": "execute_result",
     "data": {
      "text/plain": [
       "[(datetime.date(2021, 5, 14), datetime.date(2021, 5, 21), 2021),\n",
       " (datetime.date(2020, 5, 14), datetime.date(2020, 5, 21), 2020),\n",
       " (datetime.date(2019, 5, 14), datetime.date(2019, 5, 21), 2019),\n",
       " (datetime.date(2018, 5, 14), datetime.date(2018, 5, 21), 2018),\n",
       " (datetime.date(2017, 5, 14), datetime.date(2017, 5, 21), 2017),\n",
       " (datetime.date(2016, 5, 14), datetime.date(2016, 5, 21), 2016),\n",
       " (datetime.date(2015, 5, 14), datetime.date(2015, 5, 21), 2015),\n",
       " (datetime.date(2014, 5, 14), datetime.date(2014, 5, 21), 2014),\n",
       " (datetime.date(2013, 5, 14), datetime.date(2013, 5, 21), 2013),\n",
       " (datetime.date(2012, 5, 14), datetime.date(2012, 5, 21), 2012)]"
      ]
     },
     "metadata": {},
     "execution_count": 2
    }
   ],
   "source": [
    "date_list(days=7)"
   ]
  },
  {
   "cell_type": "code",
   "execution_count": 3,
   "metadata": {},
   "outputs": [],
   "source": [
    "# sql-query.py\n",
    "import requests\n",
    "from datetime import datetime as dt\n",
    "\n",
    "BASE_URL = 'https://api.resourcewatch.org/v1/query'\n",
    "DATA_ID = '1c72bdb6-0f93-4319-bf47-e2f23c5f0e37'    # Daily change (ADM2)\n",
    "\n",
    "\n",
    "def date_sql(dates):\n",
    "    sql = \"\"\n",
    "    i = 0\n",
    "    # dates = date_list(days=days)\n",
    "    for start, end, year in dates:\n",
    "        if i != 0:\n",
    "            sql += \" OR \"\n",
    "        sql += \"alert__date >= '\" + start.strftime('%Y-%m-%d') + \"' AND alert__date <= '\" + end.strftime('%Y-%m-%d') + \"'\"\n",
    "        i += 1\n",
    "    return sql\n",
    "\n",
    "\n",
    "# Use the daily database table\n",
    "def build_query(iso, dates, printq=False):\n",
    "    q = (\n",
    "        \"SELECT iso, adm1, adm2, wdpa_protected_area__iucn_cat, is__umd_regional_primary_forest_2001, \" +\n",
    "        \"is__peatland, is__ifl_intact_forest_landscape_2016, alert__date, SUM(alert__count) \" +\n",
    "        # \"SELECT iso, adm1, adm2, alert__date, SUM(alert__count) \" +\n",
    "        \"as alert__count, confidence__cat \" +\n",
    "        \"FROM mytable \" +\n",
    "        f\"WHERE iso='{iso}' AND confidence__cat='h' AND ({date_sql(dates)}) \" +\n",
    "        # f\"WHERE iso='{iso}' AND adm1={adm1} AND confidence__cat='h' AND ({date_sql(days)}) \" +\n",
    "        \"GROUP BY iso, adm1, adm2, wdpa_protected_area__iucn_cat, is__umd_regional_primary_forest_2001, \" +\n",
    "        \"is__peatland, is__ifl_intact_forest_landscape_2016, alert__date\"\n",
    "    )\n",
    "    if printq:\n",
    "        print(q)\n",
    "\n",
    "    return q\n",
    "\n",
    "\n",
    "def query_params(q):\n",
    "    params = {\n",
    "        'sql': q\n",
    "    }\n",
    "    return params\n",
    "\n",
    "\n",
    "def send_request(iso, dates, printq=False):\n",
    "    q = build_query(iso, dates, printq)\n",
    "    # q = \"SELECT * FROM mytable WHERE iso='IND' AND confidence__cat='h'\"\n",
    "    p = query_params(q)\n",
    "    r = requests.get(BASE_URL + '/' + DATA_ID, params=p)\n",
    "    \n",
    "    if r.status_code == 200:\n",
    "        return r.json()['data']\n",
    "\n",
    "    else:\n",
    "        print('Something went wrong...')\n",
    "        print('Status code: ', r.status_code)\n",
    "        print('Error message: ', r.json()['errors'][0]['detail'])"
   ]
  },
  {
   "cell_type": "code",
   "execution_count": 4,
   "metadata": {},
   "outputs": [],
   "source": [
    "dates = date_list(days=7)\n",
    "data = send_request('IND', dates)"
   ]
  },
  {
   "cell_type": "code",
   "execution_count": 5,
   "metadata": {},
   "outputs": [
    {
     "output_type": "execute_result",
     "data": {
      "text/plain": [
       "[{'alert__date': '2015-05-21',\n",
       "  'alert__count': 11,\n",
       "  'is__ifl_intact_forest_landscape_2016': 'false',\n",
       "  'is__peatland': 'false',\n",
       "  'is__umd_regional_primary_forest_2001': 'false',\n",
       "  'wdpa_protected_area__iucn_cat': '0',\n",
       "  'adm2': 8,\n",
       "  'adm1': 28,\n",
       "  'iso': 'IND'},\n",
       " {'alert__date': '2012-05-14',\n",
       "  'alert__count': 1,\n",
       "  'is__ifl_intact_forest_landscape_2016': 'false',\n",
       "  'is__peatland': 'false',\n",
       "  'is__umd_regional_primary_forest_2001': 'false',\n",
       "  'wdpa_protected_area__iucn_cat': '0',\n",
       "  'adm2': 8,\n",
       "  'adm1': 28,\n",
       "  'iso': 'IND'},\n",
       " {'alert__date': '2012-05-15',\n",
       "  'alert__count': 2,\n",
       "  'is__ifl_intact_forest_landscape_2016': 'false',\n",
       "  'is__peatland': 'false',\n",
       "  'is__umd_regional_primary_forest_2001': 'false',\n",
       "  'wdpa_protected_area__iucn_cat': '0',\n",
       "  'adm2': 8,\n",
       "  'adm1': 28,\n",
       "  'iso': 'IND'}]"
      ]
     },
     "metadata": {},
     "execution_count": 5
    }
   ],
   "source": [
    "data[:3]"
   ]
  },
  {
   "cell_type": "code",
   "execution_count": 6,
   "metadata": {},
   "outputs": [],
   "source": [
    "# calculate-significance.py\n",
    "from pandas import DataFrame, to_datetime, Index\n",
    "\n",
    "CYEAR = dt.today().year\n",
    "\n",
    "\n",
    "def assign_season(date, dates):\n",
    "    for start, end, year in dates:\n",
    "        if start <= date <= end:\n",
    "            return year\n",
    "\n",
    "\n",
    "def make_df(data, dates):\n",
    "    df = DataFrame(data)\n",
    "    df['season'] = (\n",
    "        to_datetime(df['alert__date'])\n",
    "            .apply(assign_season, args=(dates, ))\n",
    "    )\n",
    "    return df\n",
    "\n",
    "\n",
    "def adm1_seasonal_summary(df, adm1):\n",
    "    keep_cols = [\n",
    "        \"iso\", \"adm1\", \"adm2\", \"alert__count\", \"season\"\n",
    "    ]\n",
    "    country = df['iso'][0]\n",
    "    i = Index(range(2012, CYEAR + 1))\n",
    "    adm1_df = df[df['adm1']==adm1]\n",
    "    adm1_summary = (\n",
    "        adm1_df[keep_cols]\n",
    "            .groupby('season')\n",
    "            # .agg({'alert__count': 'sum'})\n",
    "            .agg(all_count=('alert__count', 'sum'))\n",
    "            .reindex(i, fill_value=0)\n",
    "    )\n",
    "    return country, adm1, adm1_summary\n",
    "\n",
    "\n",
    "def adm2_seasonal_summary(df, adm1, adm2):\n",
    "    country = df['iso'][0]\n",
    "    adm1 = df[df['adm1']==adm1]['adm1'].iloc[0]\n",
    "    i = Index(range(2012, CYEAR + 1))\n",
    "    adm2_df = df[(df['adm1']==adm1) & (df['adm2']==adm2)]\n",
    "    adm2_summary = (\n",
    "        adm2_df\n",
    "            .groupby('season')\n",
    "            .agg({'alert__count': 'sum'})\n",
    "            .reindex(i, fill_value=0)\n",
    "    )\n",
    "    return country, adm1, adm2, adm2_summary\n",
    "\n",
    "\n",
    "# def calculate_significance(seasonal_summary):\n",
    "#     x = seasonal_summary.loc[CYEAR].item()\n",
    "#     mu = seasonal_summary['alert__count'].mean().item()\n",
    "#     sd = seasonal_summary['alert__count'].std().item()\n",
    "#     if sd:\n",
    "#         significance_score = (x - mu) / sd\n",
    "#     else:\n",
    "#         significance_score = 0\n",
    "#     return significance_score, x\n",
    "\n",
    "\n",
    "def adm1_significance(df, adm1):\n",
    "    country, adm1, adm1_summary = adm1_seasonal_summary(df, adm1)\n",
    "    significance_score, current_alerts = calculate_significance(adm1_summary)\n",
    "    return (country, adm1, significance_score, current_alerts) \n",
    "\n",
    "\n",
    "def adm2_significance(df, adm1, adm2):\n",
    "    country, adm1, adm2, adm2_summary = adm2_seasonal_summary(df, adm1, adm2)\n",
    "    significance_score, current_alerts = calculate_significance(adm2_summary)\n",
    "    return (country, adm1, adm2, significance_score, current_alerts)\n",
    "\n",
    "# Calculate summaries separately and then join all counts together\n",
    "# Think of a better way to do this ^ (good enough for now...)\n",
    "# Should probably change wdpa category so it is true/false\n",
    "\n",
    "# Make this a new utils package\n",
    "i = Index(range(2012, CYEAR + 1))\n",
    "\n",
    "def all_count(adm1_df):\n",
    "    keep_cols = [\n",
    "        \"iso\", \"adm1\", \"adm2\", \"alert__count\", \"season\"\n",
    "    ]\n",
    "    \n",
    "    all_summary = (\n",
    "        adm1_df[keep_cols]\n",
    "            .groupby('season')\n",
    "            .agg(all_count=('alert__count', 'sum'))\n",
    "            .reindex(i, fill_value=0)\n",
    "    )\n",
    "\n",
    "    return all_summary\n",
    "\n",
    "def wdpa_count(adm1_df):\n",
    "    keep_cols = [\n",
    "        \"iso\", \"adm1\", \"adm2\", \"alert__count\", \"season\"\n",
    "    ]\n",
    "    \n",
    "    adm1_wdpa = adm1_df.loc[\n",
    "        (adm1_df['wdpa_protected_area__iucn_cat'] != '0') &\n",
    "        (adm1_df['wdpa_protected_area__iucn_cat'] != 'Other Category')\n",
    "    ]\n",
    "    \n",
    "    wdpa_summary = (\n",
    "        adm1_wdpa[keep_cols]\n",
    "            .groupby('season')\n",
    "            .agg(wdpa_count=('alert__count', 'sum'))\n",
    "            .reindex(i, fill_value=0)\n",
    "    )\n",
    "\n",
    "    return wdpa_summary\n",
    "\n",
    "def primary_count(adm1_df):\n",
    "    keep_cols = [\n",
    "        \"iso\", \"adm1\", \"adm2\", \"is__umd_regional_primary_forest_2001\", \"is__ifl_intact_forest_landscape_2016\", \"alert__count\", \"season\"\n",
    "    ]\n",
    "    \n",
    "    adm1_primary = adm1_df.loc[\n",
    "        (adm1_df['is__umd_regional_primary_forest_2001'] == \"true\") |\n",
    "        (adm1_df['is__ifl_intact_forest_landscape_2016'] == \"true\")\n",
    "    ]\n",
    "\n",
    "    primary_summary = (\n",
    "        adm1_primary[keep_cols]\n",
    "            .groupby('season')\n",
    "            .agg(primary_count=('alert__count', 'sum'))\n",
    "            .reindex(i, fill_value=0)\n",
    "    )\n",
    "\n",
    "    return primary_summary\n",
    "\n",
    "def peat_count(adm1_df):\n",
    "    keep_cols = [\n",
    "        \"iso\", \"adm1\", \"adm2\", \"is__peatland\", \"alert__count\", \"season\"\n",
    "    ]\n",
    "    \n",
    "    adm1_peat = adm1_df[adm1_df['is__peatland'] == \"true\"]\n",
    "\n",
    "    peat_summary = (\n",
    "        adm1_peat[keep_cols]\n",
    "            .groupby('season')\n",
    "            .agg(peat_count=('alert__count', 'sum'))\n",
    "            .reindex(i, fill_value=0)\n",
    "    )\n",
    "    \n",
    "    return peat_summary"
   ]
  },
  {
   "cell_type": "code",
   "execution_count": 7,
   "metadata": {},
   "outputs": [],
   "source": [
    "CYEAR = 2021\n",
    "\n",
    "\n",
    "def calculate_significance(seasonal_summary, col):\n",
    "    x = seasonal_summary[col].loc[CYEAR].item()\n",
    "    mu = seasonal_summary[col].mean().item()\n",
    "    sd = seasonal_summary[col].std().item()\n",
    "\n",
    "    if sd:\n",
    "        significance_score = (x - mu) / sd\n",
    "    else:\n",
    "        significance_score = 0\n",
    "\n",
    "    return significance_score"
   ]
  },
  {
   "cell_type": "code",
   "execution_count": 60,
   "metadata": {},
   "outputs": [],
   "source": [
    "# Probably uses too much memory now\n",
    "# Data should only be stored at the district level and then\n",
    "# aggegated up if needed for region or country levels\n",
    "\n",
    "import pandas as pd\n",
    "import numpy as np\n",
    "\n",
    "\n",
    "CYEAR = 2021\n",
    "\n",
    "\n",
    "def get_regions_and_districts(country):\n",
    "    regions = []\n",
    "    districts = []\n",
    "\n",
    "    region_ids = list(country.region_ids)\n",
    "\n",
    "    while region_ids:\n",
    "        region_id = region_ids.pop()\n",
    "        region = Region(country, region_id)\n",
    "        regions.append(region)\n",
    "        districts += get_districts(region)\n",
    "\n",
    "    return regions, districts\n",
    "\n",
    "\n",
    "def add_proportions(final_summary):\n",
    "    all_alerts = final_summary[\"all_count\"]\n",
    "    final_summary[\"wdpa_prop\"] = final_summary[\"wdpa_count\"] / all_alerts\n",
    "    final_summary[\"primary_prop\"] = final_summary[\"primary_count\"] / all_alerts\n",
    "    final_summary[\"peat_prop\"] = final_summary[\"peat_count\"] / all_alerts\n",
    "\n",
    "    return final_summary.replace(np.nan, 0)\n",
    "\n",
    "\n",
    "# Need to make this and subsequent functions flexible enough to handle regional or district data\n",
    "def combine_season_summaries(region_data):\n",
    "    wdpa_summary = wdpa_count(region_data)\n",
    "    primary_summary = primary_count(region_data)\n",
    "    peat_summary = peat_count(region_data)\n",
    "    all_summary = all_count(region_data)\n",
    "\n",
    "    season_summaries = [wdpa_summary, primary_summary, peat_summary, all_summary]\n",
    "\n",
    "    return season_summaries\n",
    "\n",
    "\n",
    "# Calculate standard score (i.e., significance score)\n",
    "def get_std_score(season_data, year, col):\n",
    "    x = season_data.loc[year][col].item()\n",
    "    moo = season_data[col].mean().item()\n",
    "    sd = season_data[col].std().item()\n",
    "\n",
    "    if sd:\n",
    "        std_score = (x - moo) / sd\n",
    "    else:\n",
    "        std_score = 0\n",
    "\n",
    "    return std_score\n",
    "\n",
    "\n",
    "def get_std_scores(season_data):\n",
    "    d = {}\n",
    "\n",
    "    for column in season_data.columns[:4]:  # Limit to counted variables\n",
    "        name = column.split('_')  # Split column name\n",
    "        name[1] = 'std_score'  # Replace 'count' with 'std_score'\n",
    "        key = '_'.join(name)  # Join together column name\n",
    "        d[key] = get_std_score(season_data, CYEAR, column)\n",
    "\n",
    "    return d\n",
    "\n",
    "\n",
    "def make_region_row(region):\n",
    "    row = {'country': region.country, 'region': region.id}\n",
    "    row |= region.counts | region.std_scores\n",
    "\n",
    "    return pd.Series(row)\n",
    "\n",
    "\n",
    "def make_district_row(district):\n",
    "    row = {'country': district.country, 'region': district.region, 'district': district.id}\n",
    "    row |= district.counts | district.std_scores\n",
    "\n",
    "    return pd.Series(row)\n",
    "\n",
    "# Store region id as the key in the dictionary\n",
    "class Country:\n",
    "    def __init__(self, df):\n",
    "        self.id = df.iso[0]\n",
    "        self.data = df\n",
    "        self.region_ids = set(df.adm1)\n",
    "        self.regions, self.districts = get_regions_and_districts(self)\n",
    "        self.region_summary = pd.DataFrame([make_region_row(region) for region in self.regions])\n",
    "        self.district_summary = pd.DataFrame([make_district_row(district) for district in self.districts])\n",
    "    # regions, districts = get_regions_and_districts(country)\n",
    "\n",
    "    # def add_regions(self):\n",
    "    #     regions = [Region(self, region_id) for region_id in self.region_ids]\n",
    "        \n",
    "    #     return regions\n",
    "\n",
    "\n",
    "    # def region_summary(self):\n",
    "    #     self.region_data = pd.DataFrame([make_region_row(region) for region in regions])\n",
    "\n",
    "    # def district_summary(self):\n",
    "    #     self.district_data = pd.DataFrame([make_district_row(district) for district in districts])\n",
    "    \n",
    "    def __repr__(self):\n",
    "        out =(\n",
    "            f\"country: {self.id}\\n\" +\n",
    "            f\"regions: {self.region_ids}\"\n",
    "        )\n",
    "        \n",
    "        return out\n",
    "\n",
    "class Region:\n",
    "    def __init__(self, country, region_id):\n",
    "        self.country = country.id\n",
    "        self.id = region_id\n",
    "        self.data = country.data[country.data['adm1'] == region_id]\n",
    "        self.districts = set(self.data.adm2)\n",
    "        self.season_data = self.season_summary()\n",
    "        self.counts = self.season_data.loc[CYEAR].to_dict()\n",
    "        self.std_scores = get_std_scores(self.season_data)\n",
    "\n",
    "\n",
    "    # Seasonal summary for selected time period\n",
    "    def season_summary(self):\n",
    "        summaries = combine_season_summaries(self.data)\n",
    "        summaries = add_proportions(pd.concat(summaries, axis=1))\n",
    "\n",
    "        return summaries\n",
    "\n",
    "    def get_historical(self):\n",
    "        q = f\"SELECT * FROM mytable WHERE iso='{self.country}' AND adm1={self.id}\"\n",
    "        r = requests.get(BASE_URL + '/' + DATA_ID, params = {'sql': q})\n",
    "        if r.status_code == 200:\n",
    "            return r.json()['data']\n",
    "\n",
    "        else:\n",
    "            print('Something went wrong...')\n",
    "            print('Status code: ', r.status_code)\n",
    "            print('Error message: ', r.json()['errors'][0]['detail'])\n",
    "\n",
    "    def __repr__(self):\n",
    "        out =(\n",
    "            f\"country: {self.country}\\n\" +\n",
    "            f\"region: {self.id}\\n\" +\n",
    "            f\"districts: {self.districts}\"\n",
    "        )\n",
    "\n",
    "        return out\n",
    "\n",
    "class District:\n",
    "    def __init__(self, region, district_id):\n",
    "        self.country = region.country\n",
    "        self.region = region.id\n",
    "        self.id = district_id\n",
    "        self.data = region.data[region.data['adm2'] == district_id]\n",
    "        self.season_data = self.season_summary()\n",
    "        self.counts = self.season_data.loc[CYEAR].to_dict()\n",
    "        self.std_scores = get_std_scores(self.season_data)\n",
    "\n",
    "\n",
    "    # Seasonal summary for selected time period\n",
    "    def season_summary(self):\n",
    "        summaries = combine_season_summaries(self.data)\n",
    "        summaries = add_proportions(pd.concat(summaries, axis=1))\n",
    "\n",
    "        return summaries\n",
    "\n",
    "\n",
    "    def __repr__(self):\n",
    "        out =(\n",
    "            f\"country: {self.country}\\n\" +\n",
    "            f\"region: {self.region}\\n\" +\n",
    "            f\"district: {self.id}\"\n",
    "        )\n",
    "\n",
    "        return out"
   ]
  },
  {
   "cell_type": "code",
   "execution_count": 49,
   "metadata": {
    "tags": []
   },
   "outputs": [],
   "source": [
    "def get_districts(region):\n",
    "    districts = []\n",
    "    for district in region.districts:\n",
    "        district_id = district\n",
    "        district = District(region, district_id)\n",
    "        districts.append(district)\n",
    "    return districts\n",
    "\n",
    "\n",
    "# def get_regions_and_districts(country):\n",
    "#     regions = []\n",
    "#     districts = []\n",
    "\n",
    "#     while country.regions:\n",
    "\n",
    "#         region_id = country.regions.pop()\n",
    "#         region = Region(country, region_id)\n",
    "#         districts += get_districts(region)\n",
    "#         regions.append(region)\n",
    "\n",
    "#     return regions, districts"
   ]
  },
  {
   "cell_type": "code",
   "execution_count": 50,
   "metadata": {},
   "outputs": [],
   "source": [
    "data = send_request('IND', dates)"
   ]
  },
  {
   "cell_type": "code",
   "execution_count": 51,
   "metadata": {},
   "outputs": [],
   "source": [
    "df = make_df(data, dates)\n",
    "country = Country(df)"
   ]
  },
  {
   "cell_type": "code",
   "execution_count": 52,
   "metadata": {},
   "outputs": [
    {
     "output_type": "execute_result",
     "data": {
      "text/plain": [
       "country: IND\n",
       "regions: {2, 3, 4, 5, 7, 11, 12, 13, 14, 15, 16, 19, 20, 21, 22, 24, 25, 26, 28, 29, 31, 32, 34, 35, 36}"
      ]
     },
     "metadata": {},
     "execution_count": 52
    }
   ],
   "source": [
    "# set(country.data.adm1)\n",
    "country"
   ]
  },
  {
   "cell_type": "code",
   "execution_count": 53,
   "metadata": {},
   "outputs": [
    {
     "output_type": "execute_result",
     "data": {
      "text/plain": [
       "   country  region  district  wdpa_count  primary_count  peat_count  \\\n",
       "57     IND      34        58         0.0            0.0         0.0   \n",
       "36     IND      34        31         0.0            0.0         0.0   \n",
       "18     IND      34         6         0.0            0.0         0.0   \n",
       "\n",
       "    all_count  wdpa_prop  primary_prop  peat_prop  wdpa_std_score  \\\n",
       "57        1.0        0.0           0.0        0.0             0.0   \n",
       "36        1.0        0.0           0.0        0.0             0.0   \n",
       "18        1.0        0.0           0.0        0.0             0.0   \n",
       "\n",
       "    primary_std_score  peat_std_score  all_std_score  \n",
       "57                0.0               0        2.84605  \n",
       "36                0.0               0        2.84605  \n",
       "18                0.0               0        2.84605  "
      ],
      "text/html": "<div>\n<style scoped>\n    .dataframe tbody tr th:only-of-type {\n        vertical-align: middle;\n    }\n\n    .dataframe tbody tr th {\n        vertical-align: top;\n    }\n\n    .dataframe thead th {\n        text-align: right;\n    }\n</style>\n<table border=\"1\" class=\"dataframe\">\n  <thead>\n    <tr style=\"text-align: right;\">\n      <th></th>\n      <th>country</th>\n      <th>region</th>\n      <th>district</th>\n      <th>wdpa_count</th>\n      <th>primary_count</th>\n      <th>peat_count</th>\n      <th>all_count</th>\n      <th>wdpa_prop</th>\n      <th>primary_prop</th>\n      <th>peat_prop</th>\n      <th>wdpa_std_score</th>\n      <th>primary_std_score</th>\n      <th>peat_std_score</th>\n      <th>all_std_score</th>\n    </tr>\n  </thead>\n  <tbody>\n    <tr>\n      <th>57</th>\n      <td>IND</td>\n      <td>34</td>\n      <td>58</td>\n      <td>0.0</td>\n      <td>0.0</td>\n      <td>0.0</td>\n      <td>1.0</td>\n      <td>0.0</td>\n      <td>0.0</td>\n      <td>0.0</td>\n      <td>0.0</td>\n      <td>0.0</td>\n      <td>0</td>\n      <td>2.84605</td>\n    </tr>\n    <tr>\n      <th>36</th>\n      <td>IND</td>\n      <td>34</td>\n      <td>31</td>\n      <td>0.0</td>\n      <td>0.0</td>\n      <td>0.0</td>\n      <td>1.0</td>\n      <td>0.0</td>\n      <td>0.0</td>\n      <td>0.0</td>\n      <td>0.0</td>\n      <td>0.0</td>\n      <td>0</td>\n      <td>2.84605</td>\n    </tr>\n    <tr>\n      <th>18</th>\n      <td>IND</td>\n      <td>34</td>\n      <td>6</td>\n      <td>0.0</td>\n      <td>0.0</td>\n      <td>0.0</td>\n      <td>1.0</td>\n      <td>0.0</td>\n      <td>0.0</td>\n      <td>0.0</td>\n      <td>0.0</td>\n      <td>0.0</td>\n      <td>0</td>\n      <td>2.84605</td>\n    </tr>\n  </tbody>\n</table>\n</div>"
     },
     "metadata": {},
     "execution_count": 53
    }
   ],
   "source": [
    "country.district_summary.sort_values(by=['all_std_score'], ascending=False).head(3)"
   ]
  },
  {
   "cell_type": "code",
   "execution_count": 54,
   "metadata": {},
   "outputs": [],
   "source": [
    "def gadm_countries(file='gadm_adm1.csv'):\n",
    "    keep_cols = ['GID_0', 'NAME_0', 'GID_1', 'NAME_1']\n",
    "    gadm_df = pd.read_csv(file, usecols=keep_cols)\n",
    "    iso_list = gadm_df.GID_0.unique()\n",
    "    return iso_list"
   ]
  },
  {
   "cell_type": "code",
   "execution_count": 55,
   "metadata": {},
   "outputs": [
    {
     "output_type": "execute_result",
     "data": {
      "text/plain": [
       "[]"
      ]
     },
     "metadata": {},
     "execution_count": 55
    }
   ],
   "source": [
    "data = send_request('ALA', dates)\n",
    "data"
   ]
  },
  {
   "cell_type": "code",
   "execution_count": null,
   "metadata": {},
   "outputs": [],
   "source": []
  },
  {
   "cell_type": "code",
   "execution_count": 71,
   "metadata": {},
   "outputs": [
    {
     "output_type": "stream",
     "name": "stdout",
     "text": [
      "Working on IND (1/2)...\n",
      "Working on BRA (2/2)...\n"
     ]
    },
    {
     "output_type": "execute_result",
     "data": {
      "text/plain": [
       "{'IND': country: IND\n",
       " regions: {2, 3, 4, 5, 7, 11, 12, 13, 14, 15, 16, 19, 20, 21, 22, 24, 25, 26, 28, 29, 31, 32, 34, 35, 36},\n",
       " 'BRA': country: BRA\n",
       " regions: {1, 2, 4, 5, 6, 7, 8, 9, 10, 11, 12, 13, 14, 15, 16, 17, 18, 19, 20, 21, 22, 23, 24, 25, 26, 27}}"
      ]
     },
     "metadata": {},
     "execution_count": 71
    }
   ],
   "source": [
    "#\n",
    "#\n",
    "#\n",
    "\n",
    "# iso_list = ['IND']\n",
    "iso_list = ['IND', 'BRA']\n",
    "# iso_list = gadm_countries()\n",
    "\n",
    "dates = date_list(days=7)\n",
    "\n",
    "counter = 1\n",
    "countries = {}\n",
    "for country in iso_list:\n",
    "    print(f'Working on {country} ({counter}/{len(iso_list)})...')\n",
    "    data = send_request(country, dates)\n",
    "    if data:\n",
    "        df = make_df(data, dates)\n",
    "        countries[country] = Country(df)\n",
    "\n",
    "    else:\n",
    "        pass\n",
    "\n",
    "    counter += 1\n",
    "\n",
    "countries\n",
    "\n",
    "#\n",
    "#\n",
    "#"
   ]
  },
  {
   "cell_type": "code",
   "execution_count": 57,
   "metadata": {},
   "outputs": [
    {
     "output_type": "execute_result",
     "data": {
      "text/plain": [
       "  country  region  wdpa_count  primary_count  peat_count  all_count  \\\n",
       "0     IND      36         0.0            0.0         0.0        0.0   \n",
       "1     IND      35         0.0            0.0         0.0        3.0   \n",
       "2     IND      34         0.0            0.0         0.0       17.0   \n",
       "\n",
       "   wdpa_prop  primary_prop  peat_prop  wdpa_std_score  primary_std_score  \\\n",
       "0        0.0           0.0        0.0        0.000000           0.000000   \n",
       "1        0.0           0.0        0.0       -0.514496          -0.316228   \n",
       "2        0.0           0.0        0.0       -0.474342          -0.316228   \n",
       "\n",
       "   peat_std_score  all_std_score  \n",
       "0               0      -0.474342  \n",
       "1               0      -0.808612  \n",
       "2               0      -0.521466  "
      ],
      "text/html": "<div>\n<style scoped>\n    .dataframe tbody tr th:only-of-type {\n        vertical-align: middle;\n    }\n\n    .dataframe tbody tr th {\n        vertical-align: top;\n    }\n\n    .dataframe thead th {\n        text-align: right;\n    }\n</style>\n<table border=\"1\" class=\"dataframe\">\n  <thead>\n    <tr style=\"text-align: right;\">\n      <th></th>\n      <th>country</th>\n      <th>region</th>\n      <th>wdpa_count</th>\n      <th>primary_count</th>\n      <th>peat_count</th>\n      <th>all_count</th>\n      <th>wdpa_prop</th>\n      <th>primary_prop</th>\n      <th>peat_prop</th>\n      <th>wdpa_std_score</th>\n      <th>primary_std_score</th>\n      <th>peat_std_score</th>\n      <th>all_std_score</th>\n    </tr>\n  </thead>\n  <tbody>\n    <tr>\n      <th>0</th>\n      <td>IND</td>\n      <td>36</td>\n      <td>0.0</td>\n      <td>0.0</td>\n      <td>0.0</td>\n      <td>0.0</td>\n      <td>0.0</td>\n      <td>0.0</td>\n      <td>0.0</td>\n      <td>0.000000</td>\n      <td>0.000000</td>\n      <td>0</td>\n      <td>-0.474342</td>\n    </tr>\n    <tr>\n      <th>1</th>\n      <td>IND</td>\n      <td>35</td>\n      <td>0.0</td>\n      <td>0.0</td>\n      <td>0.0</td>\n      <td>3.0</td>\n      <td>0.0</td>\n      <td>0.0</td>\n      <td>0.0</td>\n      <td>-0.514496</td>\n      <td>-0.316228</td>\n      <td>0</td>\n      <td>-0.808612</td>\n    </tr>\n    <tr>\n      <th>2</th>\n      <td>IND</td>\n      <td>34</td>\n      <td>0.0</td>\n      <td>0.0</td>\n      <td>0.0</td>\n      <td>17.0</td>\n      <td>0.0</td>\n      <td>0.0</td>\n      <td>0.0</td>\n      <td>-0.474342</td>\n      <td>-0.316228</td>\n      <td>0</td>\n      <td>-0.521466</td>\n    </tr>\n  </tbody>\n</table>\n</div>"
     },
     "metadata": {},
     "execution_count": 57
    }
   ],
   "source": [
    "countries['IND'].region_summary.head(3)"
   ]
  },
  {
   "cell_type": "code",
   "execution_count": 86,
   "metadata": {},
   "outputs": [],
   "source": [
    "# Combine regional data for all countries\n",
    "all_regions = pd.concat([countries[country].region_summary for country in countries])\n",
    "all_districts = pd.concat([countries[country].district_summary for country in countries])"
   ]
  },
  {
   "cell_type": "code",
   "execution_count": 45,
   "metadata": {},
   "outputs": [],
   "source": [
    "# Sort and export this to excel...\n",
    "def write_results(all_regions, all_districts):\n",
    "    print('Writing results...', end=\"\")\n",
    "    today = dt.today().date()\n",
    "    filename = f'viirs_std_scores_7days_' + today.strftime('%Y%m%d') + '.xlsx'\n",
    "    writer = pd.ExcelWriter(filename, engine='xlsxwriter')\n",
    "    all_regions.to_excel(writer, sheet_name='regions', index=False)\n",
    "    all_districts.to_excel(writer, sheet_name='districts', index=False)\n",
    "    writer.save()\n",
    "    print('done')"
   ]
  },
  {
   "cell_type": "code",
   "execution_count": 46,
   "metadata": {},
   "outputs": [
    {
     "output_type": "stream",
     "name": "stdout",
     "text": [
      "Writing results...done\n"
     ]
    }
   ],
   "source": [
    "write_results(all_regions, all_districts)"
   ]
  },
  {
   "cell_type": "code",
   "execution_count": 63,
   "metadata": {},
   "outputs": [],
   "source": [
    "t = countries[\"IND\"].regions[0].get_historical()"
   ]
  },
  {
   "cell_type": "code",
   "execution_count": 65,
   "metadata": {},
   "outputs": [
    {
     "output_type": "execute_result",
     "data": {
      "text/plain": [
       "       iso  adm1  adm2 alert__date confidence__cat  \\\n",
       "0      IND    36    17  2018-05-11               n   \n",
       "1      IND    36    16  2018-11-28               n   \n",
       "2      IND    36     3  2012-03-31               n   \n",
       "3      IND    36     3  2013-02-07               n   \n",
       "4      IND    36     2  2014-03-21               l   \n",
       "...    ...   ...   ...         ...             ...   \n",
       "24796  IND    36    17  2021-05-16               n   \n",
       "24797  IND    36    18  2021-05-16               n   \n",
       "24798  IND    36    17  2021-05-16               l   \n",
       "24799  IND    36    17  2021-05-17               n   \n",
       "24800  IND    36    16  2021-05-17               n   \n",
       "\n",
       "      wdpa_protected_area__iucn_cat  is__umd_regional_primary_forest_2001  \\\n",
       "0                                 0                                 False   \n",
       "1                                 0                                 False   \n",
       "2                                 0                                 False   \n",
       "3                                 0                                 False   \n",
       "4                                 0                                 False   \n",
       "...                             ...                                   ...   \n",
       "24796                             0                                 False   \n",
       "24797                             0                                 False   \n",
       "24798                             0                                 False   \n",
       "24799                             0                                 False   \n",
       "24800                             0                                 False   \n",
       "\n",
       "       is__birdlife_alliance_for_zero_extinction_site  \\\n",
       "0                                               False   \n",
       "1                                               False   \n",
       "2                                               False   \n",
       "3                                               False   \n",
       "4                                               False   \n",
       "...                                               ...   \n",
       "24796                                           False   \n",
       "24797                                           False   \n",
       "24798                                           False   \n",
       "24799                                           False   \n",
       "24800                                           False   \n",
       "\n",
       "       is__birdlife_key_biodiversity_area  is__landmark_land_right  ...  \\\n",
       "0                                   False                    False  ...   \n",
       "1                                   False                    False  ...   \n",
       "2                                   False                    False  ...   \n",
       "3                                   False                    False  ...   \n",
       "4                                   False                    False  ...   \n",
       "...                                   ...                      ...  ...   \n",
       "24796                               False                    False  ...   \n",
       "24797                               False                    False  ...   \n",
       "24798                               False                    False  ...   \n",
       "24799                               False                    False  ...   \n",
       "24800                               False                    False  ...   \n",
       "\n",
       "      is__idn_forest_moratorium  is__gfw_oil_palm  idn_forest_area__type  \\\n",
       "0                         False             False                      0   \n",
       "1                         False             False                      0   \n",
       "2                         False             False                      0   \n",
       "3                         False             False                      0   \n",
       "4                         False             False                      0   \n",
       "...                         ...               ...                    ...   \n",
       "24796                     False             False                      0   \n",
       "24797                     False             False                      0   \n",
       "24798                     False             False                      0   \n",
       "24799                     False             False                      0   \n",
       "24800                     False             False                      0   \n",
       "\n",
       "       per_forest_concession__type  is__gfw_oil_gas  is__gmw_mangroves_2016  \\\n",
       "0                                0            False                   False   \n",
       "1                                0            False                   False   \n",
       "2                                0            False                   False   \n",
       "3                                0            False                   False   \n",
       "4                                0            False                   False   \n",
       "...                            ...              ...                     ...   \n",
       "24796                            0            False                   False   \n",
       "24797                            0            False                   False   \n",
       "24798                            0            False                   False   \n",
       "24799                            0            False                   False   \n",
       "24800                            0            False                   False   \n",
       "\n",
       "       is__ifl_intact_forest_landscape_2016  bra_biome__name  alert__count  \\\n",
       "0                                     False                0             3   \n",
       "1                                     False                0             1   \n",
       "2                                     False                0             2   \n",
       "3                                     False                0             4   \n",
       "4                                     False                0             1   \n",
       "...                                     ...              ...           ...   \n",
       "24796                                 False   Not applicable             4   \n",
       "24797                                 False   Not applicable             1   \n",
       "24798                                 False   Not applicable             1   \n",
       "24799                                 False   Not applicable             2   \n",
       "24800                                 False   Not applicable             3   \n",
       "\n",
       "                        _id  \n",
       "0      y0VBa3UBNTYQFbWCsoyl  \n",
       "1      X0VBa3UBNTYQFbWCspqm  \n",
       "2      UstBa3UBkyHUmd1wsqH7  \n",
       "3      YstBa3UBkyHUmd1wsqH7  \n",
       "4      TkVBa3UBNTYQFbWCssGp  \n",
       "...                     ...  \n",
       "24796  QHHkeHkBTfpRoB11t8r9  \n",
       "24797  F3HkeHkBTfpRoB11t9T-  \n",
       "24798  23HkeHkBTfpRoB11t9X_  \n",
       "24799  1h4JfnkBzN-Opm6kSZmU  \n",
       "24800  xB4JfnkBzN-Opm6kSZ6U  \n",
       "\n",
       "[24801 rows x 26 columns]"
      ],
      "text/html": "<div>\n<style scoped>\n    .dataframe tbody tr th:only-of-type {\n        vertical-align: middle;\n    }\n\n    .dataframe tbody tr th {\n        vertical-align: top;\n    }\n\n    .dataframe thead th {\n        text-align: right;\n    }\n</style>\n<table border=\"1\" class=\"dataframe\">\n  <thead>\n    <tr style=\"text-align: right;\">\n      <th></th>\n      <th>iso</th>\n      <th>adm1</th>\n      <th>adm2</th>\n      <th>alert__date</th>\n      <th>confidence__cat</th>\n      <th>wdpa_protected_area__iucn_cat</th>\n      <th>is__umd_regional_primary_forest_2001</th>\n      <th>is__birdlife_alliance_for_zero_extinction_site</th>\n      <th>is__birdlife_key_biodiversity_area</th>\n      <th>is__landmark_land_right</th>\n      <th>...</th>\n      <th>is__idn_forest_moratorium</th>\n      <th>is__gfw_oil_palm</th>\n      <th>idn_forest_area__type</th>\n      <th>per_forest_concession__type</th>\n      <th>is__gfw_oil_gas</th>\n      <th>is__gmw_mangroves_2016</th>\n      <th>is__ifl_intact_forest_landscape_2016</th>\n      <th>bra_biome__name</th>\n      <th>alert__count</th>\n      <th>_id</th>\n    </tr>\n  </thead>\n  <tbody>\n    <tr>\n      <th>0</th>\n      <td>IND</td>\n      <td>36</td>\n      <td>17</td>\n      <td>2018-05-11</td>\n      <td>n</td>\n      <td>0</td>\n      <td>False</td>\n      <td>False</td>\n      <td>False</td>\n      <td>False</td>\n      <td>...</td>\n      <td>False</td>\n      <td>False</td>\n      <td>0</td>\n      <td>0</td>\n      <td>False</td>\n      <td>False</td>\n      <td>False</td>\n      <td>0</td>\n      <td>3</td>\n      <td>y0VBa3UBNTYQFbWCsoyl</td>\n    </tr>\n    <tr>\n      <th>1</th>\n      <td>IND</td>\n      <td>36</td>\n      <td>16</td>\n      <td>2018-11-28</td>\n      <td>n</td>\n      <td>0</td>\n      <td>False</td>\n      <td>False</td>\n      <td>False</td>\n      <td>False</td>\n      <td>...</td>\n      <td>False</td>\n      <td>False</td>\n      <td>0</td>\n      <td>0</td>\n      <td>False</td>\n      <td>False</td>\n      <td>False</td>\n      <td>0</td>\n      <td>1</td>\n      <td>X0VBa3UBNTYQFbWCspqm</td>\n    </tr>\n    <tr>\n      <th>2</th>\n      <td>IND</td>\n      <td>36</td>\n      <td>3</td>\n      <td>2012-03-31</td>\n      <td>n</td>\n      <td>0</td>\n      <td>False</td>\n      <td>False</td>\n      <td>False</td>\n      <td>False</td>\n      <td>...</td>\n      <td>False</td>\n      <td>False</td>\n      <td>0</td>\n      <td>0</td>\n      <td>False</td>\n      <td>False</td>\n      <td>False</td>\n      <td>0</td>\n      <td>2</td>\n      <td>UstBa3UBkyHUmd1wsqH7</td>\n    </tr>\n    <tr>\n      <th>3</th>\n      <td>IND</td>\n      <td>36</td>\n      <td>3</td>\n      <td>2013-02-07</td>\n      <td>n</td>\n      <td>0</td>\n      <td>False</td>\n      <td>False</td>\n      <td>False</td>\n      <td>False</td>\n      <td>...</td>\n      <td>False</td>\n      <td>False</td>\n      <td>0</td>\n      <td>0</td>\n      <td>False</td>\n      <td>False</td>\n      <td>False</td>\n      <td>0</td>\n      <td>4</td>\n      <td>YstBa3UBkyHUmd1wsqH7</td>\n    </tr>\n    <tr>\n      <th>4</th>\n      <td>IND</td>\n      <td>36</td>\n      <td>2</td>\n      <td>2014-03-21</td>\n      <td>l</td>\n      <td>0</td>\n      <td>False</td>\n      <td>False</td>\n      <td>False</td>\n      <td>False</td>\n      <td>...</td>\n      <td>False</td>\n      <td>False</td>\n      <td>0</td>\n      <td>0</td>\n      <td>False</td>\n      <td>False</td>\n      <td>False</td>\n      <td>0</td>\n      <td>1</td>\n      <td>TkVBa3UBNTYQFbWCssGp</td>\n    </tr>\n    <tr>\n      <th>...</th>\n      <td>...</td>\n      <td>...</td>\n      <td>...</td>\n      <td>...</td>\n      <td>...</td>\n      <td>...</td>\n      <td>...</td>\n      <td>...</td>\n      <td>...</td>\n      <td>...</td>\n      <td>...</td>\n      <td>...</td>\n      <td>...</td>\n      <td>...</td>\n      <td>...</td>\n      <td>...</td>\n      <td>...</td>\n      <td>...</td>\n      <td>...</td>\n      <td>...</td>\n      <td>...</td>\n    </tr>\n    <tr>\n      <th>24796</th>\n      <td>IND</td>\n      <td>36</td>\n      <td>17</td>\n      <td>2021-05-16</td>\n      <td>n</td>\n      <td>0</td>\n      <td>False</td>\n      <td>False</td>\n      <td>False</td>\n      <td>False</td>\n      <td>...</td>\n      <td>False</td>\n      <td>False</td>\n      <td>0</td>\n      <td>0</td>\n      <td>False</td>\n      <td>False</td>\n      <td>False</td>\n      <td>Not applicable</td>\n      <td>4</td>\n      <td>QHHkeHkBTfpRoB11t8r9</td>\n    </tr>\n    <tr>\n      <th>24797</th>\n      <td>IND</td>\n      <td>36</td>\n      <td>18</td>\n      <td>2021-05-16</td>\n      <td>n</td>\n      <td>0</td>\n      <td>False</td>\n      <td>False</td>\n      <td>False</td>\n      <td>False</td>\n      <td>...</td>\n      <td>False</td>\n      <td>False</td>\n      <td>0</td>\n      <td>0</td>\n      <td>False</td>\n      <td>False</td>\n      <td>False</td>\n      <td>Not applicable</td>\n      <td>1</td>\n      <td>F3HkeHkBTfpRoB11t9T-</td>\n    </tr>\n    <tr>\n      <th>24798</th>\n      <td>IND</td>\n      <td>36</td>\n      <td>17</td>\n      <td>2021-05-16</td>\n      <td>l</td>\n      <td>0</td>\n      <td>False</td>\n      <td>False</td>\n      <td>False</td>\n      <td>False</td>\n      <td>...</td>\n      <td>False</td>\n      <td>False</td>\n      <td>0</td>\n      <td>0</td>\n      <td>False</td>\n      <td>False</td>\n      <td>False</td>\n      <td>Not applicable</td>\n      <td>1</td>\n      <td>23HkeHkBTfpRoB11t9X_</td>\n    </tr>\n    <tr>\n      <th>24799</th>\n      <td>IND</td>\n      <td>36</td>\n      <td>17</td>\n      <td>2021-05-17</td>\n      <td>n</td>\n      <td>0</td>\n      <td>False</td>\n      <td>False</td>\n      <td>False</td>\n      <td>False</td>\n      <td>...</td>\n      <td>False</td>\n      <td>False</td>\n      <td>0</td>\n      <td>0</td>\n      <td>False</td>\n      <td>False</td>\n      <td>False</td>\n      <td>Not applicable</td>\n      <td>2</td>\n      <td>1h4JfnkBzN-Opm6kSZmU</td>\n    </tr>\n    <tr>\n      <th>24800</th>\n      <td>IND</td>\n      <td>36</td>\n      <td>16</td>\n      <td>2021-05-17</td>\n      <td>n</td>\n      <td>0</td>\n      <td>False</td>\n      <td>False</td>\n      <td>False</td>\n      <td>False</td>\n      <td>...</td>\n      <td>False</td>\n      <td>False</td>\n      <td>0</td>\n      <td>0</td>\n      <td>False</td>\n      <td>False</td>\n      <td>False</td>\n      <td>Not applicable</td>\n      <td>3</td>\n      <td>xB4JfnkBzN-Opm6kSZ6U</td>\n    </tr>\n  </tbody>\n</table>\n<p>24801 rows × 26 columns</p>\n</div>"
     },
     "metadata": {},
     "execution_count": 65
    }
   ],
   "source": [
    "pd.DataFrame(t)"
   ]
  },
  {
   "cell_type": "code",
   "execution_count": null,
   "metadata": {},
   "outputs": [],
   "source": [
    "def determine_fire_season():\n",
    "    pass"
   ]
  },
  {
   "cell_type": "code",
   "execution_count": null,
   "metadata": {},
   "outputs": [],
   "source": []
  },
  {
   "cell_type": "code",
   "execution_count": null,
   "metadata": {},
   "outputs": [],
   "source": []
  },
  {
   "cell_type": "code",
   "execution_count": null,
   "metadata": {},
   "outputs": [],
   "source": []
  },
  {
   "cell_type": "code",
   "execution_count": null,
   "metadata": {},
   "outputs": [],
   "source": []
  },
  {
   "cell_type": "code",
   "execution_count": null,
   "metadata": {},
   "outputs": [],
   "source": []
  },
  {
   "cell_type": "code",
   "execution_count": 84,
   "metadata": {},
   "outputs": [
    {
     "output_type": "execute_result",
     "data": {
      "text/plain": [
       "57"
      ]
     },
     "metadata": {},
     "execution_count": 84
    }
   ],
   "source": [
    "t = countries['BRA'].regions[15].data\n",
    "t[t['season'] == 2021].alert__count.sum()"
   ]
  },
  {
   "cell_type": "code",
   "execution_count": 21,
   "metadata": {},
   "outputs": [
    {
     "output_type": "execute_result",
     "data": {
      "text/plain": [
       "  country  region  wdpa_count  primary_count  peat_count  all_count  \\\n",
       "0     IND      36         0.0            0.0         0.0        0.0   \n",
       "1     IND      35         0.0            0.0         0.0        3.0   \n",
       "2     IND      34         0.0            0.0         0.0       17.0   \n",
       "3     IND      32         0.0            0.0         0.0        3.0   \n",
       "4     IND      31         0.0            0.0         0.0        1.0   \n",
       "\n",
       "   wdpa_prop  primary_prop  peat_prop  wdpa_std_score  primary_std_score  \\\n",
       "0        0.0           0.0        0.0        0.000000           0.000000   \n",
       "1        0.0           0.0        0.0       -0.514496          -0.316228   \n",
       "2        0.0           0.0        0.0       -0.474342          -0.316228   \n",
       "3        0.0           0.0        0.0        0.000000           0.000000   \n",
       "4        0.0           0.0        0.0        0.000000           0.000000   \n",
       "\n",
       "   peat_std_score  all_std_score  \n",
       "0               0      -0.474342  \n",
       "1               0      -0.808612  \n",
       "2               0      -0.521466  \n",
       "3               0      -0.862206  \n",
       "4               0      -0.172488  "
      ],
      "text/html": "<div>\n<style scoped>\n    .dataframe tbody tr th:only-of-type {\n        vertical-align: middle;\n    }\n\n    .dataframe tbody tr th {\n        vertical-align: top;\n    }\n\n    .dataframe thead th {\n        text-align: right;\n    }\n</style>\n<table border=\"1\" class=\"dataframe\">\n  <thead>\n    <tr style=\"text-align: right;\">\n      <th></th>\n      <th>country</th>\n      <th>region</th>\n      <th>wdpa_count</th>\n      <th>primary_count</th>\n      <th>peat_count</th>\n      <th>all_count</th>\n      <th>wdpa_prop</th>\n      <th>primary_prop</th>\n      <th>peat_prop</th>\n      <th>wdpa_std_score</th>\n      <th>primary_std_score</th>\n      <th>peat_std_score</th>\n      <th>all_std_score</th>\n    </tr>\n  </thead>\n  <tbody>\n    <tr>\n      <th>0</th>\n      <td>IND</td>\n      <td>36</td>\n      <td>0.0</td>\n      <td>0.0</td>\n      <td>0.0</td>\n      <td>0.0</td>\n      <td>0.0</td>\n      <td>0.0</td>\n      <td>0.0</td>\n      <td>0.000000</td>\n      <td>0.000000</td>\n      <td>0</td>\n      <td>-0.474342</td>\n    </tr>\n    <tr>\n      <th>1</th>\n      <td>IND</td>\n      <td>35</td>\n      <td>0.0</td>\n      <td>0.0</td>\n      <td>0.0</td>\n      <td>3.0</td>\n      <td>0.0</td>\n      <td>0.0</td>\n      <td>0.0</td>\n      <td>-0.514496</td>\n      <td>-0.316228</td>\n      <td>0</td>\n      <td>-0.808612</td>\n    </tr>\n    <tr>\n      <th>2</th>\n      <td>IND</td>\n      <td>34</td>\n      <td>0.0</td>\n      <td>0.0</td>\n      <td>0.0</td>\n      <td>17.0</td>\n      <td>0.0</td>\n      <td>0.0</td>\n      <td>0.0</td>\n      <td>-0.474342</td>\n      <td>-0.316228</td>\n      <td>0</td>\n      <td>-0.521466</td>\n    </tr>\n    <tr>\n      <th>3</th>\n      <td>IND</td>\n      <td>32</td>\n      <td>0.0</td>\n      <td>0.0</td>\n      <td>0.0</td>\n      <td>3.0</td>\n      <td>0.0</td>\n      <td>0.0</td>\n      <td>0.0</td>\n      <td>0.000000</td>\n      <td>0.000000</td>\n      <td>0</td>\n      <td>-0.862206</td>\n    </tr>\n    <tr>\n      <th>4</th>\n      <td>IND</td>\n      <td>31</td>\n      <td>0.0</td>\n      <td>0.0</td>\n      <td>0.0</td>\n      <td>1.0</td>\n      <td>0.0</td>\n      <td>0.0</td>\n      <td>0.0</td>\n      <td>0.000000</td>\n      <td>0.000000</td>\n      <td>0</td>\n      <td>-0.172488</td>\n    </tr>\n  </tbody>\n</table>\n</div>"
     },
     "metadata": {},
     "execution_count": 21
    }
   ],
   "source": [
    "all_regions.head()"
   ]
  },
  {
   "cell_type": "code",
   "execution_count": 87,
   "metadata": {},
   "outputs": [
    {
     "output_type": "execute_result",
     "data": {
      "text/plain": [
       "    country  region  district  wdpa_count  primary_count  peat_count  \\\n",
       "139     BRA      21       132         0.0            0.0         0.0   \n",
       "42      BRA      27        99         0.0            2.0         0.0   \n",
       "117     IND      28        10         0.0            0.0         0.0   \n",
       "118     IND      28        11         0.0            0.0         0.0   \n",
       "122     IND      28        15         0.0            0.0         0.0   \n",
       "114     IND      28         7         0.0            0.0         0.0   \n",
       "\n",
       "     all_count  wdpa_prop  primary_prop  peat_prop  wdpa_std_score  \\\n",
       "139       16.0        0.0         0.000        0.0        0.000000   \n",
       "42        16.0        0.0         0.125        0.0       -0.316228   \n",
       "117       30.0        0.0         0.000        0.0        0.000000   \n",
       "118       13.0        0.0         0.000        0.0        0.000000   \n",
       "122       12.0        0.0         0.000        0.0        0.000000   \n",
       "114       15.0        0.0         0.000        0.0        0.000000   \n",
       "\n",
       "     primary_std_score  peat_std_score  all_std_score  \n",
       "139            0.00000               0       2.823732  \n",
       "42             2.12132               0       2.690486  \n",
       "117            0.00000               0       1.864400  \n",
       "118            0.00000               0       1.062738  \n",
       "122            0.00000               0       0.099689  \n",
       "114            0.00000               0      -0.423208  "
      ],
      "text/html": "<div>\n<style scoped>\n    .dataframe tbody tr th:only-of-type {\n        vertical-align: middle;\n    }\n\n    .dataframe tbody tr th {\n        vertical-align: top;\n    }\n\n    .dataframe thead th {\n        text-align: right;\n    }\n</style>\n<table border=\"1\" class=\"dataframe\">\n  <thead>\n    <tr style=\"text-align: right;\">\n      <th></th>\n      <th>country</th>\n      <th>region</th>\n      <th>district</th>\n      <th>wdpa_count</th>\n      <th>primary_count</th>\n      <th>peat_count</th>\n      <th>all_count</th>\n      <th>wdpa_prop</th>\n      <th>primary_prop</th>\n      <th>peat_prop</th>\n      <th>wdpa_std_score</th>\n      <th>primary_std_score</th>\n      <th>peat_std_score</th>\n      <th>all_std_score</th>\n    </tr>\n  </thead>\n  <tbody>\n    <tr>\n      <th>139</th>\n      <td>BRA</td>\n      <td>21</td>\n      <td>132</td>\n      <td>0.0</td>\n      <td>0.0</td>\n      <td>0.0</td>\n      <td>16.0</td>\n      <td>0.0</td>\n      <td>0.000</td>\n      <td>0.0</td>\n      <td>0.000000</td>\n      <td>0.00000</td>\n      <td>0</td>\n      <td>2.823732</td>\n    </tr>\n    <tr>\n      <th>42</th>\n      <td>BRA</td>\n      <td>27</td>\n      <td>99</td>\n      <td>0.0</td>\n      <td>2.0</td>\n      <td>0.0</td>\n      <td>16.0</td>\n      <td>0.0</td>\n      <td>0.125</td>\n      <td>0.0</td>\n      <td>-0.316228</td>\n      <td>2.12132</td>\n      <td>0</td>\n      <td>2.690486</td>\n    </tr>\n    <tr>\n      <th>117</th>\n      <td>IND</td>\n      <td>28</td>\n      <td>10</td>\n      <td>0.0</td>\n      <td>0.0</td>\n      <td>0.0</td>\n      <td>30.0</td>\n      <td>0.0</td>\n      <td>0.000</td>\n      <td>0.0</td>\n      <td>0.000000</td>\n      <td>0.00000</td>\n      <td>0</td>\n      <td>1.864400</td>\n    </tr>\n    <tr>\n      <th>118</th>\n      <td>IND</td>\n      <td>28</td>\n      <td>11</td>\n      <td>0.0</td>\n      <td>0.0</td>\n      <td>0.0</td>\n      <td>13.0</td>\n      <td>0.0</td>\n      <td>0.000</td>\n      <td>0.0</td>\n      <td>0.000000</td>\n      <td>0.00000</td>\n      <td>0</td>\n      <td>1.062738</td>\n    </tr>\n    <tr>\n      <th>122</th>\n      <td>IND</td>\n      <td>28</td>\n      <td>15</td>\n      <td>0.0</td>\n      <td>0.0</td>\n      <td>0.0</td>\n      <td>12.0</td>\n      <td>0.0</td>\n      <td>0.000</td>\n      <td>0.0</td>\n      <td>0.000000</td>\n      <td>0.00000</td>\n      <td>0</td>\n      <td>0.099689</td>\n    </tr>\n    <tr>\n      <th>114</th>\n      <td>IND</td>\n      <td>28</td>\n      <td>7</td>\n      <td>0.0</td>\n      <td>0.0</td>\n      <td>0.0</td>\n      <td>15.0</td>\n      <td>0.0</td>\n      <td>0.000</td>\n      <td>0.0</td>\n      <td>0.000000</td>\n      <td>0.00000</td>\n      <td>0</td>\n      <td>-0.423208</td>\n    </tr>\n  </tbody>\n</table>\n</div>"
     },
     "metadata": {},
     "execution_count": 87
    }
   ],
   "source": [
    "all_districts[all_districts['all_count'] > 10].sort_values('all_std_score', ascending=False)"
   ]
  },
  {
   "cell_type": "code",
   "execution_count": 25,
   "metadata": {},
   "outputs": [
    {
     "output_type": "execute_result",
     "data": {
      "text/plain": [
       "   country  region  wdpa_count  primary_count  peat_count  all_count  \\\n",
       "15     BRA      12         0.0           26.0         0.0       57.0   \n",
       "0      BRA      27        15.0            4.0         0.0       48.0   \n",
       "6      IND      28         0.0            0.0         0.0      131.0   \n",
       "13     IND      19         0.0            0.0         0.0       12.0   \n",
       "3      BRA      24         0.0            0.0         0.0       11.0   \n",
       "6      BRA      21         0.0            0.0         0.0       27.0   \n",
       "2      IND      34         0.0            0.0         0.0       17.0   \n",
       "16     BRA      11         0.0            0.0         0.0       40.0   \n",
       "7      IND      26         0.0            4.0         0.0       11.0   \n",
       "\n",
       "    wdpa_prop  primary_prop  peat_prop  wdpa_std_score  primary_std_score  \\\n",
       "15     0.0000      0.456140        0.0       -0.414039           0.393592   \n",
       "0      0.3125      0.083333        0.0        1.550815           0.372104   \n",
       "6      0.0000      0.000000        0.0        0.000000           0.000000   \n",
       "13     0.0000      0.000000        0.0       -0.558156           0.000000   \n",
       "3      0.0000      0.000000        0.0       -0.316228           0.000000   \n",
       "6      0.0000      0.000000        0.0        0.000000           0.000000   \n",
       "2      0.0000      0.000000        0.0       -0.474342          -0.316228   \n",
       "16     0.0000      0.000000        0.0        0.000000          -0.774597   \n",
       "7      0.0000      0.363636        0.0        0.000000          -0.831688   \n",
       "\n",
       "    peat_std_score  all_std_score  \n",
       "15               0       0.672623  \n",
       "0                0       0.437428  \n",
       "6                0      -0.498873  \n",
       "13               0      -1.136496  \n",
       "3                0       1.551064  \n",
       "6                0       0.959440  \n",
       "2                0      -0.521466  \n",
       "16               0       2.614264  \n",
       "7                0      -0.607817  "
      ],
      "text/html": "<div>\n<style scoped>\n    .dataframe tbody tr th:only-of-type {\n        vertical-align: middle;\n    }\n\n    .dataframe tbody tr th {\n        vertical-align: top;\n    }\n\n    .dataframe thead th {\n        text-align: right;\n    }\n</style>\n<table border=\"1\" class=\"dataframe\">\n  <thead>\n    <tr style=\"text-align: right;\">\n      <th></th>\n      <th>country</th>\n      <th>region</th>\n      <th>wdpa_count</th>\n      <th>primary_count</th>\n      <th>peat_count</th>\n      <th>all_count</th>\n      <th>wdpa_prop</th>\n      <th>primary_prop</th>\n      <th>peat_prop</th>\n      <th>wdpa_std_score</th>\n      <th>primary_std_score</th>\n      <th>peat_std_score</th>\n      <th>all_std_score</th>\n    </tr>\n  </thead>\n  <tbody>\n    <tr>\n      <th>15</th>\n      <td>BRA</td>\n      <td>12</td>\n      <td>0.0</td>\n      <td>26.0</td>\n      <td>0.0</td>\n      <td>57.0</td>\n      <td>0.0000</td>\n      <td>0.456140</td>\n      <td>0.0</td>\n      <td>-0.414039</td>\n      <td>0.393592</td>\n      <td>0</td>\n      <td>0.672623</td>\n    </tr>\n    <tr>\n      <th>0</th>\n      <td>BRA</td>\n      <td>27</td>\n      <td>15.0</td>\n      <td>4.0</td>\n      <td>0.0</td>\n      <td>48.0</td>\n      <td>0.3125</td>\n      <td>0.083333</td>\n      <td>0.0</td>\n      <td>1.550815</td>\n      <td>0.372104</td>\n      <td>0</td>\n      <td>0.437428</td>\n    </tr>\n    <tr>\n      <th>6</th>\n      <td>IND</td>\n      <td>28</td>\n      <td>0.0</td>\n      <td>0.0</td>\n      <td>0.0</td>\n      <td>131.0</td>\n      <td>0.0000</td>\n      <td>0.000000</td>\n      <td>0.0</td>\n      <td>0.000000</td>\n      <td>0.000000</td>\n      <td>0</td>\n      <td>-0.498873</td>\n    </tr>\n    <tr>\n      <th>13</th>\n      <td>IND</td>\n      <td>19</td>\n      <td>0.0</td>\n      <td>0.0</td>\n      <td>0.0</td>\n      <td>12.0</td>\n      <td>0.0000</td>\n      <td>0.000000</td>\n      <td>0.0</td>\n      <td>-0.558156</td>\n      <td>0.000000</td>\n      <td>0</td>\n      <td>-1.136496</td>\n    </tr>\n    <tr>\n      <th>3</th>\n      <td>BRA</td>\n      <td>24</td>\n      <td>0.0</td>\n      <td>0.0</td>\n      <td>0.0</td>\n      <td>11.0</td>\n      <td>0.0000</td>\n      <td>0.000000</td>\n      <td>0.0</td>\n      <td>-0.316228</td>\n      <td>0.000000</td>\n      <td>0</td>\n      <td>1.551064</td>\n    </tr>\n    <tr>\n      <th>6</th>\n      <td>BRA</td>\n      <td>21</td>\n      <td>0.0</td>\n      <td>0.0</td>\n      <td>0.0</td>\n      <td>27.0</td>\n      <td>0.0000</td>\n      <td>0.000000</td>\n      <td>0.0</td>\n      <td>0.000000</td>\n      <td>0.000000</td>\n      <td>0</td>\n      <td>0.959440</td>\n    </tr>\n    <tr>\n      <th>2</th>\n      <td>IND</td>\n      <td>34</td>\n      <td>0.0</td>\n      <td>0.0</td>\n      <td>0.0</td>\n      <td>17.0</td>\n      <td>0.0000</td>\n      <td>0.000000</td>\n      <td>0.0</td>\n      <td>-0.474342</td>\n      <td>-0.316228</td>\n      <td>0</td>\n      <td>-0.521466</td>\n    </tr>\n    <tr>\n      <th>16</th>\n      <td>BRA</td>\n      <td>11</td>\n      <td>0.0</td>\n      <td>0.0</td>\n      <td>0.0</td>\n      <td>40.0</td>\n      <td>0.0000</td>\n      <td>0.000000</td>\n      <td>0.0</td>\n      <td>0.000000</td>\n      <td>-0.774597</td>\n      <td>0</td>\n      <td>2.614264</td>\n    </tr>\n    <tr>\n      <th>7</th>\n      <td>IND</td>\n      <td>26</td>\n      <td>0.0</td>\n      <td>4.0</td>\n      <td>0.0</td>\n      <td>11.0</td>\n      <td>0.0000</td>\n      <td>0.363636</td>\n      <td>0.0</td>\n      <td>0.000000</td>\n      <td>-0.831688</td>\n      <td>0</td>\n      <td>-0.607817</td>\n    </tr>\n  </tbody>\n</table>\n</div>"
     },
     "metadata": {},
     "execution_count": 25
    }
   ],
   "source": [
    "all_regions[all_regions['all_count'] > 10].sort_values('primary_std_score', ascending=False)"
   ]
  },
  {
   "cell_type": "code",
   "execution_count": 26,
   "metadata": {},
   "outputs": [
    {
     "output_type": "execute_result",
     "data": {
      "text/plain": [
       "   country  region  wdpa_count  primary_count  peat_count  all_count  \\\n",
       "0      BRA      27        15.0            4.0         0.0       48.0   \n",
       "6      IND      28         0.0            0.0         0.0      131.0   \n",
       "7      IND      26         0.0            4.0         0.0       11.0   \n",
       "6      BRA      21         0.0            0.0         0.0       27.0   \n",
       "16     BRA      11         0.0            0.0         0.0       40.0   \n",
       "3      BRA      24         0.0            0.0         0.0       11.0   \n",
       "15     BRA      12         0.0           26.0         0.0       57.0   \n",
       "2      IND      34         0.0            0.0         0.0       17.0   \n",
       "13     IND      19         0.0            0.0         0.0       12.0   \n",
       "\n",
       "    wdpa_prop  primary_prop  peat_prop  wdpa_std_score  primary_std_score  \\\n",
       "0      0.3125      0.083333        0.0        1.550815           0.372104   \n",
       "6      0.0000      0.000000        0.0        0.000000           0.000000   \n",
       "7      0.0000      0.363636        0.0        0.000000          -0.831688   \n",
       "6      0.0000      0.000000        0.0        0.000000           0.000000   \n",
       "16     0.0000      0.000000        0.0        0.000000          -0.774597   \n",
       "3      0.0000      0.000000        0.0       -0.316228           0.000000   \n",
       "15     0.0000      0.456140        0.0       -0.414039           0.393592   \n",
       "2      0.0000      0.000000        0.0       -0.474342          -0.316228   \n",
       "13     0.0000      0.000000        0.0       -0.558156           0.000000   \n",
       "\n",
       "    peat_std_score  all_std_score  \n",
       "0                0       0.437428  \n",
       "6                0      -0.498873  \n",
       "7                0      -0.607817  \n",
       "6                0       0.959440  \n",
       "16               0       2.614264  \n",
       "3                0       1.551064  \n",
       "15               0       0.672623  \n",
       "2                0      -0.521466  \n",
       "13               0      -1.136496  "
      ],
      "text/html": "<div>\n<style scoped>\n    .dataframe tbody tr th:only-of-type {\n        vertical-align: middle;\n    }\n\n    .dataframe tbody tr th {\n        vertical-align: top;\n    }\n\n    .dataframe thead th {\n        text-align: right;\n    }\n</style>\n<table border=\"1\" class=\"dataframe\">\n  <thead>\n    <tr style=\"text-align: right;\">\n      <th></th>\n      <th>country</th>\n      <th>region</th>\n      <th>wdpa_count</th>\n      <th>primary_count</th>\n      <th>peat_count</th>\n      <th>all_count</th>\n      <th>wdpa_prop</th>\n      <th>primary_prop</th>\n      <th>peat_prop</th>\n      <th>wdpa_std_score</th>\n      <th>primary_std_score</th>\n      <th>peat_std_score</th>\n      <th>all_std_score</th>\n    </tr>\n  </thead>\n  <tbody>\n    <tr>\n      <th>0</th>\n      <td>BRA</td>\n      <td>27</td>\n      <td>15.0</td>\n      <td>4.0</td>\n      <td>0.0</td>\n      <td>48.0</td>\n      <td>0.3125</td>\n      <td>0.083333</td>\n      <td>0.0</td>\n      <td>1.550815</td>\n      <td>0.372104</td>\n      <td>0</td>\n      <td>0.437428</td>\n    </tr>\n    <tr>\n      <th>6</th>\n      <td>IND</td>\n      <td>28</td>\n      <td>0.0</td>\n      <td>0.0</td>\n      <td>0.0</td>\n      <td>131.0</td>\n      <td>0.0000</td>\n      <td>0.000000</td>\n      <td>0.0</td>\n      <td>0.000000</td>\n      <td>0.000000</td>\n      <td>0</td>\n      <td>-0.498873</td>\n    </tr>\n    <tr>\n      <th>7</th>\n      <td>IND</td>\n      <td>26</td>\n      <td>0.0</td>\n      <td>4.0</td>\n      <td>0.0</td>\n      <td>11.0</td>\n      <td>0.0000</td>\n      <td>0.363636</td>\n      <td>0.0</td>\n      <td>0.000000</td>\n      <td>-0.831688</td>\n      <td>0</td>\n      <td>-0.607817</td>\n    </tr>\n    <tr>\n      <th>6</th>\n      <td>BRA</td>\n      <td>21</td>\n      <td>0.0</td>\n      <td>0.0</td>\n      <td>0.0</td>\n      <td>27.0</td>\n      <td>0.0000</td>\n      <td>0.000000</td>\n      <td>0.0</td>\n      <td>0.000000</td>\n      <td>0.000000</td>\n      <td>0</td>\n      <td>0.959440</td>\n    </tr>\n    <tr>\n      <th>16</th>\n      <td>BRA</td>\n      <td>11</td>\n      <td>0.0</td>\n      <td>0.0</td>\n      <td>0.0</td>\n      <td>40.0</td>\n      <td>0.0000</td>\n      <td>0.000000</td>\n      <td>0.0</td>\n      <td>0.000000</td>\n      <td>-0.774597</td>\n      <td>0</td>\n      <td>2.614264</td>\n    </tr>\n    <tr>\n      <th>3</th>\n      <td>BRA</td>\n      <td>24</td>\n      <td>0.0</td>\n      <td>0.0</td>\n      <td>0.0</td>\n      <td>11.0</td>\n      <td>0.0000</td>\n      <td>0.000000</td>\n      <td>0.0</td>\n      <td>-0.316228</td>\n      <td>0.000000</td>\n      <td>0</td>\n      <td>1.551064</td>\n    </tr>\n    <tr>\n      <th>15</th>\n      <td>BRA</td>\n      <td>12</td>\n      <td>0.0</td>\n      <td>26.0</td>\n      <td>0.0</td>\n      <td>57.0</td>\n      <td>0.0000</td>\n      <td>0.456140</td>\n      <td>0.0</td>\n      <td>-0.414039</td>\n      <td>0.393592</td>\n      <td>0</td>\n      <td>0.672623</td>\n    </tr>\n    <tr>\n      <th>2</th>\n      <td>IND</td>\n      <td>34</td>\n      <td>0.0</td>\n      <td>0.0</td>\n      <td>0.0</td>\n      <td>17.0</td>\n      <td>0.0000</td>\n      <td>0.000000</td>\n      <td>0.0</td>\n      <td>-0.474342</td>\n      <td>-0.316228</td>\n      <td>0</td>\n      <td>-0.521466</td>\n    </tr>\n    <tr>\n      <th>13</th>\n      <td>IND</td>\n      <td>19</td>\n      <td>0.0</td>\n      <td>0.0</td>\n      <td>0.0</td>\n      <td>12.0</td>\n      <td>0.0000</td>\n      <td>0.000000</td>\n      <td>0.0</td>\n      <td>-0.558156</td>\n      <td>0.000000</td>\n      <td>0</td>\n      <td>-1.136496</td>\n    </tr>\n  </tbody>\n</table>\n</div>"
     },
     "metadata": {},
     "execution_count": 26
    }
   ],
   "source": [
    "all_regions[all_regions['all_count'] > 10].sort_values('wdpa_std_score', ascending=False)"
   ]
  },
  {
   "cell_type": "code",
   "execution_count": null,
   "metadata": {},
   "outputs": [],
   "source": []
  },
  {
   "cell_type": "code",
   "execution_count": null,
   "metadata": {},
   "outputs": [],
   "source": []
  },
  {
   "cell_type": "code",
   "execution_count": null,
   "metadata": {},
   "outputs": [],
   "source": []
  },
  {
   "cell_type": "code",
   "execution_count": null,
   "metadata": {},
   "outputs": [],
   "source": []
  },
  {
   "cell_type": "code",
   "execution_count": null,
   "metadata": {},
   "outputs": [],
   "source": [
    "os.getcwd()"
   ]
  },
  {
   "cell_type": "code",
   "execution_count": null,
   "metadata": {},
   "outputs": [],
   "source": [
    "# Need to report the number of days with fires for each region and district"
   ]
  },
  {
   "cell_type": "code",
   "execution_count": null,
   "metadata": {},
   "outputs": [],
   "source": [
    "t = countries['AUS'].region_summary\n",
    "print(t)\n",
    "t2 = t.loc[5]"
   ]
  },
  {
   "cell_type": "code",
   "execution_count": null,
   "metadata": {},
   "outputs": [],
   "source": [
    "(country, region, wdpa_count, primary_count,\n",
    "peat_countm, all_count, wdpa_prop, primary_prop,\n",
    "peat_prop, wdpa_std_score, primary_std_score,\n",
    "peat_std_score, all_std_score) = t2\n",
    "region"
   ]
  },
  {
   "cell_type": "code",
   "execution_count": null,
   "metadata": {},
   "outputs": [],
   "source": [
    "(country, region, wdpa_count, primary_count,\n",
    "peat_countm, all_count, wdpa_prop, primary_prop,\n",
    "peat_prop, wdpa_std_score, primary_std_score,\n",
    "peat_std_score, all_std_score) = t2\n",
    "\n",
    "\n",
    "\n",
    "days = 7\n",
    "# all_count = 33\n",
    "# wdpa_prop = 0.159\n",
    "# primary_prop = 0\n",
    "# peat_prop = 0\n",
    "# all_std_score = 0.021401\n",
    "# wdpa_std_score = 1.3509876\n",
    "# primary_std_score = 0\n",
    "# peat_std_score = 0\n",
    "\n",
    "# Generate text\n",
    "s = f'This area is important because there were {int(all_count)} alerts in the past {days} days. This is {round(all_std_score, 2)}x higher than the average number of alerts during the same period going back to 2012.'\n",
    "\n",
    "if wdpa_prop > 0:\n",
    "    s += f' {int(wdpa_prop * 100)}% of the alerts occurred in protected areas.'\n",
    "    \n",
    "    if wdpa_std_score > 1:\n",
    "        s += f' The number of alerts in protected areas is higher than usual in this area (roughly {round(wdpa_std_score, 2)}x higher than previous years).'\n",
    "\n",
    "if primary_prop > 0:\n",
    "    s += f' {int(primary_prop * 100)}% of the alerts occurred in primary forests.'\n",
    "    if primary_std_score > 1:\n",
    "        s += f' The number of alerts in primary forests is higher than usual in this area (roughly {round(primary_std_score, 2)}x higher than previous years).'\n",
    "\n",
    "# if t2['peat_prop'] > 0:\n",
    "#     s += f' {int(t2['peat_prop'] * 100)}% of the alerts occurred in peatlands.'\n",
    "#     if t2['peat_std_score'] > 1:\n",
    "#         s += f' The number of alerts in peatlands is higher than usual in this area (roughly {round(t2['peat_std_score'], 2)}x higher than previous years).'\n",
    "\n",
    "s"
   ]
  },
  {
   "cell_type": "code",
   "execution_count": null,
   "metadata": {},
   "outputs": [],
   "source": []
  },
  {
   "cell_type": "code",
   "execution_count": null,
   "metadata": {},
   "outputs": [],
   "source": []
  },
  {
   "cell_type": "code",
   "execution_count": 66,
   "metadata": {},
   "outputs": [
    {
     "output_type": "stream",
     "name": "stdout",
     "text": [
      "country: IND\nregion: 11\ndistricts: {32, 1, 33, 3, 4, 6, 9, 10, 14, 15, 16, 17, 21, 22, 28, 29, 31}\n"
     ]
    },
    {
     "output_type": "execute_result",
     "data": {
      "text/plain": [
       "2012    1\n",
       "2013    0\n",
       "2014    0\n",
       "2015    2\n",
       "2016    0\n",
       "2017    0\n",
       "2018    0\n",
       "2019    3\n",
       "2020    0\n",
       "2021    0\n",
       "Name: all_count, dtype: int64"
      ]
     },
     "metadata": {},
     "execution_count": 66
    }
   ],
   "source": [
    "print(countries['IND'].regions[19])\n",
    "\n",
    "district = District(countries['IND'].regions[19], 6)\n",
    "\n",
    "district.season_data['all_count']"
   ]
  },
  {
   "cell_type": "code",
   "execution_count": 67,
   "metadata": {},
   "outputs": [
    {
     "output_type": "stream",
     "name": "stdout",
     "text": [
      "0.37210420376762543\n-0.558156305651438\n-0.558156305651438\n1.302364713186689\n-0.558156305651438\n-0.558156305651438\n-0.558156305651438\n2.232625222605752\n-0.558156305651438\n-0.558156305651438\n"
     ]
    }
   ],
   "source": [
    "for year in i:\n",
    "    print(get_std_score(district.season_data, year, 'all_count'))"
   ]
  },
  {
   "cell_type": "code",
   "execution_count": 69,
   "metadata": {},
   "outputs": [
    {
     "output_type": "display_data",
     "data": {
      "text/plain": "<Figure size 432x288 with 1 Axes>",
      "image/svg+xml": "<?xml version=\"1.0\" encoding=\"utf-8\" standalone=\"no\"?>\r\n<!DOCTYPE svg PUBLIC \"-//W3C//DTD SVG 1.1//EN\"\r\n  \"http://www.w3.org/Graphics/SVG/1.1/DTD/svg11.dtd\">\r\n<svg height=\"248.518125pt\" version=\"1.1\" viewBox=\"0 0 380.482812 248.518125\" width=\"380.482812pt\" xmlns=\"http://www.w3.org/2000/svg\" xmlns:xlink=\"http://www.w3.org/1999/xlink\">\r\n <metadata>\r\n  <rdf:RDF xmlns:cc=\"http://creativecommons.org/ns#\" xmlns:dc=\"http://purl.org/dc/elements/1.1/\" xmlns:rdf=\"http://www.w3.org/1999/02/22-rdf-syntax-ns#\">\r\n   <cc:Work>\r\n    <dc:type rdf:resource=\"http://purl.org/dc/dcmitype/StillImage\"/>\r\n    <dc:date>2021-05-21T18:04:38.953230</dc:date>\r\n    <dc:format>image/svg+xml</dc:format>\r\n    <dc:creator>\r\n     <cc:Agent>\r\n      <dc:title>Matplotlib v3.4.2, https://matplotlib.org/</dc:title>\r\n     </cc:Agent>\r\n    </dc:creator>\r\n   </cc:Work>\r\n  </rdf:RDF>\r\n </metadata>\r\n <defs>\r\n  <style type=\"text/css\">*{stroke-linecap:butt;stroke-linejoin:round;}</style>\r\n </defs>\r\n <g id=\"figure_1\">\r\n  <g id=\"patch_1\">\r\n   <path d=\"M -0 248.518125 \r\nL 380.482812 248.518125 \r\nL 380.482812 0 \r\nL -0 0 \r\nz\r\n\" style=\"fill:none;\"/>\r\n  </g>\r\n  <g id=\"axes_1\">\r\n   <g id=\"patch_2\">\r\n    <path d=\"M 38.482813 224.64 \r\nL 373.282813 224.64 \r\nL 373.282813 7.2 \r\nL 38.482813 7.2 \r\nz\r\n\" style=\"fill:#ffffff;\"/>\r\n   </g>\r\n   <g id=\"matplotlib.axis_1\">\r\n    <g id=\"xtick_1\">\r\n     <g id=\"line2d_1\">\r\n      <defs>\r\n       <path d=\"M 0 0 \r\nL 0 3.5 \r\n\" id=\"m9cdef6f9b9\" style=\"stroke:#000000;stroke-width:0.8;\"/>\r\n      </defs>\r\n      <g>\r\n       <use style=\"stroke:#000000;stroke-width:0.8;\" x=\"53.700994\" xlink:href=\"#m9cdef6f9b9\" y=\"224.64\"/>\r\n      </g>\r\n     </g>\r\n     <g id=\"text_1\">\r\n      <!-- 0 -->\r\n      <g transform=\"translate(50.519744 239.238437)scale(0.1 -0.1)\">\r\n       <defs>\r\n        <path d=\"M 2034 4250 \r\nQ 1547 4250 1301 3770 \r\nQ 1056 3291 1056 2328 \r\nQ 1056 1369 1301 889 \r\nQ 1547 409 2034 409 \r\nQ 2525 409 2770 889 \r\nQ 3016 1369 3016 2328 \r\nQ 3016 3291 2770 3770 \r\nQ 2525 4250 2034 4250 \r\nz\r\nM 2034 4750 \r\nQ 2819 4750 3233 4129 \r\nQ 3647 3509 3647 2328 \r\nQ 3647 1150 3233 529 \r\nQ 2819 -91 2034 -91 \r\nQ 1250 -91 836 529 \r\nQ 422 1150 422 2328 \r\nQ 422 3509 836 4129 \r\nQ 1250 4750 2034 4750 \r\nz\r\n\" id=\"DejaVuSans-30\" transform=\"scale(0.015625)\"/>\r\n       </defs>\r\n       <use xlink:href=\"#DejaVuSans-30\"/>\r\n      </g>\r\n     </g>\r\n    </g>\r\n    <g id=\"xtick_2\">\r\n     <g id=\"line2d_2\">\r\n      <g>\r\n       <use style=\"stroke:#000000;stroke-width:0.8;\" x=\"121.337358\" xlink:href=\"#m9cdef6f9b9\" y=\"224.64\"/>\r\n      </g>\r\n     </g>\r\n     <g id=\"text_2\">\r\n      <!-- 2 -->\r\n      <g transform=\"translate(118.156108 239.238437)scale(0.1 -0.1)\">\r\n       <defs>\r\n        <path d=\"M 1228 531 \r\nL 3431 531 \r\nL 3431 0 \r\nL 469 0 \r\nL 469 531 \r\nQ 828 903 1448 1529 \r\nQ 2069 2156 2228 2338 \r\nQ 2531 2678 2651 2914 \r\nQ 2772 3150 2772 3378 \r\nQ 2772 3750 2511 3984 \r\nQ 2250 4219 1831 4219 \r\nQ 1534 4219 1204 4116 \r\nQ 875 4013 500 3803 \r\nL 500 4441 \r\nQ 881 4594 1212 4672 \r\nQ 1544 4750 1819 4750 \r\nQ 2544 4750 2975 4387 \r\nQ 3406 4025 3406 3419 \r\nQ 3406 3131 3298 2873 \r\nQ 3191 2616 2906 2266 \r\nQ 2828 2175 2409 1742 \r\nQ 1991 1309 1228 531 \r\nz\r\n\" id=\"DejaVuSans-32\" transform=\"scale(0.015625)\"/>\r\n       </defs>\r\n       <use xlink:href=\"#DejaVuSans-32\"/>\r\n      </g>\r\n     </g>\r\n    </g>\r\n    <g id=\"xtick_3\">\r\n     <g id=\"line2d_3\">\r\n      <g>\r\n       <use style=\"stroke:#000000;stroke-width:0.8;\" x=\"188.973722\" xlink:href=\"#m9cdef6f9b9\" y=\"224.64\"/>\r\n      </g>\r\n     </g>\r\n     <g id=\"text_3\">\r\n      <!-- 4 -->\r\n      <g transform=\"translate(185.792472 239.238437)scale(0.1 -0.1)\">\r\n       <defs>\r\n        <path d=\"M 2419 4116 \r\nL 825 1625 \r\nL 2419 1625 \r\nL 2419 4116 \r\nz\r\nM 2253 4666 \r\nL 3047 4666 \r\nL 3047 1625 \r\nL 3713 1625 \r\nL 3713 1100 \r\nL 3047 1100 \r\nL 3047 0 \r\nL 2419 0 \r\nL 2419 1100 \r\nL 313 1100 \r\nL 313 1709 \r\nL 2253 4666 \r\nz\r\n\" id=\"DejaVuSans-34\" transform=\"scale(0.015625)\"/>\r\n       </defs>\r\n       <use xlink:href=\"#DejaVuSans-34\"/>\r\n      </g>\r\n     </g>\r\n    </g>\r\n    <g id=\"xtick_4\">\r\n     <g id=\"line2d_4\">\r\n      <g>\r\n       <use style=\"stroke:#000000;stroke-width:0.8;\" x=\"256.610085\" xlink:href=\"#m9cdef6f9b9\" y=\"224.64\"/>\r\n      </g>\r\n     </g>\r\n     <g id=\"text_4\">\r\n      <!-- 6 -->\r\n      <g transform=\"translate(253.428835 239.238437)scale(0.1 -0.1)\">\r\n       <defs>\r\n        <path d=\"M 2113 2584 \r\nQ 1688 2584 1439 2293 \r\nQ 1191 2003 1191 1497 \r\nQ 1191 994 1439 701 \r\nQ 1688 409 2113 409 \r\nQ 2538 409 2786 701 \r\nQ 3034 994 3034 1497 \r\nQ 3034 2003 2786 2293 \r\nQ 2538 2584 2113 2584 \r\nz\r\nM 3366 4563 \r\nL 3366 3988 \r\nQ 3128 4100 2886 4159 \r\nQ 2644 4219 2406 4219 \r\nQ 1781 4219 1451 3797 \r\nQ 1122 3375 1075 2522 \r\nQ 1259 2794 1537 2939 \r\nQ 1816 3084 2150 3084 \r\nQ 2853 3084 3261 2657 \r\nQ 3669 2231 3669 1497 \r\nQ 3669 778 3244 343 \r\nQ 2819 -91 2113 -91 \r\nQ 1303 -91 875 529 \r\nQ 447 1150 447 2328 \r\nQ 447 3434 972 4092 \r\nQ 1497 4750 2381 4750 \r\nQ 2619 4750 2861 4703 \r\nQ 3103 4656 3366 4563 \r\nz\r\n\" id=\"DejaVuSans-36\" transform=\"scale(0.015625)\"/>\r\n       </defs>\r\n       <use xlink:href=\"#DejaVuSans-36\"/>\r\n      </g>\r\n     </g>\r\n    </g>\r\n    <g id=\"xtick_5\">\r\n     <g id=\"line2d_5\">\r\n      <g>\r\n       <use style=\"stroke:#000000;stroke-width:0.8;\" x=\"324.246449\" xlink:href=\"#m9cdef6f9b9\" y=\"224.64\"/>\r\n      </g>\r\n     </g>\r\n     <g id=\"text_5\">\r\n      <!-- 8 -->\r\n      <g transform=\"translate(321.065199 239.238437)scale(0.1 -0.1)\">\r\n       <defs>\r\n        <path d=\"M 2034 2216 \r\nQ 1584 2216 1326 1975 \r\nQ 1069 1734 1069 1313 \r\nQ 1069 891 1326 650 \r\nQ 1584 409 2034 409 \r\nQ 2484 409 2743 651 \r\nQ 3003 894 3003 1313 \r\nQ 3003 1734 2745 1975 \r\nQ 2488 2216 2034 2216 \r\nz\r\nM 1403 2484 \r\nQ 997 2584 770 2862 \r\nQ 544 3141 544 3541 \r\nQ 544 4100 942 4425 \r\nQ 1341 4750 2034 4750 \r\nQ 2731 4750 3128 4425 \r\nQ 3525 4100 3525 3541 \r\nQ 3525 3141 3298 2862 \r\nQ 3072 2584 2669 2484 \r\nQ 3125 2378 3379 2068 \r\nQ 3634 1759 3634 1313 \r\nQ 3634 634 3220 271 \r\nQ 2806 -91 2034 -91 \r\nQ 1263 -91 848 271 \r\nQ 434 634 434 1313 \r\nQ 434 1759 690 2068 \r\nQ 947 2378 1403 2484 \r\nz\r\nM 1172 3481 \r\nQ 1172 3119 1398 2916 \r\nQ 1625 2713 2034 2713 \r\nQ 2441 2713 2670 2916 \r\nQ 2900 3119 2900 3481 \r\nQ 2900 3844 2670 4047 \r\nQ 2441 4250 2034 4250 \r\nQ 1625 4250 1398 4047 \r\nQ 1172 3844 1172 3481 \r\nz\r\n\" id=\"DejaVuSans-38\" transform=\"scale(0.015625)\"/>\r\n       </defs>\r\n       <use xlink:href=\"#DejaVuSans-38\"/>\r\n      </g>\r\n     </g>\r\n    </g>\r\n   </g>\r\n   <g id=\"matplotlib.axis_2\">\r\n    <g id=\"ytick_1\">\r\n     <g id=\"line2d_6\">\r\n      <defs>\r\n       <path d=\"M 0 0 \r\nL -3.5 0 \r\n\" id=\"m5b6d8792a6\" style=\"stroke:#000000;stroke-width:0.8;\"/>\r\n      </defs>\r\n      <g>\r\n       <use style=\"stroke:#000000;stroke-width:0.8;\" x=\"38.482813\" xlink:href=\"#m5b6d8792a6\" y=\"210.637118\"/>\r\n      </g>\r\n     </g>\r\n     <g id=\"text_6\">\r\n      <!-- −0.5 -->\r\n      <g transform=\"translate(7.2 214.436336)scale(0.1 -0.1)\">\r\n       <defs>\r\n        <path d=\"M 678 2272 \r\nL 4684 2272 \r\nL 4684 1741 \r\nL 678 1741 \r\nL 678 2272 \r\nz\r\n\" id=\"DejaVuSans-2212\" transform=\"scale(0.015625)\"/>\r\n        <path d=\"M 684 794 \r\nL 1344 794 \r\nL 1344 0 \r\nL 684 0 \r\nL 684 794 \r\nz\r\n\" id=\"DejaVuSans-2e\" transform=\"scale(0.015625)\"/>\r\n        <path d=\"M 691 4666 \r\nL 3169 4666 \r\nL 3169 4134 \r\nL 1269 4134 \r\nL 1269 2991 \r\nQ 1406 3038 1543 3061 \r\nQ 1681 3084 1819 3084 \r\nQ 2600 3084 3056 2656 \r\nQ 3513 2228 3513 1497 \r\nQ 3513 744 3044 326 \r\nQ 2575 -91 1722 -91 \r\nQ 1428 -91 1123 -41 \r\nQ 819 9 494 109 \r\nL 494 744 \r\nQ 775 591 1075 516 \r\nQ 1375 441 1709 441 \r\nQ 2250 441 2565 725 \r\nQ 2881 1009 2881 1497 \r\nQ 2881 1984 2565 2268 \r\nQ 2250 2553 1709 2553 \r\nQ 1456 2553 1204 2497 \r\nQ 953 2441 691 2322 \r\nL 691 4666 \r\nz\r\n\" id=\"DejaVuSans-35\" transform=\"scale(0.015625)\"/>\r\n       </defs>\r\n       <use xlink:href=\"#DejaVuSans-2212\"/>\r\n       <use x=\"83.789062\" xlink:href=\"#DejaVuSans-30\"/>\r\n       <use x=\"147.412109\" xlink:href=\"#DejaVuSans-2e\"/>\r\n       <use x=\"179.199219\" xlink:href=\"#DejaVuSans-35\"/>\r\n      </g>\r\n     </g>\r\n    </g>\r\n    <g id=\"ytick_2\">\r\n     <g id=\"line2d_7\">\r\n      <g>\r\n       <use style=\"stroke:#000000;stroke-width:0.8;\" x=\"38.482813\" xlink:href=\"#m5b6d8792a6\" y=\"175.221818\"/>\r\n      </g>\r\n     </g>\r\n     <g id=\"text_7\">\r\n      <!-- 0.0 -->\r\n      <g transform=\"translate(15.579688 179.021037)scale(0.1 -0.1)\">\r\n       <use xlink:href=\"#DejaVuSans-30\"/>\r\n       <use x=\"63.623047\" xlink:href=\"#DejaVuSans-2e\"/>\r\n       <use x=\"95.410156\" xlink:href=\"#DejaVuSans-30\"/>\r\n      </g>\r\n     </g>\r\n    </g>\r\n    <g id=\"ytick_3\">\r\n     <g id=\"line2d_8\">\r\n      <g>\r\n       <use style=\"stroke:#000000;stroke-width:0.8;\" x=\"38.482813\" xlink:href=\"#m5b6d8792a6\" y=\"139.806519\"/>\r\n      </g>\r\n     </g>\r\n     <g id=\"text_8\">\r\n      <!-- 0.5 -->\r\n      <g transform=\"translate(15.579688 143.605737)scale(0.1 -0.1)\">\r\n       <use xlink:href=\"#DejaVuSans-30\"/>\r\n       <use x=\"63.623047\" xlink:href=\"#DejaVuSans-2e\"/>\r\n       <use x=\"95.410156\" xlink:href=\"#DejaVuSans-35\"/>\r\n      </g>\r\n     </g>\r\n    </g>\r\n    <g id=\"ytick_4\">\r\n     <g id=\"line2d_9\">\r\n      <g>\r\n       <use style=\"stroke:#000000;stroke-width:0.8;\" x=\"38.482813\" xlink:href=\"#m5b6d8792a6\" y=\"104.391219\"/>\r\n      </g>\r\n     </g>\r\n     <g id=\"text_9\">\r\n      <!-- 1.0 -->\r\n      <g transform=\"translate(15.579688 108.190438)scale(0.1 -0.1)\">\r\n       <defs>\r\n        <path d=\"M 794 531 \r\nL 1825 531 \r\nL 1825 4091 \r\nL 703 3866 \r\nL 703 4441 \r\nL 1819 4666 \r\nL 2450 4666 \r\nL 2450 531 \r\nL 3481 531 \r\nL 3481 0 \r\nL 794 0 \r\nL 794 531 \r\nz\r\n\" id=\"DejaVuSans-31\" transform=\"scale(0.015625)\"/>\r\n       </defs>\r\n       <use xlink:href=\"#DejaVuSans-31\"/>\r\n       <use x=\"63.623047\" xlink:href=\"#DejaVuSans-2e\"/>\r\n       <use x=\"95.410156\" xlink:href=\"#DejaVuSans-30\"/>\r\n      </g>\r\n     </g>\r\n    </g>\r\n    <g id=\"ytick_5\">\r\n     <g id=\"line2d_10\">\r\n      <g>\r\n       <use style=\"stroke:#000000;stroke-width:0.8;\" x=\"38.482813\" xlink:href=\"#m5b6d8792a6\" y=\"68.97592\"/>\r\n      </g>\r\n     </g>\r\n     <g id=\"text_10\">\r\n      <!-- 1.5 -->\r\n      <g transform=\"translate(15.579688 72.775138)scale(0.1 -0.1)\">\r\n       <use xlink:href=\"#DejaVuSans-31\"/>\r\n       <use x=\"63.623047\" xlink:href=\"#DejaVuSans-2e\"/>\r\n       <use x=\"95.410156\" xlink:href=\"#DejaVuSans-35\"/>\r\n      </g>\r\n     </g>\r\n    </g>\r\n    <g id=\"ytick_6\">\r\n     <g id=\"line2d_11\">\r\n      <g>\r\n       <use style=\"stroke:#000000;stroke-width:0.8;\" x=\"38.482813\" xlink:href=\"#m5b6d8792a6\" y=\"33.56062\"/>\r\n      </g>\r\n     </g>\r\n     <g id=\"text_11\">\r\n      <!-- 2.0 -->\r\n      <g transform=\"translate(15.579688 37.359839)scale(0.1 -0.1)\">\r\n       <use xlink:href=\"#DejaVuSans-32\"/>\r\n       <use x=\"63.623047\" xlink:href=\"#DejaVuSans-2e\"/>\r\n       <use x=\"95.410156\" xlink:href=\"#DejaVuSans-30\"/>\r\n      </g>\r\n     </g>\r\n    </g>\r\n   </g>\r\n   <g id=\"LineCollection_1\">\r\n    <path clip-path=\"url(#p13757f80f0)\" d=\"M 53.700994 175.221818 \r\nL 53.700994 148.865455 \r\n\" style=\"fill:none;stroke:#1f77b4;stroke-width:1.5;\"/>\r\n    <path clip-path=\"url(#p13757f80f0)\" d=\"M 87.519176 175.221818 \r\nL 87.519176 214.756364 \r\n\" style=\"fill:none;stroke:#1f77b4;stroke-width:1.5;\"/>\r\n    <path clip-path=\"url(#p13757f80f0)\" d=\"M 121.337358 175.221818 \r\nL 121.337358 214.756364 \r\n\" style=\"fill:none;stroke:#1f77b4;stroke-width:1.5;\"/>\r\n    <path clip-path=\"url(#p13757f80f0)\" d=\"M 155.15554 175.221818 \r\nL 155.15554 82.974545 \r\n\" style=\"fill:none;stroke:#1f77b4;stroke-width:1.5;\"/>\r\n    <path clip-path=\"url(#p13757f80f0)\" d=\"M 188.973722 175.221818 \r\nL 188.973722 214.756364 \r\n\" style=\"fill:none;stroke:#1f77b4;stroke-width:1.5;\"/>\r\n    <path clip-path=\"url(#p13757f80f0)\" d=\"M 222.791903 175.221818 \r\nL 222.791903 214.756364 \r\n\" style=\"fill:none;stroke:#1f77b4;stroke-width:1.5;\"/>\r\n    <path clip-path=\"url(#p13757f80f0)\" d=\"M 256.610085 175.221818 \r\nL 256.610085 214.756364 \r\n\" style=\"fill:none;stroke:#1f77b4;stroke-width:1.5;\"/>\r\n    <path clip-path=\"url(#p13757f80f0)\" d=\"M 290.428267 175.221818 \r\nL 290.428267 17.083636 \r\n\" style=\"fill:none;stroke:#1f77b4;stroke-width:1.5;\"/>\r\n    <path clip-path=\"url(#p13757f80f0)\" d=\"M 324.246449 175.221818 \r\nL 324.246449 214.756364 \r\n\" style=\"fill:none;stroke:#1f77b4;stroke-width:1.5;\"/>\r\n    <path clip-path=\"url(#p13757f80f0)\" d=\"M 358.064631 175.221818 \r\nL 358.064631 214.756364 \r\n\" style=\"fill:none;stroke:#1f77b4;stroke-width:1.5;\"/>\r\n   </g>\r\n   <g id=\"line2d_12\">\r\n    <defs>\r\n     <path d=\"M 0 2.5 \r\nC 0.663008 2.5 1.29895 2.236584 1.767767 1.767767 \r\nC 2.236584 1.29895 2.5 0.663008 2.5 0 \r\nC 2.5 -0.663008 2.236584 -1.29895 1.767767 -1.767767 \r\nC 1.29895 -2.236584 0.663008 -2.5 0 -2.5 \r\nC -0.663008 -2.5 -1.29895 -2.236584 -1.767767 -1.767767 \r\nC -2.236584 -1.29895 -2.5 -0.663008 -2.5 0 \r\nC -2.5 0.663008 -2.236584 1.29895 -1.767767 1.767767 \r\nC -1.29895 2.236584 -0.663008 2.5 0 2.5 \r\nz\r\n\" id=\"m32090ab3b4\" style=\"stroke:#1f77b4;\"/>\r\n    </defs>\r\n    <g clip-path=\"url(#p13757f80f0)\">\r\n     <use style=\"fill:#1f77b4;stroke:#1f77b4;\" x=\"53.700994\" xlink:href=\"#m32090ab3b4\" y=\"148.865455\"/>\r\n     <use style=\"fill:#1f77b4;stroke:#1f77b4;\" x=\"87.519176\" xlink:href=\"#m32090ab3b4\" y=\"214.756364\"/>\r\n     <use style=\"fill:#1f77b4;stroke:#1f77b4;\" x=\"121.337358\" xlink:href=\"#m32090ab3b4\" y=\"214.756364\"/>\r\n     <use style=\"fill:#1f77b4;stroke:#1f77b4;\" x=\"155.15554\" xlink:href=\"#m32090ab3b4\" y=\"82.974545\"/>\r\n     <use style=\"fill:#1f77b4;stroke:#1f77b4;\" x=\"188.973722\" xlink:href=\"#m32090ab3b4\" y=\"214.756364\"/>\r\n     <use style=\"fill:#1f77b4;stroke:#1f77b4;\" x=\"222.791903\" xlink:href=\"#m32090ab3b4\" y=\"214.756364\"/>\r\n     <use style=\"fill:#1f77b4;stroke:#1f77b4;\" x=\"256.610085\" xlink:href=\"#m32090ab3b4\" y=\"214.756364\"/>\r\n     <use style=\"fill:#1f77b4;stroke:#1f77b4;\" x=\"290.428267\" xlink:href=\"#m32090ab3b4\" y=\"17.083636\"/>\r\n     <use style=\"fill:#1f77b4;stroke:#1f77b4;\" x=\"324.246449\" xlink:href=\"#m32090ab3b4\" y=\"214.756364\"/>\r\n     <use style=\"fill:#1f77b4;stroke:#1f77b4;\" x=\"358.064631\" xlink:href=\"#m32090ab3b4\" y=\"214.756364\"/>\r\n    </g>\r\n   </g>\r\n   <g id=\"line2d_13\">\r\n    <path clip-path=\"url(#p13757f80f0)\" d=\"M 53.700994 175.221818 \r\nL 358.064631 175.221818 \r\n\" style=\"fill:none;stroke:#d62728;stroke-linecap:square;stroke-width:1.5;\"/>\r\n   </g>\r\n   <g id=\"patch_3\">\r\n    <path d=\"M 38.482813 224.64 \r\nL 38.482813 7.2 \r\n\" style=\"fill:none;stroke:#000000;stroke-linecap:square;stroke-linejoin:miter;stroke-width:0.8;\"/>\r\n   </g>\r\n   <g id=\"patch_4\">\r\n    <path d=\"M 373.282813 224.64 \r\nL 373.282813 7.2 \r\n\" style=\"fill:none;stroke:#000000;stroke-linecap:square;stroke-linejoin:miter;stroke-width:0.8;\"/>\r\n   </g>\r\n   <g id=\"patch_5\">\r\n    <path d=\"M 38.482813 224.64 \r\nL 373.282812 224.64 \r\n\" style=\"fill:none;stroke:#000000;stroke-linecap:square;stroke-linejoin:miter;stroke-width:0.8;\"/>\r\n   </g>\r\n   <g id=\"patch_6\">\r\n    <path d=\"M 38.482813 7.2 \r\nL 373.282812 7.2 \r\n\" style=\"fill:none;stroke:#000000;stroke-linecap:square;stroke-linejoin:miter;stroke-width:0.8;\"/>\r\n   </g>\r\n  </g>\r\n </g>\r\n <defs>\r\n  <clipPath id=\"p13757f80f0\">\r\n   <rect height=\"217.44\" width=\"334.8\" x=\"38.482813\" y=\"7.2\"/>\r\n  </clipPath>\r\n </defs>\r\n</svg>\r\n",
      "image/png": "[encoded data removed]"
     },
     "metadata": {
      "needs_background": "light"
     }
    },
    {
     "output_type": "display_data",
     "data": {
      "text/plain": "<Figure size 432x288 with 1 Axes>",
      "image/svg+xml": "<?xml version=\"1.0\" encoding=\"utf-8\" standalone=\"no\"?>\r\n<!DOCTYPE svg PUBLIC \"-//W3C//DTD SVG 1.1//EN\"\r\n  \"http://www.w3.org/Graphics/SVG/1.1/DTD/svg11.dtd\">\r\n<svg height=\"248.518125pt\" version=\"1.1\" viewBox=\"0 0 384.83125 248.518125\" width=\"384.83125pt\" xmlns=\"http://www.w3.org/2000/svg\" xmlns:xlink=\"http://www.w3.org/1999/xlink\">\r\n <metadata>\r\n  <rdf:RDF xmlns:cc=\"http://creativecommons.org/ns#\" xmlns:dc=\"http://purl.org/dc/elements/1.1/\" xmlns:rdf=\"http://www.w3.org/1999/02/22-rdf-syntax-ns#\">\r\n   <cc:Work>\r\n    <dc:type rdf:resource=\"http://purl.org/dc/dcmitype/StillImage\"/>\r\n    <dc:date>2021-05-21T18:04:39.513126</dc:date>\r\n    <dc:format>image/svg+xml</dc:format>\r\n    <dc:creator>\r\n     <cc:Agent>\r\n      <dc:title>Matplotlib v3.4.2, https://matplotlib.org/</dc:title>\r\n     </cc:Agent>\r\n    </dc:creator>\r\n   </cc:Work>\r\n  </rdf:RDF>\r\n </metadata>\r\n <defs>\r\n  <style type=\"text/css\">*{stroke-linecap:butt;stroke-linejoin:round;}</style>\r\n </defs>\r\n <g id=\"figure_1\">\r\n  <g id=\"patch_1\">\r\n   <path d=\"M -0 248.518125 \r\nL 384.83125 248.518125 \r\nL 384.83125 0 \r\nL -0 0 \r\nz\r\n\" style=\"fill:none;\"/>\r\n  </g>\r\n  <g id=\"axes_1\">\r\n   <g id=\"patch_2\">\r\n    <path d=\"M 39.65 224.64 \r\nL 374.45 224.64 \r\nL 374.45 7.2 \r\nL 39.65 7.2 \r\nz\r\n\" style=\"fill:#ffffff;\"/>\r\n   </g>\r\n   <g id=\"patch_3\">\r\n    <path clip-path=\"url(#p70587d90fc)\" d=\"M 151.25 214.756364 \r\nL 262.85 214.756364 \r\nL 262.85 17.083636 \r\nL 151.25 17.083636 \r\nz\r\n\" style=\"opacity:0.1;\"/>\r\n   </g>\r\n   <g id=\"patch_4\">\r\n    <path clip-path=\"url(#p70587d90fc)\" d=\"M 95.45 214.756364 \r\nL 318.65 214.756364 \r\nL 318.65 17.083636 \r\nL 95.45 17.083636 \r\nz\r\n\" style=\"opacity:0.1;\"/>\r\n   </g>\r\n   <g id=\"matplotlib.axis_1\">\r\n    <g id=\"xtick_1\">\r\n     <g id=\"line2d_1\">\r\n      <defs>\r\n       <path d=\"M 0 0 \r\nL 0 3.5 \r\n\" id=\"mb5adf7c024\" style=\"stroke:#000000;stroke-width:0.8;\"/>\r\n      </defs>\r\n      <g>\r\n       <use style=\"stroke:#000000;stroke-width:0.8;\" x=\"39.65\" xlink:href=\"#mb5adf7c024\" y=\"224.64\"/>\r\n      </g>\r\n     </g>\r\n     <g id=\"text_1\">\r\n      <!-- −3 -->\r\n      <g transform=\"translate(32.278906 239.238437)scale(0.1 -0.1)\">\r\n       <defs>\r\n        <path d=\"M 678 2272 \r\nL 4684 2272 \r\nL 4684 1741 \r\nL 678 1741 \r\nL 678 2272 \r\nz\r\n\" id=\"DejaVuSans-2212\" transform=\"scale(0.015625)\"/>\r\n        <path d=\"M 2597 2516 \r\nQ 3050 2419 3304 2112 \r\nQ 3559 1806 3559 1356 \r\nQ 3559 666 3084 287 \r\nQ 2609 -91 1734 -91 \r\nQ 1441 -91 1130 -33 \r\nQ 819 25 488 141 \r\nL 488 750 \r\nQ 750 597 1062 519 \r\nQ 1375 441 1716 441 \r\nQ 2309 441 2620 675 \r\nQ 2931 909 2931 1356 \r\nQ 2931 1769 2642 2001 \r\nQ 2353 2234 1838 2234 \r\nL 1294 2234 \r\nL 1294 2753 \r\nL 1863 2753 \r\nQ 2328 2753 2575 2939 \r\nQ 2822 3125 2822 3475 \r\nQ 2822 3834 2567 4026 \r\nQ 2313 4219 1838 4219 \r\nQ 1578 4219 1281 4162 \r\nQ 984 4106 628 3988 \r\nL 628 4550 \r\nQ 988 4650 1302 4700 \r\nQ 1616 4750 1894 4750 \r\nQ 2613 4750 3031 4423 \r\nQ 3450 4097 3450 3541 \r\nQ 3450 3153 3228 2886 \r\nQ 3006 2619 2597 2516 \r\nz\r\n\" id=\"DejaVuSans-33\" transform=\"scale(0.015625)\"/>\r\n       </defs>\r\n       <use xlink:href=\"#DejaVuSans-2212\"/>\r\n       <use x=\"83.789062\" xlink:href=\"#DejaVuSans-33\"/>\r\n      </g>\r\n     </g>\r\n    </g>\r\n    <g id=\"xtick_2\">\r\n     <g id=\"line2d_2\">\r\n      <g>\r\n       <use style=\"stroke:#000000;stroke-width:0.8;\" x=\"95.45\" xlink:href=\"#mb5adf7c024\" y=\"224.64\"/>\r\n      </g>\r\n     </g>\r\n     <g id=\"text_2\">\r\n      <!-- −2 -->\r\n      <g transform=\"translate(88.078906 239.238437)scale(0.1 -0.1)\">\r\n       <defs>\r\n        <path d=\"M 1228 531 \r\nL 3431 531 \r\nL 3431 0 \r\nL 469 0 \r\nL 469 531 \r\nQ 828 903 1448 1529 \r\nQ 2069 2156 2228 2338 \r\nQ 2531 2678 2651 2914 \r\nQ 2772 3150 2772 3378 \r\nQ 2772 3750 2511 3984 \r\nQ 2250 4219 1831 4219 \r\nQ 1534 4219 1204 4116 \r\nQ 875 4013 500 3803 \r\nL 500 4441 \r\nQ 881 4594 1212 4672 \r\nQ 1544 4750 1819 4750 \r\nQ 2544 4750 2975 4387 \r\nQ 3406 4025 3406 3419 \r\nQ 3406 3131 3298 2873 \r\nQ 3191 2616 2906 2266 \r\nQ 2828 2175 2409 1742 \r\nQ 1991 1309 1228 531 \r\nz\r\n\" id=\"DejaVuSans-32\" transform=\"scale(0.015625)\"/>\r\n       </defs>\r\n       <use xlink:href=\"#DejaVuSans-2212\"/>\r\n       <use x=\"83.789062\" xlink:href=\"#DejaVuSans-32\"/>\r\n      </g>\r\n     </g>\r\n    </g>\r\n    <g id=\"xtick_3\">\r\n     <g id=\"line2d_3\">\r\n      <g>\r\n       <use style=\"stroke:#000000;stroke-width:0.8;\" x=\"151.25\" xlink:href=\"#mb5adf7c024\" y=\"224.64\"/>\r\n      </g>\r\n     </g>\r\n     <g id=\"text_3\">\r\n      <!-- −1 -->\r\n      <g transform=\"translate(143.878906 239.238437)scale(0.1 -0.1)\">\r\n       <defs>\r\n        <path d=\"M 794 531 \r\nL 1825 531 \r\nL 1825 4091 \r\nL 703 3866 \r\nL 703 4441 \r\nL 1819 4666 \r\nL 2450 4666 \r\nL 2450 531 \r\nL 3481 531 \r\nL 3481 0 \r\nL 794 0 \r\nL 794 531 \r\nz\r\n\" id=\"DejaVuSans-31\" transform=\"scale(0.015625)\"/>\r\n       </defs>\r\n       <use xlink:href=\"#DejaVuSans-2212\"/>\r\n       <use x=\"83.789062\" xlink:href=\"#DejaVuSans-31\"/>\r\n      </g>\r\n     </g>\r\n    </g>\r\n    <g id=\"xtick_4\">\r\n     <g id=\"line2d_4\">\r\n      <g>\r\n       <use style=\"stroke:#000000;stroke-width:0.8;\" x=\"207.05\" xlink:href=\"#mb5adf7c024\" y=\"224.64\"/>\r\n      </g>\r\n     </g>\r\n     <g id=\"text_4\">\r\n      <!-- 0 -->\r\n      <g transform=\"translate(203.86875 239.238437)scale(0.1 -0.1)\">\r\n       <defs>\r\n        <path d=\"M 2034 4250 \r\nQ 1547 4250 1301 3770 \r\nQ 1056 3291 1056 2328 \r\nQ 1056 1369 1301 889 \r\nQ 1547 409 2034 409 \r\nQ 2525 409 2770 889 \r\nQ 3016 1369 3016 2328 \r\nQ 3016 3291 2770 3770 \r\nQ 2525 4250 2034 4250 \r\nz\r\nM 2034 4750 \r\nQ 2819 4750 3233 4129 \r\nQ 3647 3509 3647 2328 \r\nQ 3647 1150 3233 529 \r\nQ 2819 -91 2034 -91 \r\nQ 1250 -91 836 529 \r\nQ 422 1150 422 2328 \r\nQ 422 3509 836 4129 \r\nQ 1250 4750 2034 4750 \r\nz\r\n\" id=\"DejaVuSans-30\" transform=\"scale(0.015625)\"/>\r\n       </defs>\r\n       <use xlink:href=\"#DejaVuSans-30\"/>\r\n      </g>\r\n     </g>\r\n    </g>\r\n    <g id=\"xtick_5\">\r\n     <g id=\"line2d_5\">\r\n      <g>\r\n       <use style=\"stroke:#000000;stroke-width:0.8;\" x=\"262.85\" xlink:href=\"#mb5adf7c024\" y=\"224.64\"/>\r\n      </g>\r\n     </g>\r\n     <g id=\"text_5\">\r\n      <!-- 1 -->\r\n      <g transform=\"translate(259.66875 239.238437)scale(0.1 -0.1)\">\r\n       <use xlink:href=\"#DejaVuSans-31\"/>\r\n      </g>\r\n     </g>\r\n    </g>\r\n    <g id=\"xtick_6\">\r\n     <g id=\"line2d_6\">\r\n      <g>\r\n       <use style=\"stroke:#000000;stroke-width:0.8;\" x=\"318.65\" xlink:href=\"#mb5adf7c024\" y=\"224.64\"/>\r\n      </g>\r\n     </g>\r\n     <g id=\"text_6\">\r\n      <!-- 2 -->\r\n      <g transform=\"translate(315.46875 239.238437)scale(0.1 -0.1)\">\r\n       <use xlink:href=\"#DejaVuSans-32\"/>\r\n      </g>\r\n     </g>\r\n    </g>\r\n    <g id=\"xtick_7\">\r\n     <g id=\"line2d_7\">\r\n      <g>\r\n       <use style=\"stroke:#000000;stroke-width:0.8;\" x=\"374.45\" xlink:href=\"#mb5adf7c024\" y=\"224.64\"/>\r\n      </g>\r\n     </g>\r\n     <g id=\"text_7\">\r\n      <!-- 3 -->\r\n      <g transform=\"translate(371.26875 239.238437)scale(0.1 -0.1)\">\r\n       <use xlink:href=\"#DejaVuSans-33\"/>\r\n      </g>\r\n     </g>\r\n    </g>\r\n   </g>\r\n   <g id=\"matplotlib.axis_2\">\r\n    <g id=\"ytick_1\">\r\n     <g id=\"line2d_8\">\r\n      <defs>\r\n       <path d=\"M 0 0 \r\nL -3.5 0 \r\n\" id=\"m6000ade28b\" style=\"stroke:#000000;stroke-width:0.8;\"/>\r\n      </defs>\r\n      <g>\r\n       <use style=\"stroke:#000000;stroke-width:0.8;\" x=\"39.65\" xlink:href=\"#m6000ade28b\" y=\"196.786116\"/>\r\n      </g>\r\n     </g>\r\n     <g id=\"text_8\">\r\n      <!-- 2012 -->\r\n      <g transform=\"translate(7.2 200.585334)scale(0.1 -0.1)\">\r\n       <use xlink:href=\"#DejaVuSans-32\"/>\r\n       <use x=\"63.623047\" xlink:href=\"#DejaVuSans-30\"/>\r\n       <use x=\"127.246094\" xlink:href=\"#DejaVuSans-31\"/>\r\n       <use x=\"190.869141\" xlink:href=\"#DejaVuSans-32\"/>\r\n      </g>\r\n     </g>\r\n    </g>\r\n    <g id=\"ytick_2\">\r\n     <g id=\"line2d_9\">\r\n      <g>\r\n       <use style=\"stroke:#000000;stroke-width:0.8;\" x=\"39.65\" xlink:href=\"#m6000ade28b\" y=\"160.84562\"/>\r\n      </g>\r\n     </g>\r\n     <g id=\"text_9\">\r\n      <!-- 2014 -->\r\n      <g transform=\"translate(7.2 164.644839)scale(0.1 -0.1)\">\r\n       <defs>\r\n        <path d=\"M 2419 4116 \r\nL 825 1625 \r\nL 2419 1625 \r\nL 2419 4116 \r\nz\r\nM 2253 4666 \r\nL 3047 4666 \r\nL 3047 1625 \r\nL 3713 1625 \r\nL 3713 1100 \r\nL 3047 1100 \r\nL 3047 0 \r\nL 2419 0 \r\nL 2419 1100 \r\nL 313 1100 \r\nL 313 1709 \r\nL 2253 4666 \r\nz\r\n\" id=\"DejaVuSans-34\" transform=\"scale(0.015625)\"/>\r\n       </defs>\r\n       <use xlink:href=\"#DejaVuSans-32\"/>\r\n       <use x=\"63.623047\" xlink:href=\"#DejaVuSans-30\"/>\r\n       <use x=\"127.246094\" xlink:href=\"#DejaVuSans-31\"/>\r\n       <use x=\"190.869141\" xlink:href=\"#DejaVuSans-34\"/>\r\n      </g>\r\n     </g>\r\n    </g>\r\n    <g id=\"ytick_3\">\r\n     <g id=\"line2d_10\">\r\n      <g>\r\n       <use style=\"stroke:#000000;stroke-width:0.8;\" x=\"39.65\" xlink:href=\"#m6000ade28b\" y=\"124.905124\"/>\r\n      </g>\r\n     </g>\r\n     <g id=\"text_10\">\r\n      <!-- 2016 -->\r\n      <g transform=\"translate(7.2 128.704343)scale(0.1 -0.1)\">\r\n       <defs>\r\n        <path d=\"M 2113 2584 \r\nQ 1688 2584 1439 2293 \r\nQ 1191 2003 1191 1497 \r\nQ 1191 994 1439 701 \r\nQ 1688 409 2113 409 \r\nQ 2538 409 2786 701 \r\nQ 3034 994 3034 1497 \r\nQ 3034 2003 2786 2293 \r\nQ 2538 2584 2113 2584 \r\nz\r\nM 3366 4563 \r\nL 3366 3988 \r\nQ 3128 4100 2886 4159 \r\nQ 2644 4219 2406 4219 \r\nQ 1781 4219 1451 3797 \r\nQ 1122 3375 1075 2522 \r\nQ 1259 2794 1537 2939 \r\nQ 1816 3084 2150 3084 \r\nQ 2853 3084 3261 2657 \r\nQ 3669 2231 3669 1497 \r\nQ 3669 778 3244 343 \r\nQ 2819 -91 2113 -91 \r\nQ 1303 -91 875 529 \r\nQ 447 1150 447 2328 \r\nQ 447 3434 972 4092 \r\nQ 1497 4750 2381 4750 \r\nQ 2619 4750 2861 4703 \r\nQ 3103 4656 3366 4563 \r\nz\r\n\" id=\"DejaVuSans-36\" transform=\"scale(0.015625)\"/>\r\n       </defs>\r\n       <use xlink:href=\"#DejaVuSans-32\"/>\r\n       <use x=\"63.623047\" xlink:href=\"#DejaVuSans-30\"/>\r\n       <use x=\"127.246094\" xlink:href=\"#DejaVuSans-31\"/>\r\n       <use x=\"190.869141\" xlink:href=\"#DejaVuSans-36\"/>\r\n      </g>\r\n     </g>\r\n    </g>\r\n    <g id=\"ytick_4\">\r\n     <g id=\"line2d_11\">\r\n      <g>\r\n       <use style=\"stroke:#000000;stroke-width:0.8;\" x=\"39.65\" xlink:href=\"#m6000ade28b\" y=\"88.964628\"/>\r\n      </g>\r\n     </g>\r\n     <g id=\"text_11\">\r\n      <!-- 2018 -->\r\n      <g transform=\"translate(7.2 92.763847)scale(0.1 -0.1)\">\r\n       <defs>\r\n        <path d=\"M 2034 2216 \r\nQ 1584 2216 1326 1975 \r\nQ 1069 1734 1069 1313 \r\nQ 1069 891 1326 650 \r\nQ 1584 409 2034 409 \r\nQ 2484 409 2743 651 \r\nQ 3003 894 3003 1313 \r\nQ 3003 1734 2745 1975 \r\nQ 2488 2216 2034 2216 \r\nz\r\nM 1403 2484 \r\nQ 997 2584 770 2862 \r\nQ 544 3141 544 3541 \r\nQ 544 4100 942 4425 \r\nQ 1341 4750 2034 4750 \r\nQ 2731 4750 3128 4425 \r\nQ 3525 4100 3525 3541 \r\nQ 3525 3141 3298 2862 \r\nQ 3072 2584 2669 2484 \r\nQ 3125 2378 3379 2068 \r\nQ 3634 1759 3634 1313 \r\nQ 3634 634 3220 271 \r\nQ 2806 -91 2034 -91 \r\nQ 1263 -91 848 271 \r\nQ 434 634 434 1313 \r\nQ 434 1759 690 2068 \r\nQ 947 2378 1403 2484 \r\nz\r\nM 1172 3481 \r\nQ 1172 3119 1398 2916 \r\nQ 1625 2713 2034 2713 \r\nQ 2441 2713 2670 2916 \r\nQ 2900 3119 2900 3481 \r\nQ 2900 3844 2670 4047 \r\nQ 2441 4250 2034 4250 \r\nQ 1625 4250 1398 4047 \r\nQ 1172 3844 1172 3481 \r\nz\r\n\" id=\"DejaVuSans-38\" transform=\"scale(0.015625)\"/>\r\n       </defs>\r\n       <use xlink:href=\"#DejaVuSans-32\"/>\r\n       <use x=\"63.623047\" xlink:href=\"#DejaVuSans-30\"/>\r\n       <use x=\"127.246094\" xlink:href=\"#DejaVuSans-31\"/>\r\n       <use x=\"190.869141\" xlink:href=\"#DejaVuSans-38\"/>\r\n      </g>\r\n     </g>\r\n    </g>\r\n    <g id=\"ytick_5\">\r\n     <g id=\"line2d_12\">\r\n      <g>\r\n       <use style=\"stroke:#000000;stroke-width:0.8;\" x=\"39.65\" xlink:href=\"#m6000ade28b\" y=\"53.024132\"/>\r\n      </g>\r\n     </g>\r\n     <g id=\"text_12\">\r\n      <!-- 2020 -->\r\n      <g transform=\"translate(7.2 56.823351)scale(0.1 -0.1)\">\r\n       <use xlink:href=\"#DejaVuSans-32\"/>\r\n       <use x=\"63.623047\" xlink:href=\"#DejaVuSans-30\"/>\r\n       <use x=\"127.246094\" xlink:href=\"#DejaVuSans-32\"/>\r\n       <use x=\"190.869141\" xlink:href=\"#DejaVuSans-30\"/>\r\n      </g>\r\n     </g>\r\n    </g>\r\n    <g id=\"ytick_6\">\r\n     <g id=\"line2d_13\">\r\n      <g>\r\n       <use style=\"stroke:#000000;stroke-width:0.8;\" x=\"39.65\" xlink:href=\"#m6000ade28b\" y=\"17.083636\"/>\r\n      </g>\r\n     </g>\r\n     <g id=\"text_13\">\r\n      <!-- 2022 -->\r\n      <g transform=\"translate(7.2 20.882855)scale(0.1 -0.1)\">\r\n       <use xlink:href=\"#DejaVuSans-32\"/>\r\n       <use x=\"63.623047\" xlink:href=\"#DejaVuSans-30\"/>\r\n       <use x=\"127.246094\" xlink:href=\"#DejaVuSans-32\"/>\r\n       <use x=\"190.869141\" xlink:href=\"#DejaVuSans-32\"/>\r\n      </g>\r\n     </g>\r\n    </g>\r\n   </g>\r\n   <g id=\"LineCollection_1\">\r\n    <path clip-path=\"url(#p70587d90fc)\" d=\"M 207.05 196.786116 \r\nL 227.813415 196.786116 \r\n\" style=\"fill:none;stroke:#1f77b4;stroke-width:1.5;\"/>\r\n    <path clip-path=\"url(#p70587d90fc)\" d=\"M 207.05 178.815868 \r\nL 175.904878 178.815868 \r\n\" style=\"fill:none;stroke:#1f77b4;stroke-width:1.5;\"/>\r\n    <path clip-path=\"url(#p70587d90fc)\" d=\"M 207.05 160.84562 \r\nL 175.904878 160.84562 \r\n\" style=\"fill:none;stroke:#1f77b4;stroke-width:1.5;\"/>\r\n    <path clip-path=\"url(#p70587d90fc)\" d=\"M 207.05 142.875372 \r\nL 279.721951 142.875372 \r\n\" style=\"fill:none;stroke:#1f77b4;stroke-width:1.5;\"/>\r\n    <path clip-path=\"url(#p70587d90fc)\" d=\"M 207.05 124.905124 \r\nL 175.904878 124.905124 \r\n\" style=\"fill:none;stroke:#1f77b4;stroke-width:1.5;\"/>\r\n    <path clip-path=\"url(#p70587d90fc)\" d=\"M 207.05 106.934876 \r\nL 175.904878 106.934876 \r\n\" style=\"fill:none;stroke:#1f77b4;stroke-width:1.5;\"/>\r\n    <path clip-path=\"url(#p70587d90fc)\" d=\"M 207.05 88.964628 \r\nL 175.904878 88.964628 \r\n\" style=\"fill:none;stroke:#1f77b4;stroke-width:1.5;\"/>\r\n    <path clip-path=\"url(#p70587d90fc)\" d=\"M 207.05 70.99438 \r\nL 331.630487 70.99438 \r\n\" style=\"fill:none;stroke:#1f77b4;stroke-width:1.5;\"/>\r\n    <path clip-path=\"url(#p70587d90fc)\" d=\"M 207.05 53.024132 \r\nL 175.904878 53.024132 \r\n\" style=\"fill:none;stroke:#1f77b4;stroke-width:1.5;\"/>\r\n    <path clip-path=\"url(#p70587d90fc)\" d=\"M 207.05 35.053884 \r\nL 175.904878 35.053884 \r\n\" style=\"fill:none;stroke:#1f77b4;stroke-width:1.5;\"/>\r\n   </g>\r\n   <g id=\"line2d_14\">\r\n    <defs>\r\n     <path d=\"M 0 3 \r\nC 0.795609 3 1.55874 2.683901 2.12132 2.12132 \r\nC 2.683901 1.55874 3 0.795609 3 0 \r\nC 3 -0.795609 2.683901 -1.55874 2.12132 -2.12132 \r\nC 1.55874 -2.683901 0.795609 -3 0 -3 \r\nC -0.795609 -3 -1.55874 -2.683901 -2.12132 -2.12132 \r\nC -2.683901 -1.55874 -3 -0.795609 -3 0 \r\nC -3 0.795609 -2.683901 1.55874 -2.12132 2.12132 \r\nC -1.55874 2.683901 -0.795609 3 0 3 \r\nz\r\n\" id=\"m329d320b48\" style=\"stroke:#1f77b4;\"/>\r\n    </defs>\r\n    <g clip-path=\"url(#p70587d90fc)\">\r\n     <use style=\"fill:#1f77b4;stroke:#1f77b4;\" x=\"227.813415\" xlink:href=\"#m329d320b48\" y=\"196.786116\"/>\r\n     <use style=\"fill:#1f77b4;stroke:#1f77b4;\" x=\"175.904878\" xlink:href=\"#m329d320b48\" y=\"178.815868\"/>\r\n     <use style=\"fill:#1f77b4;stroke:#1f77b4;\" x=\"175.904878\" xlink:href=\"#m329d320b48\" y=\"160.84562\"/>\r\n     <use style=\"fill:#1f77b4;stroke:#1f77b4;\" x=\"279.721951\" xlink:href=\"#m329d320b48\" y=\"142.875372\"/>\r\n     <use style=\"fill:#1f77b4;stroke:#1f77b4;\" x=\"175.904878\" xlink:href=\"#m329d320b48\" y=\"124.905124\"/>\r\n     <use style=\"fill:#1f77b4;stroke:#1f77b4;\" x=\"175.904878\" xlink:href=\"#m329d320b48\" y=\"106.934876\"/>\r\n     <use style=\"fill:#1f77b4;stroke:#1f77b4;\" x=\"175.904878\" xlink:href=\"#m329d320b48\" y=\"88.964628\"/>\r\n     <use style=\"fill:#1f77b4;stroke:#1f77b4;\" x=\"331.630487\" xlink:href=\"#m329d320b48\" y=\"70.99438\"/>\r\n     <use style=\"fill:#1f77b4;stroke:#1f77b4;\" x=\"175.904878\" xlink:href=\"#m329d320b48\" y=\"53.024132\"/>\r\n     <use style=\"fill:#1f77b4;stroke:#1f77b4;\" x=\"175.904878\" xlink:href=\"#m329d320b48\" y=\"35.053884\"/>\r\n    </g>\r\n   </g>\r\n   <g id=\"line2d_15\">\r\n    <path clip-path=\"url(#p70587d90fc)\" d=\"M 207.05 196.786116 \r\nL 207.05 35.053884 \r\n\" style=\"fill:none;stroke:#d62728;stroke-linecap:square;stroke-width:1.5;\"/>\r\n   </g>\r\n   <g id=\"patch_5\">\r\n    <path d=\"M 39.65 224.64 \r\nL 39.65 7.2 \r\n\" style=\"fill:none;stroke:#000000;stroke-linecap:square;stroke-linejoin:miter;stroke-width:0.8;\"/>\r\n   </g>\r\n   <g id=\"patch_6\">\r\n    <path d=\"M 374.45 224.64 \r\nL 374.45 7.2 \r\n\" style=\"fill:none;stroke:#000000;stroke-linecap:square;stroke-linejoin:miter;stroke-width:0.8;\"/>\r\n   </g>\r\n   <g id=\"patch_7\">\r\n    <path d=\"M 39.65 224.64 \r\nL 374.45 224.64 \r\n\" style=\"fill:none;stroke:#000000;stroke-linecap:square;stroke-linejoin:miter;stroke-width:0.8;\"/>\r\n   </g>\r\n   <g id=\"patch_8\">\r\n    <path d=\"M 39.65 7.2 \r\nL 374.45 7.2 \r\n\" style=\"fill:none;stroke:#000000;stroke-linecap:square;stroke-linejoin:miter;stroke-width:0.8;\"/>\r\n   </g>\r\n  </g>\r\n </g>\r\n <defs>\r\n  <clipPath id=\"p70587d90fc\">\r\n   <rect height=\"217.44\" width=\"334.8\" x=\"39.65\" y=\"7.2\"/>\r\n  </clipPath>\r\n </defs>\r\n</svg>\r\n",
      "image/png": "[encoded data removed]"
     },
     "metadata": {
      "needs_background": "light"
     }
    }
   ],
   "source": [
    "# Add features\n",
    "# - Highlight the current year\n",
    "# - Color lines based on higher/lower (red/blue) than average\n",
    "# - Transparency or hue based on degree of deviation (darker for larger deviations)\n",
    "\n",
    "import matplotlib.pyplot as plt\n",
    "import matplotlib.patches as patches\n",
    "import numpy as np\n",
    "\n",
    "values = [get_std_score(district.season_data, year, 'all_count') for year in i]\n",
    "\n",
    "# plt.stem(\n",
    "#     i, values,\n",
    "#     label = values,\n",
    "#     bottom=0,\n",
    "#     orientation='horizontal'\n",
    "# )\n",
    "(markers, stemlines, baseline) = plt.stem(values)\n",
    "fig, ax = plt.subplots(1)\n",
    "\n",
    "plt.setp(markers, marker='.', markersize=10)\n",
    "plt.axis([-3, 3, None, None])\n",
    "# # plt.show()\n",
    "\n",
    "# Create a Rectangle patch\n",
    "rect = patches.Rectangle((-1, 2011), 2, 11, facecolor=\"black\", alpha=0.1)\n",
    "rect2 = patches.Rectangle((-2, 2011), 4, 11, facecolor=\"black\", alpha=0.1)\n",
    "# Add the patch to the Axes\n",
    "ax.add_patch(rect)\n",
    "ax.add_patch(rect2)\n",
    "ax.stem(i, values, bottom=0, orientation='horizontal')\n",
    "\n",
    "# ax.add_patch(rect)\n",
    "plt.show()\n",
    "# plt.show()\n",
    "# (markers, stemlines, baseline) = plt.stem(values)\n",
    "# plt.setp(markers, marker='.', markersize=10)\n",
    "# plt.show()\n",
    "# fig, ax = plt.subplots()\n",
    "\n",
    "# ax.plot(values, i)"
   ]
  },
  {
   "cell_type": "code",
   "execution_count": null,
   "metadata": {},
   "outputs": [],
   "source": []
  },
  {
   "cell_type": "code",
   "execution_count": null,
   "metadata": {},
   "outputs": [],
   "source": []
  },
  {
   "cell_type": "code",
   "execution_count": null,
   "metadata": {},
   "outputs": [],
   "source": []
  },
  {
   "cell_type": "code",
   "execution_count": null,
   "metadata": {},
   "outputs": [],
   "source": []
  },
  {
   "cell_type": "code",
   "execution_count": null,
   "metadata": {},
   "outputs": [],
   "source": []
  },
  {
   "cell_type": "code",
   "execution_count": null,
   "metadata": {},
   "outputs": [],
   "source": []
  },
  {
   "cell_type": "code",
   "execution_count": null,
   "metadata": {},
   "outputs": [],
   "source": []
  },
  {
   "cell_type": "code",
   "execution_count": null,
   "metadata": {},
   "outputs": [],
   "source": [
    "# Run time: 16 seconds (can we do better?)\n",
    "df = make_df(data, dates)\n",
    "\n",
    "country = Country(df)\n",
    "country.region_summary(regions)\n",
    "country.region_data\n",
    "\n",
    "# regions, districts = get_regions_and_districts(country)\n",
    "\n",
    "country.region_summary(regions)\n",
    "country.district_summary(districts)\n",
    "print(country.region_data)\n",
    "print(country.district_data)\n",
    "\n",
    "# region = Region(country, 19)\n",
    "# district = District(region, 5)\n",
    "\n",
    "# print(region.season_data)\n",
    "# print(district.std_scores)"
   ]
  },
  {
   "cell_type": "code",
   "execution_count": null,
   "metadata": {},
   "outputs": [],
   "source": [
    "# output.py\n",
    "import time\n",
    "from datetime import datetime as dt\n",
    "from pandas import DataFrame, ExcelWriter, read_csv\n",
    "\n",
    "def get_data(country, dates):\n",
    "    print(country)\n",
    "    data = send_request(country, dates, print_q=False)\n",
    "    time.sleep(1)\n",
    "    return data\n",
    "\n",
    "\n",
    "def format_adm1_out(data, drop_threshold):\n",
    "    df = DataFrame(\n",
    "        data,\n",
    "        columns=['country', 'adm1', 'significance', 'current_alerts']\n",
    "    )\n",
    "    df['score'] = df.significance * df.current_alerts\n",
    "    return df[df['current_alerts'] > drop_threshold]\n",
    "\n",
    "\n",
    "def format_adm2_out(data, drop_threshold):\n",
    "    df = DataFrame(\n",
    "        data,\n",
    "        columns=['country', 'adm1', 'adm2', 'significance', 'current_alerts']\n",
    "    )\n",
    "    df['score'] = df.significance * df.current_alerts\n",
    "    return df[df['current_alerts'] > drop_threshold]\n",
    "\n",
    "\n",
    "def rank_output(df, top_n):\n",
    "    top_sig = df.sort_values(['significance'], ascending=False).head(top_n)\n",
    "    top_score = df.sort_values(['score'], ascending=False).head(top_n)\n",
    "    return top_sig, top_score\n",
    "\n",
    "\n",
    "def write_results(top_sig, top_score, top_n, adm_level):\n",
    "    print('Writing results...', end=\"\")\n",
    "    today = dt.today().date()\n",
    "    filename = f'{adm_level}_top_{top_n}_output_' + today.strftime('%Y%m%d') + '.xlsx'\n",
    "    writer = ExcelWriter(filename, engine='xlsxwriter')\n",
    "    top_sig.to_excel(writer, sheet_name='top_significance', index=False)\n",
    "    top_score.to_excel(writer, sheet_name='top_score', index=False)\n",
    "    writer.save()\n",
    "\n",
    "\n",
    "def all_adm1_significance(iso_list, days=7, drop_threshold=10, top_n=20):\n",
    "    adm1_out = []\n",
    "    adm2_out = []\n",
    "    dates = date_list(days)\n",
    "    for country in iso_list:\n",
    "        data = get_data(country, dates)\n",
    "        if data:\n",
    "            df = make_df(data, dates)\n",
    "            regions = df.adm1.unique()\n",
    "            for region in regions:\n",
    "                districts = df[df['adm1']==region].adm2.unique()\n",
    "                adm1_out.append(adm1_significance(df, region))\n",
    "                for district in districts:\n",
    "                    adm2_out.append(adm2_significance(df, region, district))\n",
    "            # out = [significance_tuple(df, region) for region in regions]\n",
    "            # final_out += out\n",
    "    adm1_df = format_adm1_out(adm1_out, drop_threshold)\n",
    "    adm2_df = format_adm2_out(adm2_out, drop_threshold)\n",
    "    return adm1_df, adm2_df\n",
    "    # return top_sig, top_score"
   ]
  },
  {
   "cell_type": "code",
   "execution_count": null,
   "metadata": {},
   "outputs": [],
   "source": [
    "adm1_out = []\n",
    "regions = df.adm1.unique()\n",
    "for region in regions:\n",
    "    adm1_out.append(adm1_significance(df, region))\n",
    "print(adm1_out[:3])\n",
    "adm1_df = format_adm1_out(adm1_out, drop_threshold=10)\n",
    "print(adm1_df.head(3))\n",
    "top_sig, top_score = rank_output(adm1_df, top_n=20)\n",
    "print(top_sig.head(3))"
   ]
  },
  {
   "cell_type": "code",
   "execution_count": null,
   "metadata": {},
   "outputs": [],
   "source": [
    "def gadm_countries(file='gadm_adm1.csv'):\n",
    "    keep_cols = ['GID_0', 'NAME_0', 'GID_1', 'NAME_1']\n",
    "    gadm_df = read_csv(file, usecols=keep_cols)\n",
    "    iso_list = gadm_df.GID_0.unique()\n",
    "    return iso_list"
   ]
  },
  {
   "cell_type": "code",
   "execution_count": null,
   "metadata": {},
   "outputs": [],
   "source": [
    "##### End of demo #####"
   ]
  },
  {
   "cell_type": "code",
   "execution_count": null,
   "metadata": {},
   "outputs": [],
   "source": [
    "# iso_list = ['COD', 'IND']\n",
    "iso_list = gadm_countries()\n",
    "\n",
    "start = dt.now()\n",
    "print(f\"Start: {start}\")\n",
    "\n",
    "out = all_adm1_significance(iso_list, days=7)\n",
    "\n",
    "end = dt.now()\n",
    "print(f\"End: {end}\")\n",
    "print(f\"Total time: {end - start}\")"
   ]
  },
  {
   "cell_type": "code",
   "execution_count": null,
   "metadata": {},
   "outputs": [],
   "source": [
    "out[0].head()"
   ]
  },
  {
   "cell_type": "code",
   "execution_count": null,
   "metadata": {},
   "outputs": [],
   "source": [
    "top_sig, top_score = rank_output(out[0], top_n=20)\n",
    "write_results(top_sig, top_score, top_n=20, adm_level='adm1')\n",
    "print(\"done\")\n",
    "top_sig, top_score = rank_output(out[1], top_n=20)\n",
    "write_results(top_sig, top_score, top_n=20, adm_level='adm2')\n",
    "print(\"done\")"
   ]
  },
  {
   "cell_type": "code",
   "execution_count": null,
   "metadata": {},
   "outputs": [],
   "source": [
    "# Add trend of last x days\n",
    "# Add number of days with at least 1 alert\n",
    "# Add proportion covered by forest"
   ]
  }
 ]
}