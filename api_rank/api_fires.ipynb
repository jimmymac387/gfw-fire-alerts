{
 "metadata": {
  "language_info": {
   "codemirror_mode": {
    "name": "ipython",
    "version": 3
   },
   "file_extension": ".py",
   "mimetype": "text/x-python",
   "name": "python",
   "nbconvert_exporter": "python",
   "pygments_lexer": "ipython3",
   "version": "3.9.1-final"
  },
  "orig_nbformat": 2,
  "kernelspec": {
   "name": "python3",
   "display_name": "Python 3.9.1 64-bit ('fires': conda)",
   "metadata": {
    "interpreter": {
     "hash": "a2179a16bd7c4824ddf3156e6c5b616743c37f42a49b1bb75af21bac13b6503e"
    }
   }
  }
 },
 "nbformat": 4,
 "nbformat_minor": 2,
 "cells": [
  {
   "cell_type": "code",
   "execution_count": 319,
   "metadata": {},
   "outputs": [],
   "source": [
    "import os\n",
    "import re\n",
    "import json\n",
    "import requests\n",
    "import xlsxwriter\n",
    "from math import sqrt\n",
    "from datetime import datetime as dt\n",
    "from pandas import DataFrame, read_csv, MultiIndex, ExcelWriter"
   ]
  },
  {
   "cell_type": "code",
   "execution_count": 9,
   "metadata": {},
   "outputs": [],
   "source": [
    "# # Get a unique list of countries and regions in fire alerts table\n",
    "# # Not sure if this is working properly\n",
    "# # Output only has 1677 rows but there are roughly 3600 regions in\n",
    "# # GADM table\n",
    "# def get_gadm_list():\n",
    "#     base_url = 'https://api.resourcewatch.org/v1/query'\n",
    "#     data_id = '54bb00e8-9888-494a-bcd8-9fd3760fe384'\n",
    "#     params = {\n",
    "#         'sql':\"SELECT DISTINCT iso, adm1 FROM mytable\"\n",
    "#     }\n",
    "#     r = requests.get(base_url + '/' + data_id, params=params)\n",
    "#     if r.status_code == 200:\n",
    "#         print('Success!')\n",
    "#         return r\n",
    "#     else:\n",
    "#         print('Something went wrong...')\n",
    "#         print('Status code: ', r.status_code)\n",
    "\n",
    "# t = get_gadm_list()\n",
    "# df = DataFrame(t.json()['data'])\n",
    "# df.shape"
   ]
  },
  {
   "cell_type": "code",
   "execution_count": 8,
   "metadata": {},
   "outputs": [],
   "source": [
    "# This block is for building and sending the API query\n",
    "# Also fills missing values with 0\n",
    "def build_query(iso): # Add adm1 as an optional parameter?\n",
    "    q = (\n",
    "        \"SELECT iso, adm1, alert__year, alert__week, SUM(alert__count) \" +\n",
    "        \"as alert__count, confidence__cat \" +\n",
    "        \"FROM mytable \" +\n",
    "        f\"WHERE iso='{iso}' AND confidence__cat='h' \" +\n",
    "        \"GROUP BY iso, adm1, alert__year, alert__week\"\n",
    "    )\n",
    "    return q\n",
    "\n",
    "def fill_missing(df):\n",
    "    names = ['iso', 'adm1', 'alert__year', 'alert__week']\n",
    "    countries = df.iso.unique()\n",
    "    regions = df.adm1.unique()\n",
    "    years = range(2012, 2022)\n",
    "    weeks = range(1, 53)\n",
    "    mi = MultiIndex.from_product(\n",
    "        iterables=[countries, regions, years, weeks],\n",
    "        names=names)\n",
    "    filled = df.set_index(names).reindex(mi).reset_index()\n",
    "    return filled.fillna(0)\n",
    "\n",
    "def request_data(base_url, data_id, iso, verbose=False): \n",
    "    q = build_query(iso)\n",
    "    params = {\n",
    "        'sql':q\n",
    "    }\n",
    "    r = requests.get(base_url + '/' + data_id, params=params)\n",
    "    if r.status_code == 200:\n",
    "        if verbose:\n",
    "            print('Success!')\n",
    "        return r.json()['data']\n",
    "\n",
    "    else:\n",
    "        print('Something went wrong...')\n",
    "        print('Status code: ', r.status_code)\n",
    "        print('Error message: ', r.json()['errors'][0]['detail'])"
   ]
  },
  {
   "cell_type": "code",
   "execution_count": 302,
   "metadata": {},
   "outputs": [],
   "source": [
    "# This block is fo calculating significance score for past week\n",
    "def get_cw_cy():\n",
    "    today = dt.today().isocalendar()\n",
    "    # cy = today[0]\n",
    "    if today[1] == 1:\n",
    "        cw == 52\n",
    "        cy == today[0] - 1\n",
    "    else:\n",
    "        cw = today[1] - 1\n",
    "        cy = today[0]\n",
    "\n",
    "    return cw, cy\n",
    "\n",
    "\n",
    "def make_lookup(df, adm1):\n",
    "    df = df[df['adm1']==adm1]\n",
    "    return df.pivot_table(\n",
    "        index='alert__year',\n",
    "        columns='alert__week',\n",
    "        values='alert__count'\n",
    "    ).fillna(0)\n",
    "\n",
    "\n",
    "def vizzuality_sd(lookup, week, mean):\n",
    "    return sqrt(sum((lookup[week] - mean)**2)/len(lookup[week]))\n",
    "\n",
    "\n",
    "def calc_sigscore(df, adm1): # Add number of weeks here\n",
    "    # Get current week and year\n",
    "    cw, cy = get_cw_cy()\n",
    "    lookup = make_lookup(df, adm1)\n",
    "    cv = lookup[cw][cy]\n",
    "    cw_mu = lookup[cw].mean()\n",
    "    cw_sd = vizzuality_sd(lookup, cw, cw_mu)\n",
    "    return (cv - cw_mu)/cw_sd, cv\n",
    "\n",
    "def sigscore_tuple(df, country, region):\n",
    "    sig_score, current_alerts = calc_sigscore(df, region)\n",
    "    return country, region, sig_score, current_alerts"
   ]
  },
  {
   "cell_type": "code",
   "execution_count": 307,
   "metadata": {},
   "outputs": [],
   "source": [
    "def all_adm1_significance(iso_list, verbose=False):\n",
    "    BASE_URL = 'https://api.resourcewatch.org/v1/query'\n",
    "    DATA_ID = '54bb00e8-9888-494a-bcd8-9fd3760fe384'\n",
    "\n",
    "    final_out = []\n",
    "    start = 1\n",
    "    end = len(iso_list)\n",
    "    for country in iso_list:\n",
    "        if verbose == 2:\n",
    "            print(country)\n",
    "        if verbose == 1:\n",
    "            print(f'\\r{(start/end) * 100:.2f}%', end='', flush=True)\n",
    "        data = request_data(BASE_URL, DATA_ID, country)\n",
    "        if data:\n",
    "            df = fill_missing(DataFrame(data))\n",
    "            regions = df.adm1.unique()\n",
    "            out = [sigscore_tuple(df, country, region) for region in regions]\n",
    "            final_out += out\n",
    "        start += 1\n",
    "    \n",
    "    rank_df = DataFrame(final_out, columns=['country', 'adm1', 'significance', 'current_alerts'])\n",
    "    sorted = rank_df.sort_values(by=['significance'], ascending=False)\n",
    "\n",
    "    return sorted"
   ]
  },
  {
   "cell_type": "code",
   "execution_count": 310,
   "metadata": {},
   "outputs": [],
   "source": [
    "# all_adm1_significance(['BRA', 'COD', 'RWA', 'RUS'], verbose=2)"
   ]
  },
  {
   "cell_type": "code",
   "execution_count": 167,
   "metadata": {},
   "outputs": [
    {
     "output_type": "execute_result",
     "data": {
      "text/plain": [
       "['api_fires.ipynb', 'gadm_adm1.csv', 'info']"
      ]
     },
     "metadata": {},
     "execution_count": 167
    }
   ],
   "source": [
    "os.listdir()"
   ]
  },
  {
   "cell_type": "code",
   "execution_count": 168,
   "metadata": {},
   "outputs": [],
   "source": [
    "keep_cols = ['GID_0', 'NAME_0', 'GID_1', 'NAME_1']\n",
    "gadm_df = read_csv('gadm_adm1.csv', usecols=keep_cols)\n",
    "ISO_LIST = gadm_df.GID_0.unique()"
   ]
  },
  {
   "cell_type": "code",
   "execution_count": 286,
   "metadata": {},
   "outputs": [
    {
     "output_type": "stream",
     "name": "stdout",
     "text": [
      "74.12280701754386 %Something went wrong...\n",
      "Status code:  400\n",
      "Error message:  Your are using a \"group by\" query that produces too many results. Please reduce the number of rows your \"group by\" query produces (ie. more restrictive \"where\" clause or use less \"group by\" criteria)\n"
     ]
    }
   ],
   "source": [
    "# There is a problem with Russia at the moment\n",
    "# Group by query produces too many results\n",
    "# Need to reduce the number of rows\n",
    "# Consider more restrictive \"where\" clause or less \"group by\" criteria\n",
    "top_adm1 = all_adm1_significance(ISO_LIST, verbose=2)"
   ]
  },
  {
   "cell_type": "code",
   "execution_count": 312,
   "metadata": {},
   "outputs": [
    {
     "output_type": "stream",
     "name": "stdout",
     "text": [
      "     country  adm1  significance  current_alerts        score\n431      COD     5      2.857714          1126.0  3217.785954\n429      COD     1      2.644070           758.0  2004.205240\n442      COD    20      2.705585           468.0  1266.213736\n2221     SSD    10      2.504502           377.0   944.197265\n322      CAF     9      2.572727           275.0   707.500046\n326      CAF     5      1.708236           290.0   495.388348\n328      CAF    13      2.683792           139.0   373.047087\n2727     VEN    13      2.004338           177.0   354.767738\n444      COD     6      2.873828           122.0   350.607075\n2218     SSD     4      1.767710           194.0   342.935649\n2726     VEN     3      1.259600           268.0   337.572871\n448      COD    23      2.735524           121.0   330.998405\n466      COL    11      1.718840           167.0   287.046242\n417      CMR     1      1.320193           215.0   283.841566\n446      COD    18      0.959999           272.0   261.119854\n2222     SSD     8      1.467022           174.0   255.261777\n420      CMR     3      1.404808           176.0   247.246215\n2219     SSD     2      1.301394           176.0   229.045320\n972      IND    19      2.447800            92.0   225.197594\n334      CAF     6      1.839891           113.0   207.907714\n     country  adm1  significance  current_alerts        score\n444      COD     6      2.873828           122.0   350.607075\n431      COD     5      2.857714          1126.0  3217.785954\n448      COD    23      2.735524           121.0   330.998405\n442      COD    20      2.705585           468.0  1266.213736\n328      CAF    13      2.683792           139.0   373.047087\n429      COD     1      2.644070           758.0  2004.205240\n322      CAF     9      2.572727           275.0   707.500046\n2221     SSD    10      2.504502           377.0   944.197265\n972      IND    19      2.447800            92.0   225.197594\n242      BOL     8      2.317968            51.0   118.216391\n2727     VEN    13      2.004338           177.0   354.767738\n1283     LAO     8      1.907106            77.0   146.847155\n334      CAF     6      1.839891           113.0   207.907714\n2218     SSD     4      1.767710           194.0   342.935649\n466      COL    11      1.718840           167.0   287.046242\n326      CAF     5      1.708236           290.0   495.388348\n2731     VEN    25      1.695812            83.0   140.752422\n2666     USA    44      1.685139           123.0   207.272040\n325      CAF     4      1.486817            85.0   126.379426\n2222     SSD     8      1.467022           174.0   255.261777\n"
     ]
    }
   ],
   "source": [
    "top_adm1['score'] = top_adm1.significance * top_adm1.current_alerts\n",
    "top_score = top_adm1.sort_values(['score'], ascending=False).head(20)\n",
    "top_sig = top_adm1[top_adm1['current_alerts'] > 50].head(20)\n",
    "print(top_score)\n",
    "print(top_sig)\n",
    "# top_adm1.head(5)"
   ]
  },
  {
   "cell_type": "code",
   "execution_count": 320,
   "metadata": {},
   "outputs": [],
   "source": [
    "# Create pandas excel writer\n",
    "writer = ExcelWriter('top_20_output.xlsx', engine='xlsxwriter')\n",
    "# Write each dataframe to a different worksheet\n",
    "top_sig.to_excel(writer, sheet_name='top_significance')\n",
    "top_score.to_excel(writer, sheet_name='top_score')\n",
    "# Close the pandas excel writer\n",
    "writer.save()"
   ]
  },
  {
   "cell_type": "code",
   "execution_count": 142,
   "metadata": {},
   "outputs": [],
   "source": [
    "# # Request data for a country\n",
    "# BASE_URL = 'https://api.resourcewatch.org/v1/query'\n",
    "# DATA_ID = '54bb00e8-9888-494a-bcd8-9fd3760fe384'\n",
    "# ISO = 'COD'\n",
    "# ISO_LIST = ['BRA', 'COD', 'RWA', 'BEN', 'CMR']\n",
    "# # ADM1 = 9\n",
    "\n",
    "# cod_df = request_data(BASE_URL, DATA_ID, ISO)"
   ]
  }
 ]
}