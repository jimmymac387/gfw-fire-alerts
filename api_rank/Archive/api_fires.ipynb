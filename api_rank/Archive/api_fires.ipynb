{
 "metadata": {
  "language_info": {
   "codemirror_mode": {
    "name": "ipython",
    "version": 3
   },
   "file_extension": ".py",
   "mimetype": "text/x-python",
   "name": "python",
   "nbconvert_exporter": "python",
   "pygments_lexer": "ipython3",
   "version": "3.9.2"
  },
  "orig_nbformat": 2,
  "kernelspec": {
   "name": "python392jvsc74a57bd0a2179a16bd7c4824ddf3156e6c5b616743c37f42a49b1bb75af21bac13b6503e",
   "display_name": "Python 3.9.2 64-bit ('fires': conda)"
  }
 },
 "nbformat": 4,
 "nbformat_minor": 2,
 "cells": [
  {
   "cell_type": "code",
   "execution_count": null,
   "metadata": {},
   "outputs": [],
   "source": [
    "# Figure out what to do about Russia error message"
   ]
  },
  {
   "cell_type": "code",
   "execution_count": 2,
   "metadata": {},
   "outputs": [],
   "source": [
    "# import os\n",
    "# import re\n",
    "import json\n",
    "import time\n",
    "import requests\n",
    "import xlsxwriter\n",
    "from math import sqrt\n",
    "from datetime import datetime as dt\n",
    "from pandas import DataFrame, read_csv, MultiIndex, ExcelWriter"
   ]
  },
  {
   "cell_type": "code",
   "execution_count": 3,
   "metadata": {},
   "outputs": [],
   "source": [
    "# This block is for building and sending the API query\n",
    "# Also fills missing values with 0\n",
    "def build_query(iso): # Add adm1 as an optional parameter?\n",
    "    q = (\n",
    "        \"SELECT iso, adm1, alert__year, alert__week, SUM(alert__count) \" +\n",
    "        \"as alert__count, confidence__cat \" +\n",
    "        \"FROM mytable \" +\n",
    "        f\"WHERE iso='{iso}' AND confidence__cat='h' \" +\n",
    "        \"GROUP BY iso, adm1, alert__year, alert__week\"\n",
    "    )\n",
    "    return q\n",
    "\n",
    "\n",
    "def query_params(q):\n",
    "    params = {\n",
    "        'sql':q\n",
    "    }\n",
    "    return params\n",
    "\n",
    "\n",
    "def send_request(base_url, data_id, iso): \n",
    "    q = build_query(iso)\n",
    "    p = query_params(q)\n",
    "    r = requests.get(base_url + '/' + data_id, params=p)\n",
    "    \n",
    "    if r.status_code == 200:\n",
    "        return r.json()['data']\n",
    "\n",
    "    else:\n",
    "        print('Something went wrong...')\n",
    "        print('Status code: ', r.status_code)\n",
    "        print('Error message: ', r.json()['errors'][0]['detail'])"
   ]
  },
  {
   "cell_type": "code",
   "execution_count": 4,
   "metadata": {},
   "outputs": [],
   "source": [
    "# This block is for processing data after query\n",
    "# Update this to make year range dynamic (based on today)\n",
    "def create_multiindex(df, names):\n",
    "    countries = df.iso.unique()\n",
    "    regions = df.adm1.unique()\n",
    "    years = range(2012, 2022)\n",
    "    weeks = range(1, 54)\n",
    "\n",
    "    mi = MultiIndex.from_product(\n",
    "        iterables=[countries, regions, years, weeks],\n",
    "        names=names\n",
    "    )\n",
    "\n",
    "    return mi\n",
    "\n",
    "\n",
    "def fill_missing(df):\n",
    "    names = ['iso', 'adm1', 'alert__year', 'alert__week']\n",
    "    mi = create_multiindex(df, names)\n",
    "\n",
    "    filled = (\n",
    "        df\n",
    "            .set_index(names)\n",
    "            .reindex(mi)\n",
    "            .reset_index()\n",
    "            .fillna(0)\n",
    "    )\n",
    "    \n",
    "    return filled"
   ]
  },
  {
   "cell_type": "code",
   "execution_count": 5,
   "metadata": {},
   "outputs": [],
   "source": [
    "# This block is for calculating significance score\n",
    "# Clean these up and compartmentalize better\n",
    "def get_cw_cy():\n",
    "    today = dt.today().isocalendar()\n",
    "    # cy = today[0]\n",
    "    # if today[1] == 1:\n",
    "    #     cw == 52\n",
    "    #     cy == today[0] - 1\n",
    "    # else:\n",
    "    #     cw = today[1] - 1\n",
    "    #     cy = today[0]\n",
    "\n",
    "    return today[1], today[0]\n",
    "\n",
    "\n",
    "def make_lookup(df, adm1):\n",
    "    df = df[df['adm1']==adm1]\n",
    "    return df.pivot_table(\n",
    "        index='alert__year',\n",
    "        columns='alert__week',\n",
    "        values='alert__count'\n",
    "    ).fillna(0)\n",
    "\n",
    "\n",
    "def vizzuality_sd(lookup, week, mean):\n",
    "    return sqrt(sum((lookup[week] - mean)**2)/len(lookup[week]))\n",
    "\n",
    "\n",
    "def significance_variables(lookup):\n",
    "    # Get current week and year\n",
    "    week, year = get_cw_cy()\n",
    "    x = lookup[week][year]\n",
    "    mu = lookup[week].mean()\n",
    "    sd = vizzuality_sd(lookup, week, mu)\n",
    "    return x, mu, sd\n",
    "\n",
    "\n",
    "def calc_sigscore(df, adm1): # Add number of weeks here\n",
    "    lookup = make_lookup(df, adm1)\n",
    "    x, mu, sd = significance_variables(lookup)\n",
    "    if x - mu == 0:\n",
    "        significance = 0\n",
    "    else:\n",
    "        significance = (x - mu) / sd\n",
    "    return significance, x\n",
    "\n",
    "\n",
    "def sigscore_tuple(df, country, region):\n",
    "    sig_score, current_alerts = calc_sigscore(df, region)\n",
    "    return country, region, sig_score, current_alerts"
   ]
  },
  {
   "cell_type": "code",
   "execution_count": 6,
   "metadata": {},
   "outputs": [],
   "source": [
    "# This block is to calculate significance score for each adm1 in all countries\n",
    "def all_adm1_significance(iso_list, verbose=False):\n",
    "    BASE_URL = 'https://api.resourcewatch.org/v1/query'\n",
    "    DATA_ID = '54bb00e8-9888-494a-bcd8-9fd3760fe384'\n",
    "\n",
    "    final_out = []\n",
    "    # start = 1\n",
    "    # end = len(iso_list)\n",
    "    for country in iso_list:\n",
    "        # if verbose == 2:\n",
    "        print(country)\n",
    "        # if verbose == 1:\n",
    "        #     print(f'\\r{(start/end) * 100:.2f}%', end='', flush=True)\n",
    "        data = send_request(BASE_URL, DATA_ID, country)\n",
    "        time.sleep(2)\n",
    "        if data:\n",
    "            df = fill_missing(DataFrame(data))\n",
    "            regions = df.adm1.unique()\n",
    "            out = [sigscore_tuple(df, country, region) for region in regions]\n",
    "            final_out += out\n",
    "        # start += 1\n",
    "    \n",
    "    rank_df = DataFrame(final_out, columns=['country', 'adm1', 'significance', 'current_alerts'])\n",
    "    sorted = rank_df.sort_values(by=['significance'], ascending=False)\n",
    "\n",
    "    return sorted"
   ]
  },
  {
   "cell_type": "code",
   "execution_count": 7,
   "metadata": {},
   "outputs": [],
   "source": [
    "# DataFrame(data).head()"
   ]
  },
  {
   "cell_type": "code",
   "execution_count": 8,
   "metadata": {},
   "outputs": [],
   "source": [
    "country = 'COD'\n",
    "BASE_URL = 'https://api.resourcewatch.org/v1/query'\n",
    "DATA_ID = '54bb00e8-9888-494a-bcd8-9fd3760fe384'\n",
    "data = send_request(BASE_URL, DATA_ID, country)\n",
    "df = fill_missing(DataFrame(data))\n",
    "regions = df.adm1.unique()"
   ]
  },
  {
   "cell_type": "code",
   "execution_count": 9,
   "metadata": {},
   "outputs": [
    {
     "output_type": "execute_result",
     "data": {
      "text/plain": [
       "   iso  adm1  alert__year  alert__week  alert__count\n",
       "0  COD    24         2012            1           0.0\n",
       "1  COD    24         2012            2           0.0\n",
       "2  COD    24         2012            3           0.0\n",
       "3  COD    24         2012            4           1.0\n",
       "4  COD    24         2012            5           2.0"
      ],
      "text/html": "<div>\n<style scoped>\n    .dataframe tbody tr th:only-of-type {\n        vertical-align: middle;\n    }\n\n    .dataframe tbody tr th {\n        vertical-align: top;\n    }\n\n    .dataframe thead th {\n        text-align: right;\n    }\n</style>\n<table border=\"1\" class=\"dataframe\">\n  <thead>\n    <tr style=\"text-align: right;\">\n      <th></th>\n      <th>iso</th>\n      <th>adm1</th>\n      <th>alert__year</th>\n      <th>alert__week</th>\n      <th>alert__count</th>\n    </tr>\n  </thead>\n  <tbody>\n    <tr>\n      <th>0</th>\n      <td>COD</td>\n      <td>24</td>\n      <td>2012</td>\n      <td>1</td>\n      <td>0.0</td>\n    </tr>\n    <tr>\n      <th>1</th>\n      <td>COD</td>\n      <td>24</td>\n      <td>2012</td>\n      <td>2</td>\n      <td>0.0</td>\n    </tr>\n    <tr>\n      <th>2</th>\n      <td>COD</td>\n      <td>24</td>\n      <td>2012</td>\n      <td>3</td>\n      <td>0.0</td>\n    </tr>\n    <tr>\n      <th>3</th>\n      <td>COD</td>\n      <td>24</td>\n      <td>2012</td>\n      <td>4</td>\n      <td>1.0</td>\n    </tr>\n    <tr>\n      <th>4</th>\n      <td>COD</td>\n      <td>24</td>\n      <td>2012</td>\n      <td>5</td>\n      <td>2.0</td>\n    </tr>\n  </tbody>\n</table>\n</div>"
     },
     "metadata": {},
     "execution_count": 9
    }
   ],
   "source": [
    "df.head()"
   ]
  },
  {
   "cell_type": "code",
   "execution_count": 10,
   "metadata": {},
   "outputs": [
    {
     "output_type": "stream",
     "name": "stdout",
     "text": [
      "(14, 2021)\n('COD', 3, -0.6064496310619685, 0.0)\n"
     ]
    },
    {
     "output_type": "execute_result",
     "data": {
      "text/plain": [
       "alert__year\n",
       "2012    0.0\n",
       "2013    0.0\n",
       "2014    0.0\n",
       "2015    1.0\n",
       "2016    2.0\n",
       "2017    0.0\n",
       "2018    0.0\n",
       "2019    1.0\n",
       "2020    0.0\n",
       "2021    0.0\n",
       "Name: 11, dtype: float64"
      ]
     },
     "metadata": {},
     "execution_count": 10
    }
   ],
   "source": [
    "print(get_cw_cy())\n",
    "print(sigscore_tuple(df, country, 3))\n",
    "make_lookup(df, 3)[11]"
   ]
  },
  {
   "cell_type": "code",
   "execution_count": 11,
   "metadata": {},
   "outputs": [],
   "source": [
    "# BASE_URL = 'https://api.resourcewatch.org/v1/query'\n",
    "# DATA_ID = '54bb00e8-9888-494a-bcd8-9fd3760fe384'\n",
    "# q = build_query('UGA')\n",
    "# p = query_params(q)\n",
    "# r = requests.get(BASE_URL + '/' + DATA_ID, params=p)"
   ]
  },
  {
   "cell_type": "code",
   "execution_count": 12,
   "metadata": {},
   "outputs": [],
   "source": [
    "# r.json()"
   ]
  },
  {
   "cell_type": "code",
   "execution_count": 15,
   "metadata": {},
   "outputs": [],
   "source": [
    "def gadm_countries(file='../gadm_adm1.csv'):\n",
    "    keep_cols = ['GID_0', 'NAME_0', 'GID_1', 'NAME_1']\n",
    "    gadm_df = read_csv(file, usecols=keep_cols)\n",
    "    iso_list = gadm_df.GID_0.unique()\n",
    "    return iso_list"
   ]
  },
  {
   "cell_type": "code",
   "execution_count": 16,
   "metadata": {},
   "outputs": [],
   "source": [
    "iso_list = gadm_countries()"
   ]
  },
  {
   "cell_type": "code",
   "execution_count": 18,
   "metadata": {
    "tags": []
   },
   "outputs": [
    {
     "output_type": "stream",
     "name": "stdout",
     "text": [
      "2021-04-08 12:56:36.676968\n",
      "MLI\n",
      "IND\n",
      "NPL\n",
      "Total time: -1 day, 23:59:50.561008\n"
     ]
    }
   ],
   "source": [
    "# There is a problem with Russia at the moment\n",
    "# Group by query produces too many results\n",
    "# Need to reduce the number of rows\n",
    "# Consider more restrictive \"where\" clause or less \"group by\" criteria\n",
    "iso_list = ['MLI', 'IND', 'NPL']\n",
    "start = dt.now()\n",
    "print(start)\n",
    "top_adm1 = all_adm1_significance(iso_list)\n",
    "end = dt.now()\n",
    "print(f'Total time: {start - end}')"
   ]
  },
  {
   "cell_type": "code",
   "execution_count": null,
   "metadata": {},
   "outputs": [],
   "source": []
  },
  {
   "cell_type": "code",
   "execution_count": 19,
   "metadata": {},
   "outputs": [
    {
     "output_type": "stream",
     "name": "stdout",
     "text": [
      "   country  adm1  significance  current_alerts       score\n10     IND     4      0.952437           274.0  260.967668\n0      MLI     3      0.737220           156.0  115.006366\n18     IND     3      0.955339            49.0   46.811631\n47     NPL     2      1.570073            22.0   34.541605\n2      MLI     6      0.348436            84.0   29.268593\n4      MLI     7      0.841200            13.0   10.935594\n15     IND    34      0.319510            26.0    8.307256\n31     IND    36      0.483299            12.0    5.799588\n43     NPL     4      0.420536            10.0    4.205360\n39     IND    30      3.000000             1.0    3.000000\n25     IND    15      0.022008            15.0    0.330125\n8      MLI     1      0.000000             0.0    0.000000\n27     IND    28     -0.750000             0.0   -0.000000\n6      MLI     2     -0.694245             0.0   -0.000000\n36     IND     1     -0.436436             0.0   -0.000000\n37     IND    10     -0.333333             0.0   -0.000000\n33     IND    12     -0.333333             0.0   -0.000000\n32     IND    13     -0.333333             0.0   -0.000000\n30     IND    17     -1.481560             0.0   -0.000000\n41     IND    27      0.000000             0.0    0.000000\n   country  adm1  significance  current_alerts       score\n10     IND     4      0.952437           274.0  260.967668\n0      MLI     3      0.737220           156.0  115.006366\n2      MLI     6      0.348436            84.0   29.268593\n11     IND    19     -0.356759           191.0  -68.140941\n"
     ]
    }
   ],
   "source": [
    "# Merge this and the next block into function calls\n",
    "top_adm1['score'] = top_adm1.significance * top_adm1.current_alerts\n",
    "top_score = top_adm1.sort_values(['score'], ascending=False).head(20)\n",
    "top_sig = top_adm1[top_adm1['current_alerts'] > 50].head(20)\n",
    "print(top_score)\n",
    "print(top_sig)\n",
    "# top_adm1.head(5)"
   ]
  },
  {
   "cell_type": "code",
   "execution_count": 20,
   "metadata": {},
   "outputs": [],
   "source": [
    "today = dt.today()\n",
    "filename = 'top_20_output_' + today.strftime('%Y%m%d') + '.xlsx'\n",
    "# Create pandas excel writer\n",
    "writer = ExcelWriter(filename, engine='xlsxwriter')\n",
    "# Write each dataframe to a different worksheet\n",
    "top_sig.to_excel(writer, sheet_name='top_significance', index=False)\n",
    "top_score.to_excel(writer, sheet_name='top_score', index=False)\n",
    "# Close the pandas excel writer\n",
    "writer.save()"
   ]
  },
  {
   "cell_type": "code",
   "execution_count": null,
   "metadata": {},
   "outputs": [],
   "source": []
  }
 ]
}