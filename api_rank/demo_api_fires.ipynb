{
 "metadata": {
  "language_info": {
   "codemirror_mode": {
    "name": "ipython",
    "version": 3
   },
   "file_extension": ".py",
   "mimetype": "text/x-python",
   "name": "python",
   "nbconvert_exporter": "python",
   "pygments_lexer": "ipython3",
   "version": "3.9.2"
  },
  "orig_nbformat": 2,
  "kernelspec": {
   "name": "python392jvsc74a57bd0a2179a16bd7c4824ddf3156e6c5b616743c37f42a49b1bb75af21bac13b6503e",
   "display_name": "Python 3.9.2 64-bit ('fires': conda)"
  }
 },
 "nbformat": 4,
 "nbformat_minor": 2,
 "cells": [
  {
   "cell_type": "code",
   "execution_count": 1,
   "metadata": {},
   "outputs": [],
   "source": [
    "# dates.py\n",
    "from datetime import datetime as dt\n",
    "from dateutil.relativedelta import relativedelta\n",
    "\n",
    "TODAY = dt.today().date()\n",
    "NYEARS = TODAY.year - 2012 + 1\n",
    "\n",
    "\n",
    "def end_date(year):\n",
    "    return TODAY - relativedelta(years=year)\n",
    "\n",
    "\n",
    "def start_date(year, days):\n",
    "    return TODAY - relativedelta(years=year, days=days)\n",
    "\n",
    "\n",
    "def date_list(days):\n",
    "    dates = []\n",
    "    for year in range(0, NYEARS):\n",
    "        end = end_date(year)\n",
    "        start = start_date(year, days)\n",
    "        yr = end.year\n",
    "        dates.append((start, end, yr))\n",
    "    return dates"
   ]
  },
  {
   "cell_type": "code",
   "execution_count": 2,
   "metadata": {},
   "outputs": [
    {
     "output_type": "execute_result",
     "data": {
      "text/plain": [
       "[(datetime.date(2021, 5, 11), datetime.date(2021, 5, 18), 2021),\n",
       " (datetime.date(2020, 5, 11), datetime.date(2020, 5, 18), 2020),\n",
       " (datetime.date(2019, 5, 11), datetime.date(2019, 5, 18), 2019),\n",
       " (datetime.date(2018, 5, 11), datetime.date(2018, 5, 18), 2018),\n",
       " (datetime.date(2017, 5, 11), datetime.date(2017, 5, 18), 2017),\n",
       " (datetime.date(2016, 5, 11), datetime.date(2016, 5, 18), 2016),\n",
       " (datetime.date(2015, 5, 11), datetime.date(2015, 5, 18), 2015),\n",
       " (datetime.date(2014, 5, 11), datetime.date(2014, 5, 18), 2014),\n",
       " (datetime.date(2013, 5, 11), datetime.date(2013, 5, 18), 2013),\n",
       " (datetime.date(2012, 5, 11), datetime.date(2012, 5, 18), 2012)]"
      ]
     },
     "metadata": {},
     "execution_count": 2
    }
   ],
   "source": [
    "date_list(days=7)"
   ]
  },
  {
   "cell_type": "code",
   "execution_count": 3,
   "metadata": {},
   "outputs": [],
   "source": [
    "# sql-query.py\n",
    "import requests\n",
    "from datetime import datetime as dt\n",
    "\n",
    "BASE_URL = 'https://api.resourcewatch.org/v1/query'\n",
    "DATA_ID = '1c72bdb6-0f93-4319-bf47-e2f23c5f0e37'    # Daily change (ADM2)\n",
    "\n",
    "\n",
    "def date_sql(dates):\n",
    "    sql = \"\"\n",
    "    i = 0\n",
    "    # dates = date_list(days=days)\n",
    "    for start, end, year in dates:\n",
    "        if i != 0:\n",
    "            sql += \" OR \"\n",
    "        sql += \"(alert__date >= '\" + start.strftime('%Y-%m-%d') + \"' AND alert__date <= '\" + end.strftime('%Y-%m-%d') + \"')\"\n",
    "        i += 1\n",
    "    return sql\n",
    "\n",
    "\n",
    "# Use the daily database table\n",
    "def build_query(iso, dates, printq=False):\n",
    "    q = (\n",
    "        \"SELECT iso, adm1, adm2, alert__date, SUM(alert__count) \" +\n",
    "        \"as alert__count, confidence__cat \\n\\n\" +\n",
    "        \"FROM mytable \\n\\n\" +\n",
    "        f\"WHERE iso='{iso}' AND confidence__cat='h' AND \\n({date_sql(dates)}) \\n\\n\" +\n",
    "        \"GROUP BY iso, adm1, adm2, alert__date\\n\"\n",
    "    )\n",
    "    \n",
    "    if printq:\n",
    "        print(q)\n",
    "\n",
    "    return q\n",
    "\n",
    "\n",
    "def query_params(q):\n",
    "    params = {\n",
    "        'sql': q\n",
    "    }\n",
    "    return params\n",
    "\n",
    "\n",
    "def send_request(iso, dates, printq=False):\n",
    "    q = build_query(iso, dates, printq)\n",
    "    p = query_params(q)\n",
    "    r = requests.get(BASE_URL + '/' + DATA_ID, params=p)\n",
    "    \n",
    "    if r.status_code == 200:\n",
    "        return r.json()['data']\n",
    "\n",
    "    else:\n",
    "        print('Something went wrong...')\n",
    "        print('Status code: ', r.status_code)\n",
    "        print('Error message: ', r.json()['errors'][0]['detail'])"
   ]
  },
  {
   "cell_type": "code",
   "execution_count": 4,
   "metadata": {},
   "outputs": [
    {
     "output_type": "stream",
     "name": "stdout",
     "text": [
      "SELECT iso, adm1, adm2, alert__date, SUM(alert__count) as alert__count, confidence__cat \n\nFROM mytable \n\nWHERE iso='IND' AND confidence__cat='h' AND \n((alert__date >= '2021-05-04' AND alert__date <= '2021-05-18') OR (alert__date >= '2020-05-04' AND alert__date <= '2020-05-18') OR (alert__date >= '2019-05-04' AND alert__date <= '2019-05-18') OR (alert__date >= '2018-05-04' AND alert__date <= '2018-05-18') OR (alert__date >= '2017-05-04' AND alert__date <= '2017-05-18') OR (alert__date >= '2016-05-04' AND alert__date <= '2016-05-18') OR (alert__date >= '2015-05-04' AND alert__date <= '2015-05-18') OR (alert__date >= '2014-05-04' AND alert__date <= '2014-05-18') OR (alert__date >= '2013-05-04' AND alert__date <= '2013-05-18') OR (alert__date >= '2012-05-04' AND alert__date <= '2012-05-18')) \n\nGROUP BY iso, adm1, adm2, alert__date\n\n"
     ]
    }
   ],
   "source": [
    "dates = date_list(days=14)\n",
    "data = send_request('IND', dates, printq=True)"
   ]
  },
  {
   "cell_type": "code",
   "execution_count": 5,
   "metadata": {},
   "outputs": [
    {
     "output_type": "execute_result",
     "data": {
      "text/plain": [
       "[{'alert__date': '2017-05-10',\n",
       "  'alert__count': 27,\n",
       "  'adm2': 7,\n",
       "  'adm1': 28,\n",
       "  'iso': 'IND'},\n",
       " {'alert__date': '2012-05-06',\n",
       "  'alert__count': 4,\n",
       "  'adm2': 7,\n",
       "  'adm1': 28,\n",
       "  'iso': 'IND'},\n",
       " {'alert__date': '2012-05-07',\n",
       "  'alert__count': 1,\n",
       "  'adm2': 7,\n",
       "  'adm1': 28,\n",
       "  'iso': 'IND'}]"
      ]
     },
     "metadata": {},
     "execution_count": 5
    }
   ],
   "source": [
    "data[:3]"
   ]
  },
  {
   "cell_type": "code",
   "execution_count": 6,
   "metadata": {},
   "outputs": [],
   "source": [
    "# calculate-significance.py\n",
    "from pandas import DataFrame, to_datetime, Index\n",
    "\n",
    "CYEAR = dt.today().year\n",
    "\n",
    "\n",
    "def assign_season(date, dates):\n",
    "    for start, end, year in dates:\n",
    "        if start <= date <= end:\n",
    "            return year\n",
    "\n",
    "\n",
    "def make_df(data, dates):\n",
    "    df = DataFrame(data)\n",
    "    df['season'] = (\n",
    "        to_datetime(df['alert__date'])\n",
    "            .apply(assign_season, args=(dates, ))\n",
    "    )\n",
    "    return df\n",
    "\n",
    "\n",
    "def adm1_seasonal_summary(df, adm1):\n",
    "    country = df['iso'][0]\n",
    "    i = Index(range(2012, CYEAR + 1))\n",
    "    adm1_df = df[df['adm1']==adm1]\n",
    "    adm1_summary = (\n",
    "        adm1_df\n",
    "            .groupby('season')\n",
    "            .agg({'alert__count': 'sum'})\n",
    "            .reindex(i, fill_value=0)\n",
    "    )\n",
    "    return country, adm1, adm1_summary\n",
    "\n",
    "\n",
    "def adm2_seasonal_summary(df, adm1, adm2):\n",
    "    country = df['iso'][0]\n",
    "    adm1 = df[df['adm1']==adm1]['adm1'].iloc[0]\n",
    "    i = create_index()\n",
    "    adm2_df = df[(df['adm1']==adm1) & (df['adm2']==adm2)]\n",
    "    adm2_summary = (\n",
    "        adm2_df\n",
    "            .groupby('season')\n",
    "            .agg({'alert__count': 'sum'})\n",
    "            .reindex(i, fill_value=0)\n",
    "    )\n",
    "    return country, adm1, adm2, adm2_summary\n",
    "\n",
    "\n",
    "def calculate_significance(seasonal_summary):\n",
    "    x = seasonal_summary.loc[CYEAR].item()\n",
    "    mu = seasonal_summary['alert__count'].mean().item()\n",
    "    sd = seasonal_summary['alert__count'].std().item()\n",
    "    if sd:\n",
    "        significance_score = (x - mu) / sd\n",
    "    else:\n",
    "        significance_score = 0\n",
    "    return significance_score, x\n",
    "\n",
    "\n",
    "def adm1_significance(df, adm1):\n",
    "    country, adm1, adm1_summary = adm1_seasonal_summary(df, adm1)\n",
    "    significance_score, current_alerts = calculate_significance(adm1_summary)\n",
    "    return (country, adm1, significance_score, current_alerts) \n",
    "\n",
    "\n",
    "def adm2_significance(df, adm1, adm2):\n",
    "    country, adm1, adm2, adm2_summary = adm2_seasonal_summary(df, adm1, adm2)\n",
    "    significance_score, current_alerts = calculate_significance(adm2_summary)\n",
    "    return (country, adm1, adm2, significance_score, current_alerts) "
   ]
  },
  {
   "cell_type": "code",
   "execution_count": 7,
   "metadata": {},
   "outputs": [],
   "source": [
    "def adm1_seasonal_summary(df, adm1):\n",
    "    country = df['iso'][0]\n",
    "    i = Index(range(2012, CYEAR + 1))\n",
    "    adm1_df = df[df['adm1']==adm1]\n",
    "    adm1_summary = (\n",
    "        adm1_df\n",
    "            .groupby('season')\n",
    "            .agg({'alert__count': 'sum'})\n",
    "            .reindex(i, fill_value=0)\n",
    "    )\n",
    "    return country, adm1, adm1_summary"
   ]
  },
  {
   "cell_type": "code",
   "execution_count": 8,
   "metadata": {},
   "outputs": [
    {
     "output_type": "error",
     "ename": "NameError",
     "evalue": "name 'df' is not defined",
     "traceback": [
      "\u001b[1;31m---------------------------------------------------------------------------\u001b[0m",
      "\u001b[1;31mNameError\u001b[0m                                 Traceback (most recent call last)",
      "\u001b[1;32m<ipython-input-8-6d64cf575985>\u001b[0m in \u001b[0;36m<module>\u001b[1;34m\u001b[0m\n\u001b[1;32m----> 1\u001b[1;33m \u001b[0madm1_df\u001b[0m \u001b[1;33m=\u001b[0m \u001b[0mdf\u001b[0m\u001b[1;33m[\u001b[0m\u001b[0mdf\u001b[0m\u001b[1;33m[\u001b[0m\u001b[1;34m'adm1'\u001b[0m\u001b[1;33m]\u001b[0m\u001b[1;33m==\u001b[0m\u001b[1;36m22\u001b[0m\u001b[1;33m]\u001b[0m\u001b[1;33m\u001b[0m\u001b[1;33m\u001b[0m\u001b[0m\n\u001b[0m\u001b[0;32m      2\u001b[0m \u001b[0madm1_df\u001b[0m\u001b[1;33m\u001b[0m\u001b[1;33m\u001b[0m\u001b[0m\n",
      "\u001b[1;31mNameError\u001b[0m: name 'df' is not defined"
     ]
    }
   ],
   "source": [
    "# adm1_df = df[df['adm1']==22]\n",
    "# adm1_df"
   ]
  },
  {
   "cell_type": "code",
   "execution_count": null,
   "metadata": {},
   "outputs": [],
   "source": [
    "df = make_df(data, dates)\n",
    "print(df.head())\n",
    "print(adm1_seasonal_summary(df, adm1=22)[2])\n",
    "print(adm1_significance(df, adm1=22))"
   ]
  },
  {
   "cell_type": "code",
   "execution_count": null,
   "metadata": {},
   "outputs": [],
   "source": [
    "# output.py\n",
    "import time\n",
    "from datetime import datetime as dt\n",
    "from pandas import DataFrame, ExcelWriter, read_csv\n",
    "\n",
    "def get_data(country, dates):\n",
    "    print(country)\n",
    "    data = send_request(country, dates, print_q=False)\n",
    "    time.sleep(1)\n",
    "    return data\n",
    "\n",
    "\n",
    "def format_adm1_out(data, drop_threshold):\n",
    "    df = DataFrame(\n",
    "        data,\n",
    "        columns=['country', 'adm1', 'significance', 'current_alerts']\n",
    "    )\n",
    "    df['score'] = df.significance * df.current_alerts\n",
    "    return df[df['current_alerts'] > drop_threshold]\n",
    "\n",
    "\n",
    "def format_adm2_out(data, drop_threshold):\n",
    "    df = DataFrame(\n",
    "        data,\n",
    "        columns=['country', 'adm1', 'adm2', 'significance', 'current_alerts']\n",
    "    )\n",
    "    df['score'] = df.significance * df.current_alerts\n",
    "    return df[df['current_alerts'] > drop_threshold]\n",
    "\n",
    "\n",
    "def rank_output(df, top_n):\n",
    "    top_sig = df.sort_values(['significance'], ascending=False).head(top_n)\n",
    "    top_score = df.sort_values(['score'], ascending=False).head(top_n)\n",
    "    return top_sig, top_score\n",
    "\n",
    "\n",
    "def write_results(top_sig, top_score, top_n, adm_level):\n",
    "    print('Writing results...', end=\"\")\n",
    "    today = dt.today().date()\n",
    "    filename = f'{adm_level}_top_{top_n}_output_' + today.strftime('%Y%m%d') + '.xlsx'\n",
    "    writer = ExcelWriter(filename, engine='xlsxwriter')\n",
    "    top_sig.to_excel(writer, sheet_name='top_significance', index=False)\n",
    "    top_score.to_excel(writer, sheet_name='top_score', index=False)\n",
    "    writer.save()\n",
    "\n",
    "\n",
    "def all_adm1_significance(iso_list, days=7, drop_threshold=10, top_n=20):\n",
    "    adm1_out = []\n",
    "    adm2_out = []\n",
    "    dates = date_list(days)\n",
    "    for country in iso_list:\n",
    "        data = get_data(country, dates)\n",
    "        if data:\n",
    "            df = make_df(data, dates)\n",
    "            regions = df.adm1.unique()\n",
    "            for region in regions:\n",
    "                districts = df[df['adm1']==region].adm2.unique()\n",
    "                adm1_out.append(adm1_significance(df, region))\n",
    "                for district in districts:\n",
    "                    adm2_out.append(adm2_significance(df, region, district))\n",
    "            # out = [significance_tuple(df, region) for region in regions]\n",
    "            # final_out += out\n",
    "    adm1_df = format_adm1_out(adm1_out, drop_threshold)\n",
    "    adm2_df = format_adm2_out(adm2_out, drop_threshold)\n",
    "    return adm1_df, adm2_df\n",
    "    # return top_sig, top_score"
   ]
  },
  {
   "cell_type": "code",
   "execution_count": null,
   "metadata": {},
   "outputs": [],
   "source": [
    "adm1_out = []\n",
    "regions = df.adm1.unique()\n",
    "for region in regions:\n",
    "    adm1_out.append(adm1_significance(df, region))\n",
    "\n",
    "print(adm1_out[:3])\n",
    "adm1_df = format_adm1_out(adm1_out, drop_threshold=10)\n",
    "print(adm1_df.head(3))\n",
    "top_sig, top_score = rank_output(adm1_df, top_n=20)\n",
    "print(top_sig.head(3))"
   ]
  },
  {
   "cell_type": "code",
   "execution_count": null,
   "metadata": {},
   "outputs": [],
   "source": [
    "top_sig, top_score = rank_output(adm1_df, top_n=20)\n",
    "write_results(top_sig, top_score, top_n=20, adm_level='adm1')\n",
    "print(\"done\")"
   ]
  },
  {
   "source": [
    "def gadm_countries(file='gadm_adm1.csv'):\n",
    "    keep_cols = ['GID_0', 'NAME_0', 'GID_1', 'NAME_1']\n",
    "    gadm_df = read_csv(file, usecols=keep_cols)\n",
    "    iso_list = gadm_df.GID_0.unique()\n",
    "    return iso_list"
   ],
   "cell_type": "code",
   "metadata": {},
   "execution_count": null,
   "outputs": []
  },
  {
   "cell_type": "code",
   "execution_count": null,
   "metadata": {},
   "outputs": [],
   "source": [
    "##### End of demo #####"
   ]
  },
  {
   "cell_type": "code",
   "execution_count": null,
   "metadata": {},
   "outputs": [],
   "source": [
    "# iso_list = ['COD', 'IND']\n",
    "iso_list = gadm_countries()\n",
    "\n",
    "start = dt.now()\n",
    "print(f\"Start: {start}\")\n",
    "\n",
    "out = all_adm1_significance(iso_list, days=7)\n",
    "\n",
    "end = dt.now()\n",
    "print(f\"End: {end}\")\n",
    "print(f\"Total time: {end - start}\")"
   ]
  },
  {
   "cell_type": "code",
   "execution_count": null,
   "metadata": {},
   "outputs": [],
   "source": [
    "out[0].head()"
   ]
  },
  {
   "cell_type": "code",
   "execution_count": null,
   "metadata": {},
   "outputs": [],
   "source": [
    "top_sig, top_score = rank_output(out[0], top_n=20)\n",
    "write_results(top_sig, top_score, top_n=20, adm_level='adm1')\n",
    "print(\"done\")\n",
    "top_sig, top_score = rank_output(out[1], top_n=20)\n",
    "write_results(top_sig, top_score, top_n=20, adm_level='adm2')\n",
    "print(\"done\")"
   ]
  },
  {
   "cell_type": "code",
   "execution_count": null,
   "metadata": {},
   "outputs": [],
   "source": [
    "# Add trend of last x days\n",
    "# Add number of days with at least 1 alert\n",
    "# Add proportion covered by forest"
   ]
  }
 ]
}