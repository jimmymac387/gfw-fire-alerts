{
 "metadata": {
  "language_info": {
   "codemirror_mode": {
    "name": "ipython",
    "version": 3
   },
   "file_extension": ".py",
   "mimetype": "text/x-python",
   "name": "python",
   "nbconvert_exporter": "python",
   "pygments_lexer": "ipython3",
   "version": "3.9.1-final"
  },
  "orig_nbformat": 2,
  "kernelspec": {
   "name": "python392jvsc74a57bd0a2179a16bd7c4824ddf3156e6c5b616743c37f42a49b1bb75af21bac13b6503e",
   "display_name": "Python 3.9.1 64-bit ('fires': conda)"
  }
 },
 "nbformat": 4,
 "nbformat_minor": 2,
 "cells": [
  {
   "cell_type": "code",
   "execution_count": 1,
   "metadata": {},
   "outputs": [
    {
     "output_type": "error",
     "ename": "ImportError",
     "evalue": "Unable to import required dependencies:\nnumpy: \n\nIMPORTANT: PLEASE READ THIS FOR ADVICE ON HOW TO SOLVE THIS ISSUE!\n\nImporting the numpy C-extensions failed. This error can happen for\nmany reasons, often due to issues with your setup or how NumPy was\ninstalled.\n\nWe have compiled some common reasons and troubleshooting tips at:\n\n    https://numpy.org/devdocs/user/troubleshooting-importerror.html\n\nPlease note and check the following:\n\n  * The Python version is: Python3.9 from \"C:\\Users\\james.maccarthy\\Miniconda3\\envs\\fires\\python.exe\"\n  * The NumPy version is: \"1.20.2\"\n\nand make sure that they are the versions you expect.\nPlease carefully study the documentation linked above for further help.\n\nOriginal error was: DLL load failed while importing _multiarray_umath: The specified module could not be found.\n",
     "traceback": [
      "\u001b[1;31m---------------------------------------------------------------------------\u001b[0m",
      "\u001b[1;31mImportError\u001b[0m                               Traceback (most recent call last)",
      "\u001b[1;32m<ipython-input-1-cbc90c04ce7f>\u001b[0m in \u001b[0;36m<module>\u001b[1;34m\u001b[0m\n\u001b[0;32m     11\u001b[0m \u001b[1;32mfrom\u001b[0m \u001b[0mutils\u001b[0m\u001b[1;33m.\u001b[0m\u001b[0mdates\u001b[0m \u001b[1;32mimport\u001b[0m \u001b[0mdate_range_list\u001b[0m\u001b[1;33m\u001b[0m\u001b[1;33m\u001b[0m\u001b[0m\n\u001b[0;32m     12\u001b[0m \u001b[1;32mfrom\u001b[0m \u001b[0mutils\u001b[0m\u001b[1;33m.\u001b[0m\u001b[0mquery_api\u001b[0m \u001b[1;32mimport\u001b[0m \u001b[0msend_request\u001b[0m\u001b[1;33m\u001b[0m\u001b[1;33m\u001b[0m\u001b[0m\n\u001b[1;32m---> 13\u001b[1;33m \u001b[1;32mfrom\u001b[0m \u001b[0mutils\u001b[0m\u001b[1;33m.\u001b[0m\u001b[0mstd_score\u001b[0m \u001b[1;32mimport\u001b[0m \u001b[0mcountry_std_score\u001b[0m\u001b[1;33m\u001b[0m\u001b[1;33m\u001b[0m\u001b[0m\n\u001b[0m\u001b[0;32m     14\u001b[0m \u001b[1;33m\u001b[0m\u001b[0m\n\u001b[0;32m     15\u001b[0m \u001b[0miso_list\u001b[0m \u001b[1;33m=\u001b[0m \u001b[1;33m[\u001b[0m\u001b[1;34m'IND'\u001b[0m\u001b[1;33m]\u001b[0m\u001b[1;33m\u001b[0m\u001b[1;33m\u001b[0m\u001b[0m\n",
      "\u001b[1;32mc:\\Users\\james.maccarthy\\New Organization\\Documents\\Git\\gfw-fires\\api_rank\\utils\\std_score.py\u001b[0m in \u001b[0;36m<module>\u001b[1;34m\u001b[0m\n\u001b[0;32m      1\u001b[0m \u001b[1;32mfrom\u001b[0m \u001b[0mdatetime\u001b[0m \u001b[1;32mimport\u001b[0m \u001b[0mdatetime\u001b[0m \u001b[1;32mas\u001b[0m \u001b[0mdt\u001b[0m\u001b[1;33m\u001b[0m\u001b[1;33m\u001b[0m\u001b[0m\n\u001b[1;32m----> 2\u001b[1;33m \u001b[1;32mfrom\u001b[0m \u001b[0mutils\u001b[0m\u001b[1;33m.\u001b[0m\u001b[0mformat_df\u001b[0m \u001b[1;32mimport\u001b[0m \u001b[0mmake_df\u001b[0m\u001b[1;33m,\u001b[0m \u001b[0mseasonal_counts\u001b[0m\u001b[1;33m,\u001b[0m \u001b[0mformat_out\u001b[0m\u001b[1;33m\u001b[0m\u001b[1;33m\u001b[0m\u001b[0m\n\u001b[0m\u001b[0;32m      3\u001b[0m \u001b[1;33m\u001b[0m\u001b[0m\n\u001b[0;32m      4\u001b[0m \u001b[1;32mdef\u001b[0m \u001b[0mcalc_std_score\u001b[0m\u001b[1;33m(\u001b[0m\u001b[0mcounts\u001b[0m\u001b[1;33m)\u001b[0m\u001b[1;33m:\u001b[0m\u001b[1;33m\u001b[0m\u001b[1;33m\u001b[0m\u001b[0m\n\u001b[0;32m      5\u001b[0m     \u001b[0mx\u001b[0m \u001b[1;33m=\u001b[0m \u001b[0mcounts\u001b[0m\u001b[1;33m.\u001b[0m\u001b[0mloc\u001b[0m\u001b[1;33m[\u001b[0m\u001b[0mdt\u001b[0m\u001b[1;33m.\u001b[0m\u001b[0mtoday\u001b[0m\u001b[1;33m(\u001b[0m\u001b[1;33m)\u001b[0m\u001b[1;33m.\u001b[0m\u001b[0myear\u001b[0m\u001b[1;33m]\u001b[0m\u001b[1;33m.\u001b[0m\u001b[0mitem\u001b[0m\u001b[1;33m(\u001b[0m\u001b[1;33m)\u001b[0m\u001b[1;33m\u001b[0m\u001b[1;33m\u001b[0m\u001b[0m\n",
      "\u001b[1;32mc:\\Users\\james.maccarthy\\New Organization\\Documents\\Git\\gfw-fires\\api_rank\\utils\\format_df.py\u001b[0m in \u001b[0;36m<module>\u001b[1;34m\u001b[0m\n\u001b[0;32m      1\u001b[0m \u001b[1;32mfrom\u001b[0m \u001b[0mdatetime\u001b[0m \u001b[1;32mimport\u001b[0m \u001b[0mdatetime\u001b[0m \u001b[1;32mas\u001b[0m \u001b[0mdt\u001b[0m\u001b[1;33m\u001b[0m\u001b[1;33m\u001b[0m\u001b[0m\n\u001b[1;32m----> 2\u001b[1;33m \u001b[1;32mfrom\u001b[0m \u001b[0mpandas\u001b[0m \u001b[1;32mimport\u001b[0m \u001b[0mDataFrame\u001b[0m\u001b[1;33m,\u001b[0m \u001b[0mto_datetime\u001b[0m\u001b[1;33m,\u001b[0m \u001b[0mIndex\u001b[0m\u001b[1;33m\u001b[0m\u001b[1;33m\u001b[0m\u001b[0m\n\u001b[0m\u001b[0;32m      3\u001b[0m \u001b[1;33m\u001b[0m\u001b[0m\n\u001b[0;32m      4\u001b[0m \u001b[1;33m\u001b[0m\u001b[0m\n\u001b[0;32m      5\u001b[0m \u001b[1;32mdef\u001b[0m \u001b[0massign_season\u001b[0m\u001b[1;33m(\u001b[0m\u001b[0mdate\u001b[0m\u001b[1;33m,\u001b[0m \u001b[0mdates\u001b[0m\u001b[1;33m)\u001b[0m\u001b[1;33m:\u001b[0m\u001b[1;33m\u001b[0m\u001b[1;33m\u001b[0m\u001b[0m\n",
      "\u001b[1;32m~\\Miniconda3\\envs\\fires\\lib\\site-packages\\pandas\\__init__.py\u001b[0m in \u001b[0;36m<module>\u001b[1;34m\u001b[0m\n\u001b[0;32m     14\u001b[0m \u001b[1;33m\u001b[0m\u001b[0m\n\u001b[0;32m     15\u001b[0m \u001b[1;32mif\u001b[0m \u001b[0mmissing_dependencies\u001b[0m\u001b[1;33m:\u001b[0m\u001b[1;33m\u001b[0m\u001b[1;33m\u001b[0m\u001b[0m\n\u001b[1;32m---> 16\u001b[1;33m     raise ImportError(\n\u001b[0m\u001b[0;32m     17\u001b[0m         \u001b[1;34m\"Unable to import required dependencies:\\n\"\u001b[0m \u001b[1;33m+\u001b[0m \u001b[1;34m\"\\n\"\u001b[0m\u001b[1;33m.\u001b[0m\u001b[0mjoin\u001b[0m\u001b[1;33m(\u001b[0m\u001b[0mmissing_dependencies\u001b[0m\u001b[1;33m)\u001b[0m\u001b[1;33m\u001b[0m\u001b[1;33m\u001b[0m\u001b[0m\n\u001b[0;32m     18\u001b[0m     )\n",
      "\u001b[1;31mImportError\u001b[0m: Unable to import required dependencies:\nnumpy: \n\nIMPORTANT: PLEASE READ THIS FOR ADVICE ON HOW TO SOLVE THIS ISSUE!\n\nImporting the numpy C-extensions failed. This error can happen for\nmany reasons, often due to issues with your setup or how NumPy was\ninstalled.\n\nWe have compiled some common reasons and troubleshooting tips at:\n\n    https://numpy.org/devdocs/user/troubleshooting-importerror.html\n\nPlease note and check the following:\n\n  * The Python version is: Python3.9 from \"C:\\Users\\james.maccarthy\\Miniconda3\\envs\\fires\\python.exe\"\n  * The NumPy version is: \"1.20.2\"\n\nand make sure that they are the versions you expect.\nPlease carefully study the documentation linked above for further help.\n\nOriginal error was: DLL load failed while importing _multiarray_umath: The specified module could not be found.\n"
     ]
    }
   ],
   "source": [
    "# Add feature: top x locations per UN region \n",
    "# - Intersect GADM layer with UN regions and then loop through regions\n",
    "\n",
    "# Add features:\n",
    "# - Satellite images before and after\n",
    "# - Number of hectares burned\n",
    "# - Trend of last x days\n",
    "# - Number of days with at least 1 alert\n",
    "# - Proportion covered by forest\n",
    "\n",
    "from utils.dates import date_range_list\n",
    "from utils.query_api import send_request\n",
    "from utils.std_score import country_std_score\n",
    "\n",
    "iso_list = ['IND']\n",
    "drop_thresh = 30\n",
    "\n",
    "for country in iso_list:\n",
    "    dates = date_range_list(days=7)\n",
    "    data = send_request(country, dates, printq=True)\n",
    "\n",
    "    if data:\n",
    "        adm1_out, adm2_out = country_std_score(data, dates)\n",
    "\n",
    "adm1_out = adm1_out[adm1_out['current_alerts'] > drop_thresh]\n",
    "adm2_out = adm2_out[adm2_out['current_alerts'] > drop_thresh]\n",
    "\n"
   ]
  },
  {
   "cell_type": "code",
   "execution_count": 2,
   "metadata": {},
   "outputs": [
    {
     "output_type": "execute_result",
     "data": {
      "text/plain": [
       "(   country  adm1  current_alerts  significance       score\n",
       " 0      IND    19             403      0.469745  189.307321\n",
       " 1      IND    34             173      0.134248   23.224841\n",
       " 2      IND    20              71      0.201727   14.322603\n",
       " 3      IND    26              66     -0.117397   -7.748216\n",
       " 4      IND    29              44     -0.423798  -18.647114\n",
       " 6      IND     5              70      1.042904   73.003271\n",
       " 9      IND    12             116      1.486864  172.476266\n",
       " 13     IND     4              34      0.147310    5.008549\n",
       " 16     IND    23              40      1.670620   66.824797,\n",
       "     country  adm1  adm2  current_alerts  significance      score\n",
       " 2       IND    19    40              59      1.341940  79.174446\n",
       " 8       IND    19    14              39      1.918550  74.823435\n",
       " 50      IND    34    70              36     -0.127117  -4.576208\n",
       " 265     IND    12     7              31      2.723597  84.431499\n",
       " 345     IND     4    17              32      0.314774  10.072763)"
      ]
     },
     "metadata": {},
     "execution_count": 2
    }
   ],
   "source": [
    "tuple(df[df['current_alerts'] > drop_thresh] for df in country_std_score(data, dates))"
   ]
  },
  {
   "cell_type": "code",
   "execution_count": 7,
   "metadata": {},
   "outputs": [],
   "source": [
    "def rank_output(df, top_n):\n",
    "    top_sig = df.sort_values(['significance'], ascending=False).head(top_n)\n",
    "    top_score = df.sort_values(['score'], ascending=False).head(top_n)\n",
    "    return top_sig, top_score\n"
   ]
  },
  {
   "cell_type": "code",
   "execution_count": 20,
   "metadata": {},
   "outputs": [],
   "source": [
    "# output.py\n",
    "import time\n",
    "from datetime import datetime as dt\n",
    "from pandas import DataFrame, ExcelWriter, read_csv\n",
    "\n",
    "def rank_output(df, top_n):\n",
    "    top_sig = df.sort_values(['significance'], ascending=False).head(top_n)\n",
    "    top_score = df.sort_values(['score'], ascending=False).head(top_n)\n",
    "    return top_sig, top_score\n",
    "\n",
    "\n",
    "def write_results(top_sig, top_score, top_n, adm_level):\n",
    "    print('Writing results...', end=\"\")\n",
    "    today = dt.today().date()\n",
    "    filename = f'{adm_level}_top_{top_n}_output_' + today.strftime('%Y%m%d') + '.xlsx'\n",
    "    writer = ExcelWriter(filename, engine='xlsxwriter')\n",
    "    top_sig.to_excel(writer, sheet_name='top_significance', index=False)\n",
    "    top_score.to_excel(writer, sheet_name='top_score', index=False)\n",
    "    writer.save()"
   ]
  },
  {
   "cell_type": "code",
   "execution_count": 21,
   "metadata": {},
   "outputs": [
    {
     "output_type": "stream",
     "name": "stdout",
     "text": [
      "[('IND', 19, 1.9486861836047127, 1001), ('IND', 20, 1.0231502599214375, 184), ('IND', 26, -0.5241250675095297, 81)]\n  country  adm1  significance  current_alerts        score\n0     IND    19      1.948686            1001  1950.634870\n1     IND    20      1.023150             184   188.259648\n2     IND    26     -0.524125              81   -42.454130\n   country  adm1  significance  current_alerts       score\n23     IND    13      2.831849              40  113.273959\n20     IND    35      2.828880             123  347.952259\n8      IND    34      2.794225             199  556.050871\n"
     ]
    }
   ],
   "source": [
    "adm1_out = []\n",
    "regions = df.adm1.unique()\n",
    "for region in regions:\n",
    "    adm1_out.append(adm1_significance(df, region))\n",
    "print(adm1_out[:3])\n",
    "adm1_df = format_adm1_out(adm1_out, drop_threshold=10)\n",
    "print(adm1_df.head(3))\n",
    "top_sig, top_score = rank_output(adm1_df, top_n=20)\n",
    "print(top_sig.head(3))"
   ]
  },
  {
   "cell_type": "code",
   "execution_count": 22,
   "metadata": {},
   "outputs": [],
   "source": [
    "def gadm_countries(file='gadm_adm1.csv'):\n",
    "    keep_cols = ['GID_0', 'NAME_0', 'GID_1', 'NAME_1']\n",
    "    gadm_df = read_csv(file, usecols=keep_cols)\n",
    "    iso_list = gadm_df.GID_0.unique()\n",
    "    return iso_list"
   ]
  },
  {
   "cell_type": "code",
   "execution_count": 11,
   "metadata": {},
   "outputs": [],
   "source": [
    "##### End of demo #####"
   ]
  },
  {
   "cell_type": "code",
   "execution_count": 12,
   "metadata": {},
   "outputs": [
    {
     "output_type": "stream",
     "name": "stdout",
     "text": [
      "Start: 2021-04-08 12:49:53.935526\nAFG\n"
     ]
    },
    {
     "output_type": "error",
     "ename": "NameError",
     "evalue": "name 'create_index' is not defined",
     "traceback": [
      "\u001b[1;31m---------------------------------------------------------------------------\u001b[0m",
      "\u001b[1;31mNameError\u001b[0m                                 Traceback (most recent call last)",
      "\u001b[1;32m<ipython-input-12-7b85534a2669>\u001b[0m in \u001b[0;36m<module>\u001b[1;34m\u001b[0m\n\u001b[0;32m      5\u001b[0m \u001b[0mprint\u001b[0m\u001b[1;33m(\u001b[0m\u001b[1;34mf\"Start: {start}\"\u001b[0m\u001b[1;33m)\u001b[0m\u001b[1;33m\u001b[0m\u001b[1;33m\u001b[0m\u001b[0m\n\u001b[0;32m      6\u001b[0m \u001b[1;33m\u001b[0m\u001b[0m\n\u001b[1;32m----> 7\u001b[1;33m \u001b[0mout\u001b[0m \u001b[1;33m=\u001b[0m \u001b[0mall_adm1_significance\u001b[0m\u001b[1;33m(\u001b[0m\u001b[0miso_list\u001b[0m\u001b[1;33m,\u001b[0m \u001b[0mdays\u001b[0m\u001b[1;33m=\u001b[0m\u001b[1;36m7\u001b[0m\u001b[1;33m)\u001b[0m\u001b[1;33m\u001b[0m\u001b[1;33m\u001b[0m\u001b[0m\n\u001b[0m\u001b[0;32m      8\u001b[0m \u001b[1;33m\u001b[0m\u001b[0m\n\u001b[0;32m      9\u001b[0m \u001b[0mend\u001b[0m \u001b[1;33m=\u001b[0m \u001b[0mdt\u001b[0m\u001b[1;33m.\u001b[0m\u001b[0mnow\u001b[0m\u001b[1;33m(\u001b[0m\u001b[1;33m)\u001b[0m\u001b[1;33m\u001b[0m\u001b[1;33m\u001b[0m\u001b[0m\n",
      "\u001b[1;32m<ipython-input-8-16827ba4e405>\u001b[0m in \u001b[0;36mall_adm1_significance\u001b[1;34m(iso_list, days, drop_threshold, top_n)\u001b[0m\n\u001b[0;32m     58\u001b[0m                 \u001b[0madm1_out\u001b[0m\u001b[1;33m.\u001b[0m\u001b[0mappend\u001b[0m\u001b[1;33m(\u001b[0m\u001b[0madm1_significance\u001b[0m\u001b[1;33m(\u001b[0m\u001b[0mdf\u001b[0m\u001b[1;33m,\u001b[0m \u001b[0mregion\u001b[0m\u001b[1;33m)\u001b[0m\u001b[1;33m)\u001b[0m\u001b[1;33m\u001b[0m\u001b[1;33m\u001b[0m\u001b[0m\n\u001b[0;32m     59\u001b[0m                 \u001b[1;32mfor\u001b[0m \u001b[0mdistrict\u001b[0m \u001b[1;32min\u001b[0m \u001b[0mdistricts\u001b[0m\u001b[1;33m:\u001b[0m\u001b[1;33m\u001b[0m\u001b[1;33m\u001b[0m\u001b[0m\n\u001b[1;32m---> 60\u001b[1;33m                     \u001b[0madm2_out\u001b[0m\u001b[1;33m.\u001b[0m\u001b[0mappend\u001b[0m\u001b[1;33m(\u001b[0m\u001b[0madm2_significance\u001b[0m\u001b[1;33m(\u001b[0m\u001b[0mdf\u001b[0m\u001b[1;33m,\u001b[0m \u001b[0mregion\u001b[0m\u001b[1;33m,\u001b[0m \u001b[0mdistrict\u001b[0m\u001b[1;33m)\u001b[0m\u001b[1;33m)\u001b[0m\u001b[1;33m\u001b[0m\u001b[1;33m\u001b[0m\u001b[0m\n\u001b[0m\u001b[0;32m     61\u001b[0m             \u001b[1;31m# out = [significance_tuple(df, region) for region in regions]\u001b[0m\u001b[1;33m\u001b[0m\u001b[1;33m\u001b[0m\u001b[1;33m\u001b[0m\u001b[0m\n\u001b[0;32m     62\u001b[0m             \u001b[1;31m# final_out += out\u001b[0m\u001b[1;33m\u001b[0m\u001b[1;33m\u001b[0m\u001b[1;33m\u001b[0m\u001b[0m\n",
      "\u001b[1;32m<ipython-input-6-0a756b74f4b7>\u001b[0m in \u001b[0;36madm2_significance\u001b[1;34m(df, adm1, adm2)\u001b[0m\n\u001b[0;32m     65\u001b[0m \u001b[1;33m\u001b[0m\u001b[0m\n\u001b[0;32m     66\u001b[0m \u001b[1;32mdef\u001b[0m \u001b[0madm2_significance\u001b[0m\u001b[1;33m(\u001b[0m\u001b[0mdf\u001b[0m\u001b[1;33m,\u001b[0m \u001b[0madm1\u001b[0m\u001b[1;33m,\u001b[0m \u001b[0madm2\u001b[0m\u001b[1;33m)\u001b[0m\u001b[1;33m:\u001b[0m\u001b[1;33m\u001b[0m\u001b[1;33m\u001b[0m\u001b[0m\n\u001b[1;32m---> 67\u001b[1;33m     \u001b[0mcountry\u001b[0m\u001b[1;33m,\u001b[0m \u001b[0madm1\u001b[0m\u001b[1;33m,\u001b[0m \u001b[0madm2\u001b[0m\u001b[1;33m,\u001b[0m \u001b[0madm2_summary\u001b[0m \u001b[1;33m=\u001b[0m \u001b[0madm2_seasonal_summary\u001b[0m\u001b[1;33m(\u001b[0m\u001b[0mdf\u001b[0m\u001b[1;33m,\u001b[0m \u001b[0madm1\u001b[0m\u001b[1;33m,\u001b[0m \u001b[0madm2\u001b[0m\u001b[1;33m)\u001b[0m\u001b[1;33m\u001b[0m\u001b[1;33m\u001b[0m\u001b[0m\n\u001b[0m\u001b[0;32m     68\u001b[0m     \u001b[0msignificance_score\u001b[0m\u001b[1;33m,\u001b[0m \u001b[0mcurrent_alerts\u001b[0m \u001b[1;33m=\u001b[0m \u001b[0mcalculate_significance\u001b[0m\u001b[1;33m(\u001b[0m\u001b[0madm2_summary\u001b[0m\u001b[1;33m)\u001b[0m\u001b[1;33m\u001b[0m\u001b[1;33m\u001b[0m\u001b[0m\n\u001b[0;32m     69\u001b[0m     \u001b[1;32mreturn\u001b[0m \u001b[1;33m(\u001b[0m\u001b[0mcountry\u001b[0m\u001b[1;33m,\u001b[0m \u001b[0madm1\u001b[0m\u001b[1;33m,\u001b[0m \u001b[0madm2\u001b[0m\u001b[1;33m,\u001b[0m \u001b[0msignificance_score\u001b[0m\u001b[1;33m,\u001b[0m \u001b[0mcurrent_alerts\u001b[0m\u001b[1;33m)\u001b[0m\u001b[1;33m\u001b[0m\u001b[1;33m\u001b[0m\u001b[0m\n",
      "\u001b[1;32m<ipython-input-6-0a756b74f4b7>\u001b[0m in \u001b[0;36madm2_seasonal_summary\u001b[1;34m(df, adm1, adm2)\u001b[0m\n\u001b[0;32m     36\u001b[0m     \u001b[0mcountry\u001b[0m \u001b[1;33m=\u001b[0m \u001b[0mdf\u001b[0m\u001b[1;33m[\u001b[0m\u001b[1;34m'iso'\u001b[0m\u001b[1;33m]\u001b[0m\u001b[1;33m[\u001b[0m\u001b[1;36m0\u001b[0m\u001b[1;33m]\u001b[0m\u001b[1;33m\u001b[0m\u001b[1;33m\u001b[0m\u001b[0m\n\u001b[0;32m     37\u001b[0m     \u001b[0madm1\u001b[0m \u001b[1;33m=\u001b[0m \u001b[0mdf\u001b[0m\u001b[1;33m[\u001b[0m\u001b[0mdf\u001b[0m\u001b[1;33m[\u001b[0m\u001b[1;34m'adm1'\u001b[0m\u001b[1;33m]\u001b[0m\u001b[1;33m==\u001b[0m\u001b[0madm1\u001b[0m\u001b[1;33m]\u001b[0m\u001b[1;33m[\u001b[0m\u001b[1;34m'adm1'\u001b[0m\u001b[1;33m]\u001b[0m\u001b[1;33m.\u001b[0m\u001b[0miloc\u001b[0m\u001b[1;33m[\u001b[0m\u001b[1;36m0\u001b[0m\u001b[1;33m]\u001b[0m\u001b[1;33m\u001b[0m\u001b[1;33m\u001b[0m\u001b[0m\n\u001b[1;32m---> 38\u001b[1;33m     \u001b[0mi\u001b[0m \u001b[1;33m=\u001b[0m \u001b[0mcreate_index\u001b[0m\u001b[1;33m(\u001b[0m\u001b[1;33m)\u001b[0m\u001b[1;33m\u001b[0m\u001b[1;33m\u001b[0m\u001b[0m\n\u001b[0m\u001b[0;32m     39\u001b[0m     \u001b[0madm2_df\u001b[0m \u001b[1;33m=\u001b[0m \u001b[0mdf\u001b[0m\u001b[1;33m[\u001b[0m\u001b[1;33m(\u001b[0m\u001b[0mdf\u001b[0m\u001b[1;33m[\u001b[0m\u001b[1;34m'adm1'\u001b[0m\u001b[1;33m]\u001b[0m\u001b[1;33m==\u001b[0m\u001b[0madm1\u001b[0m\u001b[1;33m)\u001b[0m \u001b[1;33m&\u001b[0m \u001b[1;33m(\u001b[0m\u001b[0mdf\u001b[0m\u001b[1;33m[\u001b[0m\u001b[1;34m'adm2'\u001b[0m\u001b[1;33m]\u001b[0m\u001b[1;33m==\u001b[0m\u001b[0madm2\u001b[0m\u001b[1;33m)\u001b[0m\u001b[1;33m]\u001b[0m\u001b[1;33m\u001b[0m\u001b[1;33m\u001b[0m\u001b[0m\n\u001b[0;32m     40\u001b[0m     adm2_summary = (\n",
      "\u001b[1;31mNameError\u001b[0m: name 'create_index' is not defined"
     ]
    }
   ],
   "source": [
    "# iso_list = ['COD', 'IND']\n",
    "iso_list = gadm_countries()\n",
    "\n",
    "start = dt.now()\n",
    "print(f\"Start: {start}\")\n",
    "\n",
    "out = all_adm1_significance(iso_list, days=7)\n",
    "\n",
    "end = dt.now()\n",
    "print(f\"End: {end}\")\n",
    "print(f\"Total time: {end - start}\")"
   ]
  },
  {
   "cell_type": "code",
   "execution_count": null,
   "metadata": {},
   "outputs": [],
   "source": [
    "out[0].head()"
   ]
  },
  {
   "cell_type": "code",
   "execution_count": 113,
   "metadata": {},
   "outputs": [
    {
     "output_type": "stream",
     "name": "stdout",
     "text": [
      "Writing results...done\n",
      "Writing results...done\n"
     ]
    }
   ],
   "source": [
    "top_sig, top_score = rank_output(out[0], top_n=20)\n",
    "write_results(top_sig, top_score, top_n=20, adm_level='adm1')\n",
    "print(\"done\")\n",
    "top_sig, top_score = rank_output(out[1], top_n=20)\n",
    "write_results(top_sig, top_score, top_n=20, adm_level='adm2')\n",
    "print(\"done\")"
   ]
  },
  {
   "cell_type": "code",
   "execution_count": null,
   "metadata": {},
   "outputs": [],
   "source": [
    "# Add trend of last x days\n",
    "# Add number of days with at least 1 alert\n",
    "# Add proportion covered by forest"
   ]
  }
 ]
}