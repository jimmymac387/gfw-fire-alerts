{
 "metadata": {
  "language_info": {
   "codemirror_mode": {
    "name": "ipython",
    "version": 3
   },
   "file_extension": ".py",
   "mimetype": "text/x-python",
   "name": "python",
   "nbconvert_exporter": "python",
   "pygments_lexer": "ipython3",
   "version": "3.9.1-final"
  },
  "orig_nbformat": 2,
  "kernelspec": {
   "name": "python3",
   "display_name": "Python 3.9.1 64-bit ('fires': conda)",
   "metadata": {
    "interpreter": {
     "hash": "a2179a16bd7c4824ddf3156e6c5b616743c37f42a49b1bb75af21bac13b6503e"
    }
   }
  }
 },
 "nbformat": 4,
 "nbformat_minor": 2,
 "cells": [
  {
   "cell_type": "code",
   "execution_count": 1,
   "metadata": {},
   "outputs": [],
   "source": [
    "import os\n",
    "import boto3\n",
    "import sqlite3"
   ]
  },
  {
   "cell_type": "code",
   "execution_count": 34,
   "metadata": {},
   "outputs": [],
   "source": [
    "def create_connection(db_file):\n",
    "    \"\"\"\n",
    "    Creates a connection to the SQLite database\n",
    "    :param db_file: Database file\n",
    "    :return: Connection object or None \n",
    "    \"\"\"\n",
    "    conn = None\n",
    "    try:\n",
    "        conn = sqlite3.connect(db_file)\n",
    "        print(f'Connected to {db_file}')\n",
    "    except Error as e:\n",
    "        print(e)  \n",
    "\n",
    "    return conn\n",
    "\n",
    "\n",
    "def create_table(conn, overwrite=False):\n",
    "    cursor = conn.cursor()\n",
    "    # Create table if it does not exist\n",
    "    cursor.execute(\n",
    "        'CREATE TABLE IF NOT EXISTS viirs_alerts (' +\n",
    "        'id INTEGER PRIMARY KEY AUTOINCREMENT, ' +\n",
    "        'lat REAL, ' +\n",
    "        'long REAL, ' +\n",
    "        'frp REAL, ' +\n",
    "        'acq_date TEXT, ' +\n",
    "        'acq_time TEXT, ' +\n",
    "        'confidence TEXT, ' +\n",
    "        'daynight TEXT)'\n",
    "    )\n",
    "    cursor.close()\n",
    "    # return cursor.lastrowid\n",
    "\n",
    "\n",
    "def rows_from_file(file):\n",
    "    import csv\n",
    "    with open(file, 'r') as f:\n",
    "        reader = csv.DictReader(f)\n",
    "        to_db = [(row['latitude'], row['longitude'], row['frp'], row['acq_date'],\n",
    "            row['acq_time'], row['confidence'], row['daynight']) for row in reader]\n",
    "        # print(to_db)\n",
    "    return to_db\n",
    "\n",
    "\n",
    "# Insert rows (can also import rows from a file)\n",
    "def insert_row(conn, file=None, values=None):\n",
    "    sql = (\n",
    "        f\"INSERT INTO viirs_alerts (lat, long, frp, acq_date, acq_time, confidence, daynight) \" +\n",
    "        f\"VALUES (?, ?, ?, ?, ?, ?, ?)\"\n",
    "    )\n",
    "    cursor = conn.cursor()\n",
    "    if file:\n",
    "        db_values = rows_from_file(file)\n",
    "        cursor.executemany(sql, db_values)\n",
    "    else:\n",
    "        cursor.execute(sql, values)\n",
    "    # conn.commit()\n",
    "    # print(cursor.execute('SELECT * FROM viirs_alerts').fetchall())\n",
    "    cursor.close()\n",
    "    # return cursor.lastrowid\n",
    "\n",
    "# Test\n",
    "# insert_row(conn, file='test.csv')\n",
    "\n",
    "# Need to commit changes after running functions (i.e., conn.commmit())"
   ]
  },
  {
   "cell_type": "code",
   "execution_count": 3,
   "metadata": {},
   "outputs": [
    {
     "output_type": "stream",
     "name": "stdout",
     "text": [
      "Connected to viirs_alerts.db\n"
     ]
    }
   ],
   "source": [
    "# Create connection and cursor\n",
    "conn = create_connection('viirs_alerts.db')\n",
    "cursor = conn.cursor()"
   ]
  },
  {
   "cell_type": "code",
   "execution_count": null,
   "metadata": {},
   "outputs": [],
   "source": []
  },
  {
   "cell_type": "code",
   "execution_count": null,
   "metadata": {},
   "outputs": [],
   "source": [
    "# List of tables in the database\n",
    "cursor.execute(\"SELECT name FROM sqlite_master WHERE type='table';\")\n",
    "print([table[0] for table in cursor.fetchall()])"
   ]
  },
  {
   "cell_type": "code",
   "execution_count": null,
   "metadata": {},
   "outputs": [],
   "source": [
    "# List of columns in the database\n",
    "cursor.execute(\"SELECT * FROM viirs_alerts\")\n",
    "[column[0] for column in cursor.description]"
   ]
  },
  {
   "cell_type": "code",
   "execution_count": null,
   "metadata": {},
   "outputs": [],
   "source": [
    "# Add data to the table\n",
    "import csv\n",
    "with open('test.csv', 'r') as f:\n",
    "    dr = csv.DictReader(f)\n",
    "    to_db = [(r['latitude'], r['longitude'], r['frp'], r['acq_date'], r['acq_time'], r['confidence'], r['daynight']) for r in dr]\n",
    "    print(to_db)\n",
    "\n",
    "# cursor.executemany('INSERT INTO viirs_alerts (lat, long, frp, acq_date, acq_time, confidence, daynight) VALUES (?, ?, ?, ?, ?, ?, ?);', to_db)\n",
    "\n",
    "# #\n",
    "# conn.commit()"
   ]
  },
  {
   "cell_type": "code",
   "execution_count": null,
   "metadata": {},
   "outputs": [],
   "source": [
    "# View data in the table\n",
    "cursor.execute(\"SELECT * FROM viirs_alerts LIMIT 2\")\n",
    "print(cursor.fetchall())"
   ]
  },
  {
   "cell_type": "code",
   "execution_count": null,
   "metadata": {},
   "outputs": [],
   "source": [
    "conn.close()"
   ]
  },
  {
   "cell_type": "code",
   "execution_count": null,
   "metadata": {},
   "outputs": [],
   "source": []
  },
  {
   "cell_type": "code",
   "execution_count": null,
   "metadata": {},
   "outputs": [],
   "source": [
    "s3_resource = boto3.resource('s3')"
   ]
  },
  {
   "cell_type": "code",
   "execution_count": null,
   "metadata": {},
   "outputs": [],
   "source": [
    "bucket = s3_resource.Bucket('gfw-files')"
   ]
  },
  {
   "cell_type": "code",
   "execution_count": null,
   "metadata": {
    "tags": []
   },
   "outputs": [],
   "source": [
    "t = bucket.objects.filter(Prefix='jmaccarthy/Fires/VIIRS Archive')"
   ]
  },
  {
   "cell_type": "code",
   "execution_count": null,
   "metadata": {},
   "outputs": [],
   "source": [
    "[file.key for file in t]"
   ]
  },
  {
   "cell_type": "code",
   "execution_count": null,
   "metadata": {},
   "outputs": [],
   "source": [
    "# os.listdir('../VIIRS Archive')"
   ]
  }
 ]
}