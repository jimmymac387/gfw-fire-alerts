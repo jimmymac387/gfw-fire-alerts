{
 "metadata": {
  "language_info": {
   "codemirror_mode": {
    "name": "ipython",
    "version": 3
   },
   "file_extension": ".py",
   "mimetype": "text/x-python",
   "name": "python",
   "nbconvert_exporter": "python",
   "pygments_lexer": "ipython3",
   "version": "3.9.1-final"
  },
  "orig_nbformat": 2,
  "kernelspec": {
   "name": "python3",
   "display_name": "Python 3.9.1 64-bit ('fires': conda)",
   "metadata": {
    "interpreter": {
     "hash": "a2179a16bd7c4824ddf3156e6c5b616743c37f42a49b1bb75af21bac13b6503e"
    }
   }
  }
 },
 "nbformat": 4,
 "nbformat_minor": 2,
 "cells": [
  {
   "source": [
    "# Import modules"
   ],
   "cell_type": "markdown",
   "metadata": {}
  },
  {
   "cell_type": "code",
   "execution_count": 14,
   "metadata": {},
   "outputs": [],
   "source": [
    "import h3  # Uber H3 grid system\n",
    "import pandas as pd  # Read csv data as data frame\n",
    "from folium import Map  # Interactive mapping"
   ]
  },
  {
   "source": [
    "# Download data from NASA website\n",
    "https://firms.modaps.eosdis.nasa.gov/active_fire"
   ],
   "cell_type": "markdown",
   "metadata": {}
  },
  {
   "cell_type": "code",
   "execution_count": 26,
   "metadata": {},
   "outputs": [],
   "source": [
    "# Get data for Canada (past 24 hours)\r\n",
    "# url = \"https://firms.modaps.eosdis.nasa.gov/data/active_fire/suomi-npp-viirs-c2/csv/SUOMI_VIIRS_C2_Canada_24h.csv\"\r\n",
    "# df = pd.read_csv(url)\r\n",
    "\r\n",
    "# Get global data (past 24 hours)\r\n",
    "url = \"https://firms.modaps.eosdis.nasa.gov/data/active_fire/suomi-npp-viirs-c2/csv/SUOMI_VIIRS_C2_Global_24h.csv\"\r\n",
    "df = pd.read_csv(url)"
   ]
  },
  {
   "cell_type": "code",
   "execution_count": 39,
   "metadata": {},
   "outputs": [
    {
     "output_type": "stream",
     "name": "stdout",
     "text": [
      "(82012, 13)\n"
     ]
    },
    {
     "output_type": "execute_result",
     "data": {
      "text/plain": [
       "   latitude  longitude  bright_ti4  scan  track    acq_date  acq_time  \\\n",
       "0  52.53814   39.63165       323.1  0.74   0.76  2020-12-27       106   \n",
       "1  52.53399   39.62853       323.1  0.75   0.77  2020-12-27       106   \n",
       "2  51.13984   37.92995       320.2  0.74   0.76  2020-12-27       106   \n",
       "3  50.92803   21.67863       304.5  0.56   0.43  2020-12-27       106   \n",
       "4  52.17157   14.62807       335.4  0.38   0.36  2020-12-27       106   \n",
       "\n",
       "  satellite confidence version  bright_ti5  frp daynight  \n",
       "0         N    nominal  2.0NRT       268.9  3.2        N  \n",
       "1         N    nominal  2.0NRT       268.1  5.8        N  \n",
       "2         N    nominal  2.0NRT       265.3  2.6        N  \n",
       "3         N    nominal  2.0NRT       270.4  0.9        N  \n",
       "4         N    nominal  2.0NRT       267.8  2.8        N  "
      ],
      "text/html": "<div>\n<style scoped>\n    .dataframe tbody tr th:only-of-type {\n        vertical-align: middle;\n    }\n\n    .dataframe tbody tr th {\n        vertical-align: top;\n    }\n\n    .dataframe thead th {\n        text-align: right;\n    }\n</style>\n<table border=\"1\" class=\"dataframe\">\n  <thead>\n    <tr style=\"text-align: right;\">\n      <th></th>\n      <th>latitude</th>\n      <th>longitude</th>\n      <th>bright_ti4</th>\n      <th>scan</th>\n      <th>track</th>\n      <th>acq_date</th>\n      <th>acq_time</th>\n      <th>satellite</th>\n      <th>confidence</th>\n      <th>version</th>\n      <th>bright_ti5</th>\n      <th>frp</th>\n      <th>daynight</th>\n    </tr>\n  </thead>\n  <tbody>\n    <tr>\n      <th>0</th>\n      <td>52.53814</td>\n      <td>39.63165</td>\n      <td>323.1</td>\n      <td>0.74</td>\n      <td>0.76</td>\n      <td>2020-12-27</td>\n      <td>106</td>\n      <td>N</td>\n      <td>nominal</td>\n      <td>2.0NRT</td>\n      <td>268.9</td>\n      <td>3.2</td>\n      <td>N</td>\n    </tr>\n    <tr>\n      <th>1</th>\n      <td>52.53399</td>\n      <td>39.62853</td>\n      <td>323.1</td>\n      <td>0.75</td>\n      <td>0.77</td>\n      <td>2020-12-27</td>\n      <td>106</td>\n      <td>N</td>\n      <td>nominal</td>\n      <td>2.0NRT</td>\n      <td>268.1</td>\n      <td>5.8</td>\n      <td>N</td>\n    </tr>\n    <tr>\n      <th>2</th>\n      <td>51.13984</td>\n      <td>37.92995</td>\n      <td>320.2</td>\n      <td>0.74</td>\n      <td>0.76</td>\n      <td>2020-12-27</td>\n      <td>106</td>\n      <td>N</td>\n      <td>nominal</td>\n      <td>2.0NRT</td>\n      <td>265.3</td>\n      <td>2.6</td>\n      <td>N</td>\n    </tr>\n    <tr>\n      <th>3</th>\n      <td>50.92803</td>\n      <td>21.67863</td>\n      <td>304.5</td>\n      <td>0.56</td>\n      <td>0.43</td>\n      <td>2020-12-27</td>\n      <td>106</td>\n      <td>N</td>\n      <td>nominal</td>\n      <td>2.0NRT</td>\n      <td>270.4</td>\n      <td>0.9</td>\n      <td>N</td>\n    </tr>\n    <tr>\n      <th>4</th>\n      <td>52.17157</td>\n      <td>14.62807</td>\n      <td>335.4</td>\n      <td>0.38</td>\n      <td>0.36</td>\n      <td>2020-12-27</td>\n      <td>106</td>\n      <td>N</td>\n      <td>nominal</td>\n      <td>2.0NRT</td>\n      <td>267.8</td>\n      <td>2.8</td>\n      <td>N</td>\n    </tr>\n  </tbody>\n</table>\n</div>"
     },
     "metadata": {},
     "execution_count": 39
    }
   ],
   "source": [
    "# Take a peek at the data\n",
    "print(df.shape)\n",
    "df.head()"
   ]
  },
  {
   "cell_type": "code",
   "execution_count": 46,
   "metadata": {},
   "outputs": [
    {
     "output_type": "stream",
     "name": "stdout",
     "text": [
      "(5000, 13)\n"
     ]
    },
    {
     "output_type": "execute_result",
     "data": {
      "text/plain": [
       "     latitude  longitude  bright_ti4  scan  track    acq_date  acq_time  \\\n",
       "67   30.40497   19.60971       367.0  0.47   0.64  2020-12-27       112   \n",
       "109  28.90356   20.95120       367.0  0.61   0.71  2020-12-27       112   \n",
       "115  28.90528   20.95246       367.0  0.61   0.71  2020-12-27       112   \n",
       "117  29.23212   19.69755       367.0  0.51   0.66  2020-12-27       112   \n",
       "128  28.91318   19.77389       367.0  0.53   0.67  2020-12-27       112   \n",
       "\n",
       "    satellite confidence version  bright_ti5   frp daynight  \n",
       "67          N       high  2.0NRT       284.6   9.2        N  \n",
       "109         N       high  2.0NRT       281.8   9.7        N  \n",
       "115         N       high  2.0NRT       283.0  31.1        N  \n",
       "117         N       high  2.0NRT       281.4   6.1        N  \n",
       "128         N       high  2.0NRT       284.5  22.8        N  "
      ],
      "text/html": "<div>\n<style scoped>\n    .dataframe tbody tr th:only-of-type {\n        vertical-align: middle;\n    }\n\n    .dataframe tbody tr th {\n        vertical-align: top;\n    }\n\n    .dataframe thead th {\n        text-align: right;\n    }\n</style>\n<table border=\"1\" class=\"dataframe\">\n  <thead>\n    <tr style=\"text-align: right;\">\n      <th></th>\n      <th>latitude</th>\n      <th>longitude</th>\n      <th>bright_ti4</th>\n      <th>scan</th>\n      <th>track</th>\n      <th>acq_date</th>\n      <th>acq_time</th>\n      <th>satellite</th>\n      <th>confidence</th>\n      <th>version</th>\n      <th>bright_ti5</th>\n      <th>frp</th>\n      <th>daynight</th>\n    </tr>\n  </thead>\n  <tbody>\n    <tr>\n      <th>67</th>\n      <td>30.40497</td>\n      <td>19.60971</td>\n      <td>367.0</td>\n      <td>0.47</td>\n      <td>0.64</td>\n      <td>2020-12-27</td>\n      <td>112</td>\n      <td>N</td>\n      <td>high</td>\n      <td>2.0NRT</td>\n      <td>284.6</td>\n      <td>9.2</td>\n      <td>N</td>\n    </tr>\n    <tr>\n      <th>109</th>\n      <td>28.90356</td>\n      <td>20.95120</td>\n      <td>367.0</td>\n      <td>0.61</td>\n      <td>0.71</td>\n      <td>2020-12-27</td>\n      <td>112</td>\n      <td>N</td>\n      <td>high</td>\n      <td>2.0NRT</td>\n      <td>281.8</td>\n      <td>9.7</td>\n      <td>N</td>\n    </tr>\n    <tr>\n      <th>115</th>\n      <td>28.90528</td>\n      <td>20.95246</td>\n      <td>367.0</td>\n      <td>0.61</td>\n      <td>0.71</td>\n      <td>2020-12-27</td>\n      <td>112</td>\n      <td>N</td>\n      <td>high</td>\n      <td>2.0NRT</td>\n      <td>283.0</td>\n      <td>31.1</td>\n      <td>N</td>\n    </tr>\n    <tr>\n      <th>117</th>\n      <td>29.23212</td>\n      <td>19.69755</td>\n      <td>367.0</td>\n      <td>0.51</td>\n      <td>0.66</td>\n      <td>2020-12-27</td>\n      <td>112</td>\n      <td>N</td>\n      <td>high</td>\n      <td>2.0NRT</td>\n      <td>281.4</td>\n      <td>6.1</td>\n      <td>N</td>\n    </tr>\n    <tr>\n      <th>128</th>\n      <td>28.91318</td>\n      <td>19.77389</td>\n      <td>367.0</td>\n      <td>0.53</td>\n      <td>0.67</td>\n      <td>2020-12-27</td>\n      <td>112</td>\n      <td>N</td>\n      <td>high</td>\n      <td>2.0NRT</td>\n      <td>284.5</td>\n      <td>22.8</td>\n      <td>N</td>\n    </tr>\n  </tbody>\n</table>\n</div>"
     },
     "metadata": {},
     "execution_count": 46
    }
   ],
   "source": [
    "# Subset to high confidence fires\r\n",
    "high_conf_fires = df.loc[df['confidence'] == 'high']\r\n",
    "print(high_conf_fires.shape)\r\n",
    "high_conf_fires.head()"
   ]
  },
  {
   "cell_type": "code",
   "execution_count": 23,
   "metadata": {},
   "outputs": [
    {
     "output_type": "execute_result",
     "data": {
      "text/plain": [
       "<folium.folium.Map at 0x1e167f01cd0>"
      ],
      "text/html": "<div style=\"width:100%;\"><div style=\"position:relative;width:100%;height:0;padding-bottom:60%;\"><span style=\"color:#565656\">Make this Notebook Trusted to load map: File -> Trust Notebook</span><iframe src=\"about:blank\" style=\"position:absolute;width:100%;height:100%;left:0;top:0;border:none !important;\" data-html=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 onload=\"this.contentDocument.open();this.contentDocument.write(atob(this.getAttribute('data-html')));this.contentDocument.close();\" allowfullscreen webkitallowfullscreen mozallowfullscreen></iframe></div></div>"
     },
     "metadata": {},
     "execution_count": 23
    }
   ],
   "source": [
    "Map(\n",
    "    tiles=\"cartodbpositron\",\n",
    "    location=[37.0902, -95.7129],\n",
    "    zoom_start=3\n",
    ")"
   ]
  }
 ]
}